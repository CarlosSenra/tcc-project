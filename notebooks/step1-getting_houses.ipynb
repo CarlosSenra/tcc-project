{
 "cells": [
  {
   "cell_type": "markdown",
   "metadata": {},
   "source": [
    "# Importante\n",
    "Neste notebook estou pegando as casa que utilizei para treinar meus modelos de temporal fusion transformers na primeira parte do meu trabalho de conclusão de curso.\n",
    "\n",
    "Estou pegando novamente pois nos scripts anterior eu simplesmente peguei as casa de forma aleatoria dentro dos grupos ACORN e não separei as casas, e apliquei logo em seguida o tratamento de dados para aplicar\n",
    "no tft dados. \n",
    "\n",
    "O problema está em que o formato dos dados que eu tratei para inserir no TFT não funciona em modelos como propeth ou modelos comuns de series temporais já que eles precisam de ma variavel de tempo com o tipo\n",
    "timestamp, o que nos dados tratados para inserir no TFT não existe."
   ]
  },
  {
   "cell_type": "code",
   "execution_count": 10,
   "metadata": {},
   "outputs": [],
   "source": [
    "import pandas as pd\n",
    "import re\n",
    "import os"
   ]
  },
  {
   "cell_type": "markdown",
   "metadata": {},
   "source": [
    "abaixo consta os nomes dos csv's que usei na primeira parte do TCC\n",
    "\n",
    "com ele crio um dicionario com as chaves sendo os blocos e os valores as listas de cass dentro de cada um dos blocos selecionados."
   ]
  },
  {
   "cell_type": "code",
   "execution_count": 8,
   "metadata": {},
   "outputs": [
    {
     "name": "stdout",
     "output_type": "stream",
     "text": [
      "{'block_10': ['MAC001221', 'MAC001402', 'MAC001869', 'MAC002036', 'MAC004178'], 'block_11': ['MAC001980'], 'block_12': ['MAC002752'], 'block_13': ['MAC005411'], 'block_14': ['MAC002635'], 'block_16': ['MAC002096'], 'block_17': ['MAC002007'], 'block_18': ['MAC005491'], 'block_19': ['MAC002250', 'MAC002259', 'MAC005426', 'MAC005566'], 'block_21': ['MAC004390', 'MAC004531'], 'block_22': ['MAC004694', 'MAC004736'], 'block_23': ['MAC000164', 'MAC004618', 'MAC004625'], 'block_25': ['MAC003004', 'MAC004233'], 'block_26': ['MAC002966', 'MAC003075'], 'block_27': ['MAC003016', 'MAC005235'], 'block_28': ['MAC004895', 'MAC004904', 'MAC005217'], 'block_30': ['MAC000274', 'MAC003114'], 'block_31': ['MAC001378'], 'block_32': ['MAC001433', 'MAC002686'], 'block_33': ['MAC000351', 'MAC002099', 'MAC004926', 'MAC004965'], 'block_34': ['MAC001452', 'MAC002265'], 'block_35': ['MAC001111'], 'block_37': ['MAC000782', 'MAC000861'], 'block_39': ['MAC001651', 'MAC001905'], 'block_40': ['MAC000459', 'MAC005359'], 'block_100': ['MAC002775', 'MAC002824', 'MAC002856', 'MAC002898', 'MAC003020'], 'block_102': ['MAC003964', 'MAC003980', 'MAC003996', 'MAC004129'], 'block_103': ['MAC004513'], 'block_104': ['MAC000090', 'MAC004395', 'MAC004481'], 'block_105': ['MAC002054', 'MAC002128'], 'block_106': ['MAC000077', 'MAC000653', 'MAC001460', 'MAC002318'], 'block_107': ['MAC001672', 'MAC001673', 'MAC001744', 'MAC001785'], 'block_108': ['MAC005528'], 'block_109': ['MAC000529', 'MAC002196', 'MAC002293', 'MAC005547'], 'block_110': ['MAC002175'], 'block_91': ['MAC000350', 'MAC001165'], 'block_93': ['MAC000449', 'MAC004547'], 'block_94': ['MAC000838', 'MAC000870', 'MAC004366'], 'block_95': ['MAC000006', 'MAC000365', 'MAC004066'], 'block_96': ['MAC001188', 'MAC001243'], 'block_97': ['MAC000696', 'MAC001035', 'MAC001041', 'MAC001314'], 'block_98': ['MAC001062', 'MAC004064', 'MAC004892', 'MAC004934'], 'block_99': ['MAC004745', 'MAC004771', 'MAC004799']}\n"
     ]
    }
   ],
   "source": [
    "list_csv = [\n",
    "    \"establishedAffluence_block_10_MAC001221.csv\",\n",
    "    \"establishedAffluence_block_10_MAC001402.csv\",\n",
    "    \"establishedAffluence_block_10_MAC001869.csv\",\n",
    "    \"establishedAffluence_block_10_MAC002036.csv\",\n",
    "    \"establishedAffluence_block_10_MAC004178.csv\",\n",
    "    \"establishedAffluence_block_11_MAC001980.csv\",\n",
    "    \"establishedAffluence_block_12_MAC002752.csv\",\n",
    "    \"establishedAffluence_block_13_MAC005411.csv\",\n",
    "    \"establishedAffluence_block_14_MAC002635.csv\",\n",
    "    \"establishedAffluence_block_16_MAC002096.csv\",\n",
    "    \"establishedAffluence_block_17_MAC002007.csv\",\n",
    "    \"establishedAffluence_block_18_MAC005491.csv\",\n",
    "    \"establishedAffluence_block_19_MAC002250.csv\",\n",
    "    \"establishedAffluence_block_19_MAC002259.csv\",\n",
    "    \"establishedAffluence_block_19_MAC005426.csv\",\n",
    "    \"establishedAffluence_block_19_MAC005566.csv\",\n",
    "    \"establishedAffluence_block_21_MAC004390.csv\",\n",
    "    \"establishedAffluence_block_21_MAC004531.csv\",\n",
    "    \"establishedAffluence_block_22_MAC004694.csv\",\n",
    "    \"establishedAffluence_block_22_MAC004736.csv\",\n",
    "    \"establishedAffluence_block_23_MAC000164.csv\",\n",
    "    \"establishedAffluence_block_23_MAC004618.csv\",\n",
    "    \"establishedAffluence_block_23_MAC004625.csv\",\n",
    "    \"establishedAffluence_block_25_MAC003004.csv\",\n",
    "    \"establishedAffluence_block_25_MAC004233.csv\",\n",
    "    \"establishedAffluence_block_26_MAC002966.csv\",\n",
    "    \"establishedAffluence_block_26_MAC003075.csv\",\n",
    "    \"establishedAffluence_block_27_MAC003016.csv\",\n",
    "    \"establishedAffluence_block_27_MAC005235.csv\",\n",
    "    \"establishedAffluence_block_28_MAC004895.csv\",\n",
    "    \"establishedAffluence_block_28_MAC004904.csv\",\n",
    "    \"establishedAffluence_block_28_MAC005217.csv\",\n",
    "    \"establishedAffluence_block_30_MAC000274.csv\",\n",
    "    \"establishedAffluence_block_30_MAC003114.csv\",\n",
    "    \"establishedAffluence_block_31_MAC001378.csv\",\n",
    "    \"establishedAffluence_block_32_MAC001433.csv\",\n",
    "    \"establishedAffluence_block_32_MAC002686.csv\",\n",
    "    \"establishedAffluence_block_33_MAC000351.csv\",\n",
    "    \"establishedAffluence_block_33_MAC002099.csv\",\n",
    "    \"establishedAffluence_block_33_MAC004926.csv\",\n",
    "    \"establishedAffluence_block_33_MAC004965.csv\",\n",
    "    \"establishedAffluence_block_34_MAC001452.csv\",\n",
    "    \"establishedAffluence_block_34_MAC002265.csv\",\n",
    "    \"establishedAffluence_block_35_MAC001111.csv\",\n",
    "    \"establishedAffluence_block_37_MAC000782.csv\",\n",
    "    \"establishedAffluence_block_37_MAC000861.csv\",\n",
    "    \"establishedAffluence_block_39_MAC001651.csv\",\n",
    "    \"establishedAffluence_block_39_MAC001905.csv\",\n",
    "    \"establishedAffluence_block_40_MAC000459.csv\",\n",
    "    \"establishedAffluence_block_40_MAC005359.csv\",\n",
    "    \"stretchedSociety_block_100_MAC002775.csv\",\n",
    "    \"stretchedSociety_block_100_MAC002824.csv\",\n",
    "    \"stretchedSociety_block_100_MAC002856.csv\",\n",
    "    \"stretchedSociety_block_100_MAC002898.csv\",\n",
    "    \"stretchedSociety_block_100_MAC003020.csv\",\n",
    "    \"stretchedSociety_block_102_MAC003964.csv\",\n",
    "    \"stretchedSociety_block_102_MAC003980.csv\",\n",
    "    \"stretchedSociety_block_102_MAC003996.csv\",\n",
    "    \"stretchedSociety_block_102_MAC004129.csv\",\n",
    "    \"stretchedSociety_block_103_MAC004513.csv\",\n",
    "    \"stretchedSociety_block_104_MAC000090.csv\",\n",
    "    \"stretchedSociety_block_104_MAC004395.csv\",\n",
    "    \"stretchedSociety_block_104_MAC004481.csv\",\n",
    "    \"stretchedSociety_block_105_MAC002054.csv\",\n",
    "    \"stretchedSociety_block_105_MAC002128.csv\",\n",
    "    \"stretchedSociety_block_106_MAC000077.csv\",\n",
    "    \"stretchedSociety_block_106_MAC000653.csv\",\n",
    "    \"stretchedSociety_block_106_MAC001460.csv\",\n",
    "    \"stretchedSociety_block_106_MAC002318.csv\",\n",
    "    \"stretchedSociety_block_107_MAC001672.csv\",\n",
    "    \"stretchedSociety_block_107_MAC001673.csv\",\n",
    "    \"stretchedSociety_block_107_MAC001744.csv\",\n",
    "    \"stretchedSociety_block_107_MAC001785.csv\",\n",
    "    \"stretchedSociety_block_108_MAC005528.csv\",\n",
    "    \"stretchedSociety_block_109_MAC000529.csv\",\n",
    "    \"stretchedSociety_block_109_MAC002196.csv\",\n",
    "    \"stretchedSociety_block_109_MAC002293.csv\",\n",
    "    \"stretchedSociety_block_109_MAC005547.csv\",\n",
    "    \"stretchedSociety_block_110_MAC002175.csv\",\n",
    "    \"stretchedSociety_block_91_MAC000350.csv\",\n",
    "    \"stretchedSociety_block_91_MAC001165.csv\",\n",
    "    \"stretchedSociety_block_93_MAC000449.csv\",\n",
    "    \"stretchedSociety_block_93_MAC004547.csv\",\n",
    "    \"stretchedSociety_block_94_MAC000838.csv\",\n",
    "    \"stretchedSociety_block_94_MAC000870.csv\",\n",
    "    \"stretchedSociety_block_94_MAC004366.csv\",\n",
    "    \"stretchedSociety_block_95_MAC000006.csv\",\n",
    "    \"stretchedSociety_block_95_MAC000365.csv\",\n",
    "    \"stretchedSociety_block_95_MAC004066.csv\",\n",
    "    \"stretchedSociety_block_96_MAC001188.csv\",\n",
    "    \"stretchedSociety_block_96_MAC001243.csv\",\n",
    "    \"stretchedSociety_block_97_MAC000696.csv\",\n",
    "    \"stretchedSociety_block_97_MAC001035.csv\",\n",
    "    \"stretchedSociety_block_97_MAC001041.csv\",\n",
    "    \"stretchedSociety_block_97_MAC001314.csv\",\n",
    "    \"stretchedSociety_block_98_MAC001062.csv\",\n",
    "    \"stretchedSociety_block_98_MAC004064.csv\",\n",
    "    \"stretchedSociety_block_98_MAC004892.csv\",\n",
    "    \"stretchedSociety_block_98_MAC004934.csv\",\n",
    "    \"stretchedSociety_block_99_MAC004745.csv\",\n",
    "    \"stretchedSociety_block_99_MAC004771.csv\",\n",
    "    \"stretchedSociety_block_99_MAC004799.csv\"\n",
    "]\n",
    "\n",
    "block_mac_dict = {}\n",
    "\n",
    "for filename in list_csv:\n",
    "    match = re.search(r'(block_\\d+)_(MAC\\d+)', filename)\n",
    "    if match:\n",
    "        block = match.group(1)\n",
    "        mac = match.group(2)\n",
    "        if block not in block_mac_dict:\n",
    "            block_mac_dict[block] = []\n",
    "        block_mac_dict[block].append(mac)\n",
    "\n",
    "print(block_mac_dict)"
   ]
  },
  {
   "cell_type": "code",
   "execution_count": 23,
   "metadata": {},
   "outputs": [
    {
     "name": "stderr",
     "output_type": "stream",
     "text": [
      "/tmp/ipykernel_1051812/2972688001.py:3: DtypeWarning: Columns (2) have mixed types. Specify dtype option on import or set low_memory=False.\n",
      "  df = pd.read_csv(f'../EDA/halfhourly_dataset/halfhourly_dataset/{block}.csv')\n",
      "/tmp/ipykernel_1051812/2972688001.py:3: DtypeWarning: Columns (2) have mixed types. Specify dtype option on import or set low_memory=False.\n",
      "  df = pd.read_csv(f'../EDA/halfhourly_dataset/halfhourly_dataset/{block}.csv')\n",
      "/tmp/ipykernel_1051812/2972688001.py:3: DtypeWarning: Columns (2) have mixed types. Specify dtype option on import or set low_memory=False.\n",
      "  df = pd.read_csv(f'../EDA/halfhourly_dataset/halfhourly_dataset/{block}.csv')\n",
      "/tmp/ipykernel_1051812/2972688001.py:3: DtypeWarning: Columns (2) have mixed types. Specify dtype option on import or set low_memory=False.\n",
      "  df = pd.read_csv(f'../EDA/halfhourly_dataset/halfhourly_dataset/{block}.csv')\n",
      "/tmp/ipykernel_1051812/2972688001.py:3: DtypeWarning: Columns (2) have mixed types. Specify dtype option on import or set low_memory=False.\n",
      "  df = pd.read_csv(f'../EDA/halfhourly_dataset/halfhourly_dataset/{block}.csv')\n"
     ]
    }
   ],
   "source": [
    "list_df_houses = []\n",
    "for block,house_list in block_mac_dict.items():\n",
    "    df = pd.read_csv(f'../EDA/halfhourly_dataset/halfhourly_dataset/{block}.csv')\n",
    "    for house in house_list:\n",
    "        df_filtred = df[df.LCLid == house]\n",
    "        df_filtred.to_csv(f'../EDA/tft_houses/{block}_{house}.csv')\n"
   ]
  },
  {
   "cell_type": "code",
   "execution_count": 25,
   "metadata": {},
   "outputs": [
    {
     "data": {
      "text/plain": [
       "102"
      ]
     },
     "execution_count": 25,
     "metadata": {},
     "output_type": "execute_result"
    }
   ],
   "source": [
    "len(os.listdir('../EDA/tft_houses/'))"
   ]
  }
 ],
 "metadata": {
  "kernelspec": {
   "display_name": "tensorflow-park",
   "language": "python",
   "name": "python3"
  },
  "language_info": {
   "codemirror_mode": {
    "name": "ipython",
    "version": 3
   },
   "file_extension": ".py",
   "mimetype": "text/x-python",
   "name": "python",
   "nbconvert_exporter": "python",
   "pygments_lexer": "ipython3",
   "version": "3.10.14"
  }
 },
 "nbformat": 4,
 "nbformat_minor": 2
}
