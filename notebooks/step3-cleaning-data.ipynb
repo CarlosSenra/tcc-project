{
 "cells": [
  {
   "cell_type": "code",
   "execution_count": 1,
   "metadata": {},
   "outputs": [],
   "source": [
    "import pandas as pd\n",
    "import numpy as np\n",
    "import random\n",
    "import os\n",
    "import json\n",
    "from omegaconf import OmegaConf"
   ]
  },
  {
   "cell_type": "code",
   "execution_count": 23,
   "metadata": {},
   "outputs": [],
   "source": [
    "conf = OmegaConf.load('../config.yaml')"
   ]
  },
  {
   "cell_type": "code",
   "execution_count": 24,
   "metadata": {},
   "outputs": [
    {
     "data": {
      "text/plain": [
       "{'EDA': {'staging_data_folder': 'tft_houses/', 'clean_data_folder': 'dataframe_model/', 'df_information_houses': 'informations_households.csv', 'df_uk_holidays': 'uk_bank_holidays.csv', 'df_weather': 'weather_hourly_darksky.csv'}}"
      ]
     },
     "execution_count": 24,
     "metadata": {},
     "output_type": "execute_result"
    }
   ],
   "source": [
    "conf"
   ]
  },
  {
   "cell_type": "code",
   "execution_count": 30,
   "metadata": {},
   "outputs": [],
   "source": [
    "def read_house_csv(csv_file):\n",
    "    df = pd.read_csv(\"../EDA/\" + conf[\"EDA\"][\"staging_data_folder\"] + csv_file)\n",
    "    return df "
   ]
  },
  {
   "cell_type": "code",
   "execution_count": 72,
   "metadata": {},
   "outputs": [
    {
     "name": "stdout",
     "output_type": "stream",
     "text": [
      "   Unnamed: 0      LCLid                         tstp energy(kWh/hh)\n",
      "0      309822  MAC001221  2012-05-14 08:00:00.0000000          0.34 \n",
      "1      309823  MAC001221  2012-05-14 08:30:00.0000000         0.321 \n",
      "2      309824  MAC001221  2012-05-14 09:00:00.0000000         1.041 \n",
      "3      309825  MAC001221  2012-05-14 09:30:00.0000000         0.345 \n",
      "4      309826  MAC001221  2012-05-14 10:00:00.0000000         0.311 \n"
     ]
    }
   ],
   "source": [
    "teste = read_house_csv(\"establishedAffluence_block_10_MAC001221.csv\")\n",
    "print(teste.head())"
   ]
  },
  {
   "cell_type": "code",
   "execution_count": 86,
   "metadata": {},
   "outputs": [
    {
     "data": {
      "text/html": [
       "<div>\n",
       "<style scoped>\n",
       "    .dataframe tbody tr th:only-of-type {\n",
       "        vertical-align: middle;\n",
       "    }\n",
       "\n",
       "    .dataframe tbody tr th {\n",
       "        vertical-align: top;\n",
       "    }\n",
       "\n",
       "    .dataframe thead th {\n",
       "        text-align: right;\n",
       "    }\n",
       "</style>\n",
       "<table border=\"1\" class=\"dataframe\">\n",
       "  <thead>\n",
       "    <tr style=\"text-align: right;\">\n",
       "      <th></th>\n",
       "      <th>Unnamed: 0</th>\n",
       "      <th>LCLid</th>\n",
       "      <th>tstp</th>\n",
       "      <th>energy(kWh/hh)</th>\n",
       "    </tr>\n",
       "  </thead>\n",
       "  <tbody>\n",
       "  </tbody>\n",
       "</table>\n",
       "</div>"
      ],
      "text/plain": [
       "Empty DataFrame\n",
       "Columns: [Unnamed: 0, LCLid, tstp, energy(kWh/hh)]\n",
       "Index: []"
      ]
     },
     "execution_count": 86,
     "metadata": {},
     "output_type": "execute_result"
    }
   ],
   "source": [
    "teste[teste[\"energy(kWh/hh)\"].isin([\"Null\"])]"
   ]
  },
  {
   "cell_type": "code",
   "execution_count": 81,
   "metadata": {},
   "outputs": [
    {
     "data": {
      "text/plain": [
       "Index([10431], dtype='int64')"
      ]
     },
     "execution_count": 81,
     "metadata": {},
     "output_type": "execute_result"
    }
   ],
   "source": [
    "teste[teste[\"energy(kWh/hh)\"].isin([\"Null\"])][\"energy(kWh/hh)\"].index"
   ]
  },
  {
   "cell_type": "code",
   "execution_count": 85,
   "metadata": {},
   "outputs": [],
   "source": [
    "df.iloc[df[df[\"energy(kWh/hh)\"].isin([\"Null\"])][\"energy(kWh/hh)\"].index,3] = '0'"
   ]
  },
  {
   "cell_type": "code",
   "execution_count": 27,
   "metadata": {},
   "outputs": [
    {
     "data": {
      "text/plain": [
       "'uk_bank_holidays.csv'"
      ]
     },
     "execution_count": 27,
     "metadata": {},
     "output_type": "execute_result"
    }
   ],
   "source": [
    "conf[\"EDA\"][\"df_uk_holidays\"]"
   ]
  },
  {
   "cell_type": "code",
   "execution_count": 91,
   "metadata": {},
   "outputs": [],
   "source": [
    "def get_household(csv_file):\n",
    "    def read_house_csv(csv_file):\n",
    "        df = pd.read_csv(\"../EDA/\" + conf[\"EDA\"][\"staging_data_folder\"] + csv_file)\n",
    "        return df \n",
    "\n",
    "    holidays = pd.read_csv(\"../EDA/\"+ conf[\"EDA\"][\"df_uk_holidays\"])\n",
    "    holidays['Bank holidays'] = pd.to_datetime(holidays['Bank holidays'])\n",
    "    holidays = holidays.loc[(holidays['Bank holidays'].dt.year >= 2013)]\n",
    "    df = read_house_csv(csv_file)\n",
    "    df = df.rename(columns={'LCLid':'house_hold','tstp':'time','energy(kWh/hh)':'Energy_kwh'})\n",
    "    df.iloc[df[df[\"Energy_kwh\"].isin([\"Null\"])][\"Energy_kwh\"].index,3] = '0'\n",
    "    df.Energy_kwh = pd.to_numeric(df.Energy_kwh)\n",
    "    df.time = pd.to_datetime(df.time)\n",
    "    df = df.loc[((df['time'].dt.year >= 2013) & (df.time.dt.month.isin([1,2,3,4,5,6,7,8,9,10,11,12]))) | (df['time'].dt.year == 2014)]\n",
    "    df['holiday'] = df['time'].isin(holidays['Bank holidays']) #(df.time.dt.day_of_week >= 5) | (df['time'].isin(holidays['Bank holidays']))\n",
    "    df['holiday'] = df['holiday'].astype(int)\n",
    "    #df = df[df.house_hold == house_selected]\n",
    "    \n",
    "    return df"
   ]
  },
  {
   "cell_type": "code",
   "execution_count": 92,
   "metadata": {},
   "outputs": [],
   "source": [
    "df_teste = get_household(\"establishedAffluence_block_10_MAC001221.csv\")"
   ]
  },
  {
   "cell_type": "code",
   "execution_count": 93,
   "metadata": {},
   "outputs": [
    {
     "name": "stdout",
     "output_type": "stream",
     "text": [
      "(10153, 3)\n"
     ]
    },
    {
     "data": {
      "text/html": [
       "<div>\n",
       "<style scoped>\n",
       "    .dataframe tbody tr th:only-of-type {\n",
       "        vertical-align: middle;\n",
       "    }\n",
       "\n",
       "    .dataframe tbody tr th {\n",
       "        vertical-align: top;\n",
       "    }\n",
       "\n",
       "    .dataframe thead th {\n",
       "        text-align: right;\n",
       "    }\n",
       "</style>\n",
       "<table border=\"1\" class=\"dataframe\">\n",
       "  <thead>\n",
       "    <tr style=\"text-align: right;\">\n",
       "      <th></th>\n",
       "      <th>time</th>\n",
       "      <th>Energy_kwh</th>\n",
       "      <th>house_hold</th>\n",
       "    </tr>\n",
       "  </thead>\n",
       "  <tbody>\n",
       "    <tr>\n",
       "      <th>0</th>\n",
       "      <td>2013-01-01 00:00:00</td>\n",
       "      <td>1.177</td>\n",
       "      <td>MAC001221</td>\n",
       "    </tr>\n",
       "    <tr>\n",
       "      <th>1</th>\n",
       "      <td>2013-01-01 01:00:00</td>\n",
       "      <td>0.756</td>\n",
       "      <td>MAC001221</td>\n",
       "    </tr>\n",
       "    <tr>\n",
       "      <th>2</th>\n",
       "      <td>2013-01-01 02:00:00</td>\n",
       "      <td>0.328</td>\n",
       "      <td>MAC001221</td>\n",
       "    </tr>\n",
       "    <tr>\n",
       "      <th>3</th>\n",
       "      <td>2013-01-01 03:00:00</td>\n",
       "      <td>0.403</td>\n",
       "      <td>MAC001221</td>\n",
       "    </tr>\n",
       "    <tr>\n",
       "      <th>4</th>\n",
       "      <td>2013-01-01 04:00:00</td>\n",
       "      <td>0.561</td>\n",
       "      <td>MAC001221</td>\n",
       "    </tr>\n",
       "    <tr>\n",
       "      <th>...</th>\n",
       "      <td>...</td>\n",
       "      <td>...</td>\n",
       "      <td>...</td>\n",
       "    </tr>\n",
       "    <tr>\n",
       "      <th>10148</th>\n",
       "      <td>2014-02-27 20:00:00</td>\n",
       "      <td>1.097</td>\n",
       "      <td>MAC001221</td>\n",
       "    </tr>\n",
       "    <tr>\n",
       "      <th>10149</th>\n",
       "      <td>2014-02-27 21:00:00</td>\n",
       "      <td>0.654</td>\n",
       "      <td>MAC001221</td>\n",
       "    </tr>\n",
       "    <tr>\n",
       "      <th>10150</th>\n",
       "      <td>2014-02-27 22:00:00</td>\n",
       "      <td>0.647</td>\n",
       "      <td>MAC001221</td>\n",
       "    </tr>\n",
       "    <tr>\n",
       "      <th>10151</th>\n",
       "      <td>2014-02-27 23:00:00</td>\n",
       "      <td>0.497</td>\n",
       "      <td>MAC001221</td>\n",
       "    </tr>\n",
       "    <tr>\n",
       "      <th>10152</th>\n",
       "      <td>2014-02-28 00:00:00</td>\n",
       "      <td>0.104</td>\n",
       "      <td>MAC001221</td>\n",
       "    </tr>\n",
       "  </tbody>\n",
       "</table>\n",
       "<p>10153 rows × 3 columns</p>\n",
       "</div>"
      ],
      "text/plain": [
       "                     time  Energy_kwh house_hold\n",
       "0     2013-01-01 00:00:00       1.177  MAC001221\n",
       "1     2013-01-01 01:00:00       0.756  MAC001221\n",
       "2     2013-01-01 02:00:00       0.328  MAC001221\n",
       "3     2013-01-01 03:00:00       0.403  MAC001221\n",
       "4     2013-01-01 04:00:00       0.561  MAC001221\n",
       "...                   ...         ...        ...\n",
       "10148 2014-02-27 20:00:00       1.097  MAC001221\n",
       "10149 2014-02-27 21:00:00       0.654  MAC001221\n",
       "10150 2014-02-27 22:00:00       0.647  MAC001221\n",
       "10151 2014-02-27 23:00:00       0.497  MAC001221\n",
       "10152 2014-02-28 00:00:00       0.104  MAC001221\n",
       "\n",
       "[10153 rows x 3 columns]"
      ]
     },
     "execution_count": 93,
     "metadata": {},
     "output_type": "execute_result"
    }
   ],
   "source": [
    "def transform_half_in_hourly(df : pd.DataFrame):\n",
    "    \"\"\" \n",
    "        Description : a function where transform a dataframe with a halfhourly datetime in a hourly datetime dataframe\n",
    "        Input : df : pd.Dataframe\n",
    "        return : df : pd.Dataframe\n",
    "    \"\"\"\n",
    "    list_df = []\n",
    "    for house in df.house_hold.unique():\n",
    "        df_temp = df[df['house_hold'] == house]\n",
    "        df_temp = df[['time','Energy_kwh']]\n",
    "        df_temp.set_index('time',inplace=True)\n",
    "        df_temp = df_temp.resample('h').sum()\n",
    "        df_temp['house_hold'] = house\n",
    "        df_temp = df_temp.reset_index()\n",
    "        list_df.append(df_temp)\n",
    "    df_final = pd.concat(list_df, ignore_index=True)\n",
    "    print(df_final.shape)\n",
    "    return df_final\n",
    "\n",
    "transform_half_in_hourly(df_teste)"
   ]
  },
  {
   "cell_type": "code",
   "execution_count": null,
   "metadata": {},
   "outputs": [],
   "source": []
  },
  {
   "cell_type": "code",
   "execution_count": null,
   "metadata": {},
   "outputs": [],
   "source": [
    "\n",
    "def get_household(house):\n",
    "    block = house.split('_')[1] + '_' + house.split('_')[2]\n",
    "    house_selected = house.split('_')[-1]\n",
    "    holidays = pd.read_csv('uk_bank_holidays.csv')\n",
    "    holidays['Bank holidays'] = pd.to_datetime(holidays['Bank holidays'])\n",
    "    holidays = holidays.loc[(holidays['Bank holidays'].dt.year >= 2013)]\n",
    "    df = pd.read_csv(f'halfhourly_dataset/halfhourly_dataset/{block}.csv')\n",
    "    df = df.rename(columns={'LCLid':'house_hold','tstp':'time','energy(kWh/hh)':'Energy_kwh'})\n",
    "    df.iloc[df[df.Energy_kwh == 'Null'].Energy_kwh.index,2] = '0'\n",
    "    df.Energy_kwh = pd.to_numeric(df.Energy_kwh)\n",
    "    df.time = pd.to_datetime(df.time)\n",
    "    df = df.loc[((df['time'].dt.year >= 2013) & (df.time.dt.month.isin([1,2,3,4,5,6,7,8,9,10,11,12]))) | (df['time'].dt.year == 2014)]\n",
    "    df['holiday'] = df['time'].isin(holidays['Bank holidays']) #(df.time.dt.day_of_week >= 5) | (df['time'].isin(holidays['Bank holidays']))\n",
    "    df['holiday'] = df['holiday'].astype(int)\n",
    "    #df = df[df.house_hold == house_selected]\n",
    "    print(df.head())\n",
    "    \n",
    "    return df, house\n",
    "\n",
    "def transform_half_in_hourly(df : pd.DataFrame):\n",
    "    \"\"\" \n",
    "        Description : a function where transform a dataframe with a halfhourly datetime in a hourly datetime dataframe\n",
    "        Input : df : pd.Dataframe\n",
    "        return : df : pd.Dataframe\n",
    "    \"\"\"\n",
    "    list_df = []\n",
    "    for house in df.house_hold.unique():\n",
    "        df_temp = df[df['house_hold'] == house]\n",
    "        df_temp = df[['time','Energy_kwh']]\n",
    "        df_temp.set_index('time',inplace=True)\n",
    "        df_temp = df_temp.resample('h').sum()\n",
    "        df_temp['house_hold'] = house\n",
    "        df_temp = df_temp.reset_index()\n",
    "        list_df.append(df_temp)\n",
    "    df_final = pd.concat(list_df, ignore_index=True)\n",
    "    print(df_final.shape)\n",
    "    return df_final\n",
    "\n",
    "\n",
    "def add_weater_data(df:pd.DataFrame,df_weather:pd.DataFrame):\n",
    "    df_merged = pd.merge(df,df_weather,how='left',on = 'time')\n",
    "    print(df_merged.head())\n",
    "    return df_merged\n",
    "\n",
    "def add_holidays(df:pd.DataFrame):\n",
    "    holidays = pd.read_csv('uk_bank_holidays.csv')\n",
    "    holidays['Bank holidays'] = pd.to_datetime(holidays['Bank holidays'])\n",
    "    holidays = holidays.loc[(holidays['Bank holidays'].dt.year >= 2013)]\n",
    "    df['holiday'] = df['time'].isin(holidays['Bank holidays']) #(df.time.dt.day_of_week >= 5) | (df['time'].isin(holidays['Bank holidays']))\n",
    "    df['holiday'] = df['holiday'].astype(int)\n",
    "    return df\n",
    "\n",
    "def add_bool_weather_missing_values(df:pd.DataFrame):\n",
    "    df['bool_weather_missing_values'] = df['temperature'].apply(lambda x: 1 if x == np.nan else 0)\n",
    "    return df\n",
    "\n",
    "def dict_of_dict_labels(df:pd.DataFrame):\n",
    "    \"\"\"a function where get all categorical columns in a df and save ache categorie as a number in a dict, for the end all dicts is added in a final dict\n",
    "    \"\"\"\n",
    "    dict_of_dict_labels = {}\n",
    "    categorical_cols = df.select_dtypes(include='object').columns\n",
    "    for column in categorical_cols:\n",
    "        dict_label = {}\n",
    "        catogories = df[column].unique()\n",
    "        for i in range(len(catogories)):\n",
    "            dict_label[catogories[i]] = i\n",
    "        dict_of_dict_labels[column] = dict_label\n",
    "    \n",
    "    return dict_of_dict_labels\n",
    "\n",
    "def labeling_categorical_features(df:pd.DataFrame):\n",
    "    dict_labels = dict_of_dict_labels(df)\n",
    "    \n",
    "    for key,value in dict_labels.items(): #value is a dict\n",
    "        label_dict = {k: v for k, v in value.items()}\n",
    "        df[key] = df[key].map(label_dict).astype(str)\n",
    "    \n",
    "    return df, dict_labels\n",
    "\n",
    "\n",
    "#if add a diferent feature in the future change this function\n",
    "def feature_eng_function(df:pd.DataFrame):\n",
    "    #df['year'] = df['time'].dt.year.astype(str)\n",
    "    #df['month'] = df['time'].dt.month.astype(str)\n",
    "    #df['day'] = df['time'].dt.day.astype(str)\n",
    "    #df['hour'] = df['time'].dt.hour.astype(str)\n",
    "    #df['dayofweek_num'] = df['time'].dt.weekday.astype(str)\n",
    "    df['temperature'] = df['temperature'].apply(lambda x: 0 if x == np.nan else x)\n",
    "    df['windSpeed'] = df['windSpeed'].apply(lambda x: 0 if x == np.nan else x)\n",
    "    df, dict_labels = labeling_categorical_features(df)\n",
    "    return df, dict_labels\n",
    "\n",
    "\n",
    "def save_json(dict_labels,house_selcted):\n",
    "    file_path = f'{house_selcted}.json'  \n",
    "\n",
    "    with open(file_path, \"w\") as f:\n",
    "        json.dump(dict_labels, f)\n",
    "        \n",
    "    source_path = f'{house_selcted}.json'\n",
    "    destination_path = f'json_files\\{house_selcted}.json'\n",
    "\n",
    "    # Check if source file exists\n",
    "    if os.path.isfile(source_path):\n",
    "        try:\n",
    "            # Move the file using os.rename()\n",
    "            os.rename(source_path, destination_path)\n",
    "            print(f\"File moved successfully from {source_path} to {destination_path}\")\n",
    "        except OSError as e:\n",
    "            # Handle potential errors during move\n",
    "            if \"Destination exists\" in str(e):  # Check for specific error\n",
    "                print(f\"Error: A file already exists at {destination_path}.\")\n",
    "            else:\n",
    "                print(f\"An error occurred during the move: {e}\")\n",
    "    else:\n",
    "        print(f\"Error: Source file '{source_path}' not found.\")"
   ]
  },
  {
   "cell_type": "code",
   "execution_count": 98,
   "metadata": {},
   "outputs": [
    {
     "name": "stdout",
     "output_type": "stream",
     "text": [
      "<class 'pandas.core.frame.DataFrame'>\n",
      "RangeIndex: 10153 entries, 0 to 10152\n",
      "Data columns (total 15 columns):\n",
      " #   Column                       Non-Null Count  Dtype  \n",
      "---  ------                       --------------  -----  \n",
      " 0   time                         10153 non-null  object \n",
      " 1   Energy_kwh                   10153 non-null  float64\n",
      " 2   house_hold                   10153 non-null  int64  \n",
      " 3   temperature                  10151 non-null  float64\n",
      " 4   windSpeed                    10151 non-null  float64\n",
      " 5   precipType                   10153 non-null  int64  \n",
      " 6   icon                         10153 non-null  int64  \n",
      " 7   summary                      10153 non-null  int64  \n",
      " 8   holiday                      10153 non-null  int64  \n",
      " 9   bool_weather_missing_values  10153 non-null  int64  \n",
      " 10  year                         10153 non-null  int64  \n",
      " 11  month                        10153 non-null  int64  \n",
      " 12  day                          10153 non-null  int64  \n",
      " 13  hour                         10153 non-null  int64  \n",
      " 14  dayofweek_num                10153 non-null  int64  \n",
      "dtypes: float64(3), int64(11), object(1)\n",
      "memory usage: 1.2+ MB\n"
     ]
    }
   ],
   "source": [
    "opa = pd.read_csv(\"../EDA/dataframe_model/stretchedSociety_block_109_MAC005547.csv\")\n",
    "\n",
    "opa.info()"
   ]
  },
  {
   "cell_type": "code",
   "execution_count": null,
   "metadata": {},
   "outputs": [],
   "source": []
  }
 ],
 "metadata": {
  "kernelspec": {
   "display_name": "tensorflow-park",
   "language": "python",
   "name": "python3"
  },
  "language_info": {
   "codemirror_mode": {
    "name": "ipython",
    "version": 3
   },
   "file_extension": ".py",
   "mimetype": "text/x-python",
   "name": "python",
   "nbconvert_exporter": "python",
   "pygments_lexer": "ipython3",
   "version": "3.10.14"
  }
 },
 "nbformat": 4,
 "nbformat_minor": 2
}
