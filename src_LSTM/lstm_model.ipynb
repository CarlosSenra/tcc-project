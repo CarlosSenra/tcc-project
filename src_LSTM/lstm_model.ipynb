{
 "cells": [
  {
   "cell_type": "code",
   "execution_count": 1,
   "metadata": {},
   "outputs": [
    {
     "data": {
      "text/plain": [
       "<torch.autograd.grad_mode.set_grad_enabled at 0x7a35944cee30>"
      ]
     },
     "execution_count": 1,
     "metadata": {},
     "output_type": "execute_result"
    }
   ],
   "source": [
    "import pandas as pd\n",
    "import os\n",
    "import warnings\n",
    "import time\n",
    "warnings.filterwarnings(\"ignore\")\n",
    "\n",
    "import copy\n",
    "from pathlib import Path\n",
    "import warnings\n",
    "import shutil\n",
    "\n",
    "import lightning.pytorch as pl\n",
    "from lightning.pytorch.callbacks import EarlyStopping, LearningRateMonitor\n",
    "from lightning.pytorch.callbacks import ModelCheckpoint\n",
    "from lightning.pytorch.loggers import TensorBoardLogger\n",
    "import numpy as np\n",
    "import pandas as pd\n",
    "import torch\n",
    "\n",
    "import matplotlib.pyplot as plt\n",
    "\n",
    "from pytorch_forecasting import Baseline, TemporalFusionTransformer, TimeSeriesDataSet, RecurrentNetwork\n",
    "from pytorch_forecasting.data import GroupNormalizer, NaNLabelEncoder\n",
    "from pytorch_forecasting.metrics import MAE, SMAPE, PoissonLoss, QuantileLoss, MAPE, RMSE\n",
    "\n",
    "import pickle\n",
    "from pytorch_forecasting.models.temporal_fusion_transformer.tuning import optimize_hyperparameters\n",
    "from omegaconf import OmegaConf\n",
    "\n",
    "torch.set_grad_enabled(True)"
   ]
  },
  {
   "cell_type": "code",
   "execution_count": 2,
   "metadata": {},
   "outputs": [],
   "source": [
    "def get_csv_file_list(path):\n",
    "    list_csv = os.listdir(path)\n",
    "    return list_csv\n",
    "\n",
    "def get_csv(path):\n",
    "    df = pd.read_csv(path)\n",
    "    #estado.drop(columns='Unnamed: 0',inplace=True)\n",
    "    #estado.data = pd.to_datetime(estado.data)\n",
    "    #estado = estado.loc[estado.data >= '2022-01-01']\n",
    "\n",
    "    df['temperature'].fillna(method='ffill', inplace=True)\n",
    "    df['windSpeed'].fillna(method='ffill', inplace=True)\n",
    "    df['year'] = df['year'].astype(str)\n",
    "    df['hour'] = df['hour'].astype(str)\n",
    "    df['month'] = df['month'].astype(str)\n",
    "    df['day'] = df['day'].astype(str)\n",
    "    df['dayofweek_num'] = df['dayofweek_num'].astype(str)\n",
    "    df['house_hold'] = df['house_hold'].astype(str)\n",
    "    df['precipType'] = df['precipType'].astype(str)\n",
    "    df['icon'] = df['icon'].astype(str)\n",
    "    df['holiday'] = df['holiday'].astype(str)\n",
    "    df['summary'] = df['summary'].astype(str)\n",
    "    df['bool_weather_missing_values'] = df['bool_weather_missing_values'].astype(str)\n",
    "\n",
    "    df = df.reset_index().rename(columns={'index':'time_idx'})\n",
    "    return df \n",
    "\n",
    "def evaluation_metrics(val_dataloader,best_model,householde_name,execution_time):    \n",
    "    predictions = best_model.predict(val_dataloader, return_y=True, trainer_kwargs=dict(accelerator=\"cpu\"))\n",
    "    mae = MAE()(predictions.output, predictions.y)\n",
    "    mape = MAPE()(predictions.output, predictions.y)\n",
    "    smape = SMAPE()(predictions.output, predictions.y)\n",
    "    rmse = RMSE()(predictions.output, predictions.y)\n",
    "\n",
    "    dict_ = {'House_Hold':householde_name.split(\".\")[0].upper(),\n",
    "            'MAE':[mae.to('cpu').numpy().round(3)],\n",
    "            'MAPE':[mape.to('cpu').numpy().round(3)],\n",
    "            'SMAPE':[smape.to('cpu').numpy().round(3)],\n",
    "            'RMSE':[rmse.to('cpu').numpy().round(3)],\n",
    "            'Time_execution':f\"{execution_time:.2f}s\"}\n",
    "\n",
    "    return dict_\n",
    "\n",
    "\n",
    "def get_attention_values(interpretation,householde_name,encoder_list,decoder_list):\n",
    "  att_encoder_values = interpretation['encoder_variables'].to('cpu').numpy()\n",
    "  att_decoder_values = interpretation['decoder_variables'].to('cpu').numpy()\n",
    "  tft_encoder = encoder_list\n",
    "  tft_decoder = decoder_list\n",
    "  encoder_dict = {}\n",
    "  decoder_dict = {}\n",
    "  for value, name in zip(att_encoder_values,tft_encoder):   \n",
    "    encoder_dict[name] = [f\"{np.round(value,4)*100:.2f}%\"]\n",
    "  encoder_dict['House_Hold'] = [householde_name.split(\".\")[0].upper()]\n",
    "  for value, name in zip(att_decoder_values,tft_decoder):   \n",
    "    decoder_dict[name] = [f\"{np.round(value,4)*100:.2f}%\"]\n",
    "  decoder_dict['House_Hold'] = [householde_name.split(\".\")[0].upper()]\n",
    "  return encoder_dict,decoder_dict\n",
    "\n",
    "\n",
    "def cleaning_eval_metrics_results(path_origin, path_destiny,model_name):\n",
    "    list_csv = os.listdir(path_origin)\n",
    "    df_list = []\n",
    "    for csv in list_csv:\n",
    "        if os.path.isfile(os.path.join(path_origin,csv)):\n",
    "            print(csv)\n",
    "            df_list.append(pd.read_csv(path_origin + \"/\" + csv))\n",
    "        else:\n",
    "           print('Nao e csv')\n",
    "    concat_df = pd.concat(df_list)\n",
    "    concat_df.to_csv(path_destiny + \"/\" + f\"{model_name}_metrics_results.csv\",index=False)"
   ]
  },
  {
   "cell_type": "code",
   "execution_count": 3,
   "metadata": {},
   "outputs": [],
   "source": [
    "def run_RNN_model(df,\n",
    "                  csv_file_name,\n",
    "                  cell_type,\n",
    "                  path_pred,\n",
    "                  path_metrics_val,\n",
    "                  covariates,\n",
    "                  learning_rate = .1,\n",
    "                  hidden_size = 15,\n",
    "                  dropout = .2,\n",
    "                  loss = MAE(),\n",
    "                  optimizer = \"Ranger\",\n",
    "                  rnn_layers  = 2,\n",
    "                  patience=10,\n",
    "                  max_prediction_length = 168,\n",
    "                  max_encoder_length = 720,\n",
    "                  batch_size = 128,\n",
    "                  seed = 81):\n",
    "\n",
    "    df['Energy_kwh'] = df['Energy_kwh'].astype('float32')\n",
    "    df['time_idx'] = df['time_idx'].astype('int32')\n",
    "    training_cutoff = df[\"time_idx\"].max() - max_prediction_length\n",
    "\n",
    "    pl.seed_everything(seed)\n",
    "\n",
    "    if covariates == [\"time_idx\"]:\n",
    "        training = TimeSeriesDataSet(\n",
    "                                df[lambda x: df.time_idx <= training_cutoff],\n",
    "                                time_idx = 'time_idx',\n",
    "                                target = 'Energy_kwh',\n",
    "                                group_ids = ['house_hold'],\n",
    "                                time_varying_known_reals=['time_idx'],\n",
    "                                time_varying_unknown_reals = ['Energy_kwh'],\n",
    "                                static_categoricals=['house_hold'],\n",
    "                                min_encoder_length = max_encoder_length // 2,\n",
    "                                max_encoder_length = max_encoder_length,\n",
    "                                min_prediction_length=1,\n",
    "                                max_prediction_length = max_prediction_length,\n",
    "                                categorical_encoders = {'house_hold': NaNLabelEncoder(add_nan=True, warn=True)}\n",
    "        )\n",
    "    else:\n",
    "        training = TimeSeriesDataSet(\n",
    "                                    df[lambda x: df.time_idx <= training_cutoff],\n",
    "                                    time_idx = 'time_idx',\n",
    "                                    target = 'Energy_kwh',\n",
    "                                    group_ids = ['house_hold'],\n",
    "                                    #time_varying_known_reals=['time_idx'],\n",
    "                                    time_varying_unknown_reals = ['Energy_kwh'],\n",
    "                                    static_categoricals=['house_hold'],\n",
    "                                    time_varying_known_categoricals = covariates,\n",
    "                                    min_encoder_length = max_encoder_length // 2,\n",
    "                                    max_encoder_length = max_encoder_length,\n",
    "                                    min_prediction_length=1,\n",
    "                                    max_prediction_length = max_prediction_length,\n",
    "                                    categorical_encoders = {'house_hold': NaNLabelEncoder(add_nan=True, warn=True)}\n",
    "        )\n",
    "\n",
    "\n",
    "    validation = TimeSeriesDataSet.from_dataset(training, \n",
    "                                                df,\n",
    "                                                predict = True,\n",
    "                                                stop_randomization = True)\n",
    "\n",
    "\n",
    "    train_dataloader = training.to_dataloader(train = True,\n",
    "                                            batch_size = batch_size,\n",
    "                                            num_workers = 1)\n",
    "\n",
    "\n",
    "    val_dataloader = validation.to_dataloader(train = False,\n",
    "                                            batch_size = batch_size,\n",
    "                                            num_workers = 1)\n",
    "\n",
    "    rnn = RecurrentNetwork.from_dataset(\n",
    "                                            training,\n",
    "                                            cell_type =cell_type,\n",
    "                                            learning_rate = learning_rate,\n",
    "                                            hidden_size = hidden_size,\n",
    "                                            dropout = dropout,\n",
    "                                            loss = loss,\n",
    "                                            optimizer = optimizer,\n",
    "                                            rnn_layers  = rnn_layers\n",
    "        )\n",
    "\n",
    "    early_stop_callback = EarlyStopping(monitor = \"val_loss\",\n",
    "                                    min_delta = 0.0001,\n",
    "                                    patience = patience,\n",
    "                                    verbose = True,\n",
    "                                    mode = \"min\")\n",
    "\n",
    "\n",
    "    lr_logger = LearningRateMonitor()\n",
    "    logger_LSTM = TensorBoardLogger(f\"{cell_type}_logs\")\n",
    "\n",
    "    checkpoint_callback = ModelCheckpoint(monitor=\"val_loss\")\n",
    "\n",
    "    trainer = pl.Trainer(\n",
    "                            max_epochs = 350,\n",
    "                            accelerator = 'gpu',\n",
    "                            enable_model_summary = True,\n",
    "                            limit_train_batches = 300,\n",
    "                            gradient_clip_val = 0.1,\n",
    "                            callbacks = [lr_logger, early_stop_callback, checkpoint_callback],\n",
    "                            logger = logger_LSTM,\n",
    "                            enable_progress_bar=False\n",
    "            )\n",
    "    \n",
    "    start_time = time.time()\n",
    "    trainer.fit(\n",
    "                    rnn,\n",
    "                    train_dataloaders = train_dataloader,\n",
    "                    val_dataloaders = val_dataloader)\n",
    "    end_time = time.time()  \n",
    "    execution_time = end_time - start_time  \n",
    "\n",
    "    best_model_path = trainer.checkpoint_callback.best_model_path\n",
    "    best_rnn = RecurrentNetwork.load_from_checkpoint(best_model_path)\n",
    "\n",
    "    best_model_path = str(best_model_path)\n",
    "    best_rnn = RecurrentNetwork.load_from_checkpoint(best_model_path)\n",
    "\n",
    "    predictions = best_rnn.predict(val_dataloader, mode = \"raw\", return_x = True)\n",
    "\n",
    "    df_predictions = pd.DataFrame({'time_idx':predictions.x['decoder_time_idx'][0].to('cpu').numpy(),\n",
    "                                'Real':predictions.x['decoder_target'][0].to('cpu').numpy().round(3),\n",
    "                                'predict':predictions.output[0][0].to('cpu').numpy().round(3).squeeze()})\n",
    "\n",
    "    df_predictions.to_csv(path_pred + csv_file_name, index=False)\n",
    "\n",
    "    eval_dict = evaluation_metrics(val_dataloader,best_rnn,csv_file_name,execution_time)\n",
    "    df_eval_metrics = pd.DataFrame(eval_dict)\n",
    "    df_eval_metrics.to_csv(path_metrics_val + csv_file_name, index=False)\n",
    "    \n",
    "    #shutil.rmtree('lightning_logs')\n",
    "    #shutil.rmtree('LSTM_logs')"
   ]
  },
  {
   "cell_type": "code",
   "execution_count": 4,
   "metadata": {},
   "outputs": [],
   "source": [
    "import os\n",
    "\n",
    "def verificar_csvs_em_subpastas(pasta_principal, lista_csvs):\n",
    "    \"\"\"\n",
    "    Verifica se cada arquivo CSV da lista existe em todas as subpastas de uma pasta principal.\n",
    "    Retorna apenas os nomes dos arquivos que estão presentes em todas as subpastas.\n",
    "    \n",
    "    Args:\n",
    "        pasta_principal (str): Caminho da pasta principal\n",
    "        lista_csvs (list): Lista com os nomes dos arquivos CSV a serem procurados\n",
    "        \n",
    "    Returns:\n",
    "        list: Lista com os nomes dos arquivos CSV que foram encontrados em todas as subpastas\n",
    "    \"\"\"\n",
    "    # Lista para armazenar os arquivos que estão em todas as subpastas\n",
    "    csvs_validos = []\n",
    "    \n",
    "    # Lista para armazenar todas as subpastas\n",
    "    subpastas = []\n",
    "    \n",
    "    # Percorre a pasta principal para encontrar todas as subpastas\n",
    "    for item in os.listdir(pasta_principal):\n",
    "        caminho_completo = os.path.join(pasta_principal, item)\n",
    "        if os.path.isdir(caminho_completo):\n",
    "            subpastas.append(caminho_completo)\n",
    "    \n",
    "    # Se não houver subpastas, retorna lista vazia\n",
    "    if not subpastas:\n",
    "        return []\n",
    "    \n",
    "    # Para cada CSV da lista, verifica se ele existe em todas as subpastas\n",
    "    for nome_csv in lista_csvs:\n",
    "        # Adiciona extensão .csv se não estiver presente\n",
    "        if not nome_csv.endswith('.csv'):\n",
    "            nome_csv = f\"{nome_csv}.csv\"\n",
    "            \n",
    "        csv_presente_em_todas = True\n",
    "        \n",
    "        # Verifica se o arquivo existe em cada subpasta\n",
    "        for subpasta in subpastas:\n",
    "            caminho_arquivo = os.path.join(subpasta, nome_csv)\n",
    "            if not os.path.isfile(caminho_arquivo):\n",
    "                csv_presente_em_todas = False\n",
    "                break\n",
    "        \n",
    "        # Se o arquivo estiver em todas as subpastas, adiciona à lista de válidos\n",
    "        if csv_presente_em_todas:\n",
    "            csvs_validos.append(nome_csv)\n",
    "    \n",
    "    return csvs_validos\n",
    "\n",
    "def escrever_nome_csv(nome_csv, arquivo_txt='csv_.txt', modo='a'):\n",
    "    \"\"\"\n",
    "    Escreve o nome de um arquivo CSV em um arquivo TXT.\n",
    "    \n",
    "    Args:\n",
    "        nome_csv (str): Nome do arquivo CSV\n",
    "        arquivo_txt (str): Nome do arquivo TXT de saída (default: 'nomes_csv.txt')\n",
    "        modo (str): Modo de escrita - 'a' para append, 'w' para sobrescrever (default: 'a')\n",
    "    \"\"\"\n",
    "    try:\n",
    "        # Adiciona extensão .csv se não estiver presente\n",
    "        if not nome_csv.endswith('.csv'):\n",
    "            nome_csv = f\"{nome_csv}.csv\"\n",
    "            \n",
    "        # Abre o arquivo no modo especificado\n",
    "        with open(arquivo_txt, modo, encoding='utf-8') as f:\n",
    "            # Escreve o nome do CSV e adiciona uma quebra de linha\n",
    "            f.write(f\"{nome_csv}\")\n",
    "            \n",
    "        print(f\"Nome '{nome_csv}' escrito com sucesso em '{arquivo_txt}'\")\n",
    "            \n",
    "    except Exception as e:\n",
    "        print(f\"Erro ao escrever no arquivo: {str(e)}\")\n",
    "\n",
    "def ler_nomes_csv(arquivo_txt='csv_.txt'):\n",
    "    \"\"\"\n",
    "    Lê os nomes dos arquivos CSV de um arquivo TXT e retorna uma lista.\n",
    "    \n",
    "    Args:\n",
    "        arquivo_txt (str): Nome do arquivo TXT para ler (default: 'nomes_csv.txt')\n",
    "        \n",
    "    Returns:\n",
    "        list: Lista com os nomes dos arquivos CSV\n",
    "    \"\"\"\n",
    "    lista_csvs = []\n",
    "    \n",
    "    try:\n",
    "        # Abre o arquivo para leitura\n",
    "        with open(arquivo_txt, 'r', encoding='utf-8') as f:\n",
    "            # Lê cada linha do arquivo\n",
    "            for linha in f:\n",
    "                # Remove espaços em branco e quebras de linha\n",
    "                nome_csv = linha.strip()\n",
    "                \n",
    "                # Verifica se a linha não está vazia\n",
    "                if nome_csv:\n",
    "                    # Adiciona extensão .csv se não estiver presente\n",
    "                    if not nome_csv.endswith('.csv'):\n",
    "                        nome_csv = nome_csv\n",
    "                    \n",
    "                    lista_csvs.append(nome_csv)\n",
    "                    \n",
    "        #print(f\"Foram lidos {len(lista_csvs)} nomes de arquivos CSV\")\n",
    "        return lista_csvs\n",
    "        \n",
    "    except FileNotFoundError:\n",
    "        print(f\"Arquivo '{arquivo_txt}' não encontrado\")\n",
    "        return []\n",
    "    except Exception as e:\n",
    "        print(f\"Erro ao ler o arquivo: {str(e)}\")\n",
    "        return []\n",
    "\n"
   ]
  },
  {
   "cell_type": "code",
   "execution_count": 5,
   "metadata": {},
   "outputs": [],
   "source": [
    "def get_config(yaml_name):\n",
    "    conf = OmegaConf.load(yaml_name)\n",
    "    return conf\n",
    "\n",
    "def get_covariate_combination(path):\n",
    "    \"\"\" \n",
    "    look at eval_metric folder to get all combinations of covariates and return all combinations in a list\n",
    "    \"\"\"\n",
    "    path = config.paths.eval_folder\n",
    "    combinations = os.listdir(path)\n",
    "    feature_combination = {}\n",
    "    for combination in combinations:\n",
    "        feature_combination[combination] = combination.split('-')\n",
    "    return feature_combination\n",
    "\n",
    "\n",
    "config = get_config(\"lstm_config.yaml\")\n",
    "\n",
    "feature_combination = get_covariate_combination(config.paths.eval_folder)"
   ]
  },
  {
   "cell_type": "code",
   "execution_count": 6,
   "metadata": {},
   "outputs": [],
   "source": [
    "feature_combination = {'#': ['#'],\n",
    "                        'dayofweek_num': ['dayofweek_num'],\n",
    "                        'hour': ['hour'],\n",
    "                        'holiday': ['holiday'],\n",
    "                        'precipType': ['precipType'],\n",
    "                        'month': ['month'],\n",
    "                        'bool_weather_missing_values': ['bool_weather_missing_values']\n",
    "                    }"
   ]
  },
  {
   "cell_type": "code",
   "execution_count": 10,
   "metadata": {},
   "outputs": [
    {
     "data": {
      "text/plain": [
       "['stretchedSociety_block_91_MAC001165.csv',\n",
       " 'establishedAffluence_block_25_MAC003004.csv',\n",
       " 'establishedAffluence_block_13_MAC005411.csv',\n",
       " 'establishedAffluence_block_21_MAC004390.csv',\n",
       " 'establishedAffluence_block_33_MAC004926.csv',\n",
       " 'stretchedSociety_block_99_MAC004771.csv',\n",
       " 'stretchedSociety_block_106_MAC000077.csv',\n",
       " 'establishedAffluence_block_27_MAC005235.csv',\n",
       " 'stretchedSociety_block_109_MAC002293.csv',\n",
       " 'stretchedSociety_block_107_MAC001785.csv',\n",
       " 'stretchedSociety_block_102_MAC004129.csv',\n",
       " 'stretchedSociety_block_94_MAC004366.csv',\n",
       " 'stretchedSociety_block_95_MAC000006.csv',\n",
       " 'establishedAffluence_block_33_MAC000351.csv',\n",
       " 'establishedAffluence_block_19_MAC005566.csv',\n",
       " 'stretchedSociety_block_110_MAC002175.csv',\n",
       " 'establishedAffluence_block_37_MAC000861.csv',\n",
       " 'establishedAffluence_block_39_MAC001651.csv',\n",
       " 'stretchedSociety_block_100_MAC002856.csv',\n",
       " 'establishedAffluence_block_34_MAC001452.csv',\n",
       " 'establishedAffluence_block_39_MAC001905.csv',\n",
       " 'establishedAffluence_block_18_MAC005491.csv',\n",
       " 'stretchedSociety_block_107_MAC001672.csv']"
      ]
     },
     "execution_count": 10,
     "metadata": {},
     "output_type": "execute_result"
    }
   ],
   "source": [
    "verificar_csvs_em_subpastas(\"eval_metrics\",os.listdir(\"../EDA/dataframe_model/\"))"
   ]
  },
  {
   "cell_type": "code",
   "execution_count": 11,
   "metadata": {},
   "outputs": [
    {
     "data": {
      "text/plain": [
       "['stretchedSociety_block_91_MAC000350.csv',\n",
       " 'establishedAffluence_block_26_MAC002966.csv',\n",
       " 'establishedAffluence_block_37_MAC000782.csv',\n",
       " 'establishedAffluence_block_17_MAC002007.csv',\n",
       " 'establishedAffluence_block_23_MAC004625.csv']"
      ]
     },
     "execution_count": 11,
     "metadata": {},
     "output_type": "execute_result"
    }
   ],
   "source": [
    "ler_nomes_csv()"
   ]
  },
  {
   "cell_type": "code",
   "execution_count": 8,
   "metadata": {},
   "outputs": [
    {
     "name": "stderr",
     "output_type": "stream",
     "text": [
      "Seed set to 81\n"
     ]
    },
    {
     "name": "stdout",
     "output_type": "stream",
     "text": [
      "Training model for # using establishedAffluence_block_10_MAC002036.csv\n",
      "9985\n"
     ]
    },
    {
     "name": "stderr",
     "output_type": "stream",
     "text": [
      "GPU available: True (cuda), used: True\n",
      "TPU available: False, using: 0 TPU cores\n",
      "HPU available: False, using: 0 HPUs\n",
      "You are using a CUDA device ('NVIDIA GeForce RTX 4050 Laptop GPU') that has Tensor Cores. To properly utilize them, you should set `torch.set_float32_matmul_precision('medium' | 'high')` which will trade-off precision for performance. For more details, read https://pytorch.org/docs/stable/generated/torch.set_float32_matmul_precision.html#torch.set_float32_matmul_precision\n",
      "2024-11-15 17:16:59.359245: I tensorflow/core/util/port.cc:113] oneDNN custom operations are on. You may see slightly different numerical results due to floating-point round-off errors from different computation orders. To turn them off, set the environment variable `TF_ENABLE_ONEDNN_OPTS=0`.\n",
      "2024-11-15 17:16:59.810800: I tensorflow/core/platform/cpu_feature_guard.cc:210] This TensorFlow binary is optimized to use available CPU instructions in performance-critical operations.\n",
      "To enable the following instructions: AVX2 AVX_VNNI FMA, in other operations, rebuild TensorFlow with the appropriate compiler flags.\n",
      "2024-11-15 17:17:02.008616: W tensorflow/compiler/tf2tensorrt/utils/py_utils.cc:38] TF-TRT Warning: Could not find TensorRT\n",
      "LOCAL_RANK: 0 - CUDA_VISIBLE_DEVICES: [0]\n",
      "\n",
      "  | Name             | Type           | Params | Mode \n",
      "------------------------------------------------------------\n",
      "0 | loss             | MAE            | 0      | train\n",
      "1 | logging_metrics  | ModuleList     | 0      | train\n",
      "2 | embeddings       | MultiEmbedding | 2      | train\n",
      "3 | rnn              | LSTM           | 3.2 K  | train\n",
      "4 | output_projector | Linear         | 16     | train\n",
      "------------------------------------------------------------\n",
      "3.2 K     Trainable params\n",
      "0         Non-trainable params\n",
      "3.2 K     Total params\n",
      "0.013     Total estimated model params size (MB)\n",
      "Metric val_loss improved. New best score: 0.020\n",
      "Metric val_loss improved by 0.000 >= min_delta = 0.0001. New best score: 0.020\n",
      "Metric val_loss improved by 0.002 >= min_delta = 0.0001. New best score: 0.018\n",
      "Metric val_loss improved by 0.002 >= min_delta = 0.0001. New best score: 0.016\n",
      "Metric val_loss improved by 0.003 >= min_delta = 0.0001. New best score: 0.014\n",
      "Metric val_loss improved by 0.004 >= min_delta = 0.0001. New best score: 0.010\n",
      "Metric val_loss improved by 0.000 >= min_delta = 0.0001. New best score: 0.010\n",
      "Metric val_loss improved by 0.000 >= min_delta = 0.0001. New best score: 0.010\n",
      "Metric val_loss improved by 0.000 >= min_delta = 0.0001. New best score: 0.009\n",
      "Metric val_loss improved by 0.000 >= min_delta = 0.0001. New best score: 0.009\n",
      "Metric val_loss improved by 0.000 >= min_delta = 0.0001. New best score: 0.009\n",
      "Monitored metric val_loss did not improve in the last 10 records. Best score: 0.009. Signaling Trainer to stop.\n",
      "GPU available: True (cuda), used: True\n",
      "TPU available: False, using: 0 TPU cores\n",
      "HPU available: False, using: 0 HPUs\n",
      "LOCAL_RANK: 0 - CUDA_VISIBLE_DEVICES: [0]\n",
      "GPU available: True (cuda), used: False\n",
      "TPU available: False, using: 0 TPU cores\n",
      "HPU available: False, using: 0 HPUs\n",
      "Seed set to 81\n",
      "GPU available: True (cuda), used: True\n",
      "TPU available: False, using: 0 TPU cores\n",
      "HPU available: False, using: 0 HPUs\n",
      "LOCAL_RANK: 0 - CUDA_VISIBLE_DEVICES: [0]\n",
      "\n",
      "  | Name             | Type           | Params | Mode \n",
      "------------------------------------------------------------\n",
      "0 | loss             | MAE            | 0      | train\n",
      "1 | logging_metrics  | ModuleList     | 0      | train\n",
      "2 | embeddings       | MultiEmbedding | 37     | train\n",
      "3 | rnn              | LSTM           | 3.4 K  | train\n",
      "4 | output_projector | Linear         | 16     | train\n",
      "------------------------------------------------------------\n",
      "3.5 K     Trainable params\n",
      "0         Non-trainable params\n",
      "3.5 K     Total params\n",
      "0.014     Total estimated model params size (MB)\n"
     ]
    },
    {
     "name": "stdout",
     "output_type": "stream",
     "text": [
      "Training model for dayofweek_num using establishedAffluence_block_10_MAC002036.csv\n",
      "9985\n"
     ]
    },
    {
     "name": "stderr",
     "output_type": "stream",
     "text": [
      "Metric val_loss improved. New best score: 0.023\n",
      "Metric val_loss improved by 0.003 >= min_delta = 0.0001. New best score: 0.021\n",
      "Metric val_loss improved by 0.002 >= min_delta = 0.0001. New best score: 0.019\n",
      "Metric val_loss improved by 0.001 >= min_delta = 0.0001. New best score: 0.018\n",
      "Metric val_loss improved by 0.002 >= min_delta = 0.0001. New best score: 0.016\n",
      "Metric val_loss improved by 0.001 >= min_delta = 0.0001. New best score: 0.015\n",
      "Metric val_loss improved by 0.001 >= min_delta = 0.0001. New best score: 0.014\n",
      "Metric val_loss improved by 0.002 >= min_delta = 0.0001. New best score: 0.012\n",
      "Metric val_loss improved by 0.000 >= min_delta = 0.0001. New best score: 0.012\n",
      "Metric val_loss improved by 0.001 >= min_delta = 0.0001. New best score: 0.011\n",
      "Monitored metric val_loss did not improve in the last 10 records. Best score: 0.011. Signaling Trainer to stop.\n",
      "GPU available: True (cuda), used: True\n",
      "TPU available: False, using: 0 TPU cores\n",
      "HPU available: False, using: 0 HPUs\n",
      "LOCAL_RANK: 0 - CUDA_VISIBLE_DEVICES: [0]\n",
      "GPU available: True (cuda), used: False\n",
      "TPU available: False, using: 0 TPU cores\n",
      "HPU available: False, using: 0 HPUs\n",
      "Seed set to 81\n",
      "GPU available: True (cuda), used: True\n",
      "TPU available: False, using: 0 TPU cores\n",
      "HPU available: False, using: 0 HPUs\n",
      "LOCAL_RANK: 0 - CUDA_VISIBLE_DEVICES: [0]\n",
      "\n",
      "  | Name             | Type           | Params | Mode \n",
      "------------------------------------------------------------\n",
      "0 | loss             | MAE            | 0      | train\n",
      "1 | logging_metrics  | ModuleList     | 0      | train\n",
      "2 | embeddings       | MultiEmbedding | 218    | train\n",
      "3 | rnn              | LSTM           | 3.7 K  | train\n",
      "4 | output_projector | Linear         | 16     | train\n",
      "------------------------------------------------------------\n",
      "3.9 K     Trainable params\n",
      "0         Non-trainable params\n",
      "3.9 K     Total params\n",
      "0.016     Total estimated model params size (MB)\n"
     ]
    },
    {
     "name": "stdout",
     "output_type": "stream",
     "text": [
      "Training model for hour using establishedAffluence_block_10_MAC002036.csv\n",
      "9985\n"
     ]
    },
    {
     "name": "stderr",
     "output_type": "stream",
     "text": [
      "Metric val_loss improved. New best score: 0.014\n",
      "Metric val_loss improved by 0.005 >= min_delta = 0.0001. New best score: 0.009\n",
      "Metric val_loss improved by 0.000 >= min_delta = 0.0001. New best score: 0.009\n",
      "Metric val_loss improved by 0.000 >= min_delta = 0.0001. New best score: 0.009\n",
      "Monitored metric val_loss did not improve in the last 10 records. Best score: 0.009. Signaling Trainer to stop.\n",
      "GPU available: True (cuda), used: True\n",
      "TPU available: False, using: 0 TPU cores\n",
      "HPU available: False, using: 0 HPUs\n",
      "LOCAL_RANK: 0 - CUDA_VISIBLE_DEVICES: [0]\n",
      "GPU available: True (cuda), used: False\n",
      "TPU available: False, using: 0 TPU cores\n",
      "HPU available: False, using: 0 HPUs\n",
      "Seed set to 81\n",
      "GPU available: True (cuda), used: True\n",
      "TPU available: False, using: 0 TPU cores\n",
      "HPU available: False, using: 0 HPUs\n",
      "LOCAL_RANK: 0 - CUDA_VISIBLE_DEVICES: [0]\n",
      "\n",
      "  | Name             | Type           | Params | Mode \n",
      "------------------------------------------------------------\n",
      "0 | loss             | MAE            | 0      | train\n",
      "1 | logging_metrics  | ModuleList     | 0      | train\n",
      "2 | embeddings       | MultiEmbedding | 4      | train\n",
      "3 | rnn              | LSTM           | 3.2 K  | train\n",
      "4 | output_projector | Linear         | 16     | train\n",
      "------------------------------------------------------------\n",
      "3.2 K     Trainable params\n",
      "0         Non-trainable params\n",
      "3.2 K     Total params\n",
      "0.013     Total estimated model params size (MB)\n"
     ]
    },
    {
     "name": "stdout",
     "output_type": "stream",
     "text": [
      "Training model for holiday using establishedAffluence_block_10_MAC002036.csv\n",
      "9985\n"
     ]
    },
    {
     "name": "stderr",
     "output_type": "stream",
     "text": [
      "Metric val_loss improved. New best score: 0.021\n",
      "Metric val_loss improved by 0.001 >= min_delta = 0.0001. New best score: 0.020\n",
      "Metric val_loss improved by 0.007 >= min_delta = 0.0001. New best score: 0.013\n",
      "Metric val_loss improved by 0.004 >= min_delta = 0.0001. New best score: 0.009\n",
      "Metric val_loss improved by 0.000 >= min_delta = 0.0001. New best score: 0.009\n",
      "Metric val_loss improved by 0.000 >= min_delta = 0.0001. New best score: 0.009\n",
      "Monitored metric val_loss did not improve in the last 10 records. Best score: 0.009. Signaling Trainer to stop.\n",
      "GPU available: True (cuda), used: True\n",
      "TPU available: False, using: 0 TPU cores\n",
      "HPU available: False, using: 0 HPUs\n",
      "LOCAL_RANK: 0 - CUDA_VISIBLE_DEVICES: [0]\n",
      "GPU available: True (cuda), used: False\n",
      "TPU available: False, using: 0 TPU cores\n",
      "HPU available: False, using: 0 HPUs\n",
      "Seed set to 81\n",
      "GPU available: True (cuda), used: True\n",
      "TPU available: False, using: 0 TPU cores\n",
      "HPU available: False, using: 0 HPUs\n",
      "LOCAL_RANK: 0 - CUDA_VISIBLE_DEVICES: [0]\n",
      "\n",
      "  | Name             | Type           | Params | Mode \n",
      "------------------------------------------------------------\n",
      "0 | loss             | MAE            | 0      | train\n",
      "1 | logging_metrics  | ModuleList     | 0      | train\n",
      "2 | embeddings       | MultiEmbedding | 11     | train\n",
      "3 | rnn              | LSTM           | 3.3 K  | train\n",
      "4 | output_projector | Linear         | 16     | train\n",
      "------------------------------------------------------------\n",
      "3.3 K     Trainable params\n",
      "0         Non-trainable params\n",
      "3.3 K     Total params\n",
      "0.013     Total estimated model params size (MB)\n"
     ]
    },
    {
     "name": "stdout",
     "output_type": "stream",
     "text": [
      "Training model for precipType using establishedAffluence_block_10_MAC002036.csv\n",
      "9985\n"
     ]
    },
    {
     "name": "stderr",
     "output_type": "stream",
     "text": [
      "Metric val_loss improved. New best score: 0.023\n",
      "Metric val_loss improved by 0.002 >= min_delta = 0.0001. New best score: 0.021\n",
      "Metric val_loss improved by 0.001 >= min_delta = 0.0001. New best score: 0.021\n",
      "Metric val_loss improved by 0.000 >= min_delta = 0.0001. New best score: 0.020\n",
      "Metric val_loss improved by 0.002 >= min_delta = 0.0001. New best score: 0.018\n",
      "Metric val_loss improved by 0.000 >= min_delta = 0.0001. New best score: 0.018\n",
      "Metric val_loss improved by 0.006 >= min_delta = 0.0001. New best score: 0.012\n",
      "Metric val_loss improved by 0.001 >= min_delta = 0.0001. New best score: 0.011\n",
      "Metric val_loss improved by 0.001 >= min_delta = 0.0001. New best score: 0.010\n",
      "Metric val_loss improved by 0.000 >= min_delta = 0.0001. New best score: 0.009\n",
      "Monitored metric val_loss did not improve in the last 10 records. Best score: 0.009. Signaling Trainer to stop.\n",
      "GPU available: True (cuda), used: True\n",
      "TPU available: False, using: 0 TPU cores\n",
      "HPU available: False, using: 0 HPUs\n",
      "LOCAL_RANK: 0 - CUDA_VISIBLE_DEVICES: [0]\n",
      "GPU available: True (cuda), used: False\n",
      "TPU available: False, using: 0 TPU cores\n",
      "HPU available: False, using: 0 HPUs\n",
      "Seed set to 81\n",
      "GPU available: True (cuda), used: True\n",
      "TPU available: False, using: 0 TPU cores\n",
      "HPU available: False, using: 0 HPUs\n",
      "LOCAL_RANK: 0 - CUDA_VISIBLE_DEVICES: [0]\n",
      "\n",
      "  | Name             | Type           | Params | Mode \n",
      "------------------------------------------------------------\n",
      "0 | loss             | MAE            | 0      | train\n",
      "1 | logging_metrics  | ModuleList     | 0      | train\n",
      "2 | embeddings       | MultiEmbedding | 74     | train\n",
      "3 | rnn              | LSTM           | 3.5 K  | train\n",
      "4 | output_projector | Linear         | 16     | train\n",
      "------------------------------------------------------------\n",
      "3.6 K     Trainable params\n",
      "0         Non-trainable params\n",
      "3.6 K     Total params\n",
      "0.014     Total estimated model params size (MB)\n"
     ]
    },
    {
     "name": "stdout",
     "output_type": "stream",
     "text": [
      "Training model for month using establishedAffluence_block_10_MAC002036.csv\n",
      "9985\n"
     ]
    },
    {
     "name": "stderr",
     "output_type": "stream",
     "text": [
      "Metric val_loss improved. New best score: 0.020\n",
      "Metric val_loss improved by 0.004 >= min_delta = 0.0001. New best score: 0.016\n",
      "Metric val_loss improved by 0.003 >= min_delta = 0.0001. New best score: 0.013\n",
      "Metric val_loss improved by 0.002 >= min_delta = 0.0001. New best score: 0.011\n",
      "Metric val_loss improved by 0.000 >= min_delta = 0.0001. New best score: 0.011\n",
      "Metric val_loss improved by 0.001 >= min_delta = 0.0001. New best score: 0.009\n",
      "Monitored metric val_loss did not improve in the last 10 records. Best score: 0.009. Signaling Trainer to stop.\n",
      "GPU available: True (cuda), used: True\n",
      "TPU available: False, using: 0 TPU cores\n",
      "HPU available: False, using: 0 HPUs\n",
      "LOCAL_RANK: 0 - CUDA_VISIBLE_DEVICES: [0]\n",
      "GPU available: True (cuda), used: False\n",
      "TPU available: False, using: 0 TPU cores\n",
      "HPU available: False, using: 0 HPUs\n",
      "Seed set to 81\n",
      "GPU available: True (cuda), used: True\n",
      "TPU available: False, using: 0 TPU cores\n",
      "HPU available: False, using: 0 HPUs\n",
      "LOCAL_RANK: 0 - CUDA_VISIBLE_DEVICES: [0]\n",
      "\n",
      "  | Name             | Type           | Params | Mode \n",
      "------------------------------------------------------------\n",
      "0 | loss             | MAE            | 0      | train\n",
      "1 | logging_metrics  | ModuleList     | 0      | train\n",
      "2 | embeddings       | MultiEmbedding | 3      | train\n",
      "3 | rnn              | LSTM           | 3.2 K  | train\n",
      "4 | output_projector | Linear         | 16     | train\n",
      "------------------------------------------------------------\n",
      "3.2 K     Trainable params\n",
      "0         Non-trainable params\n",
      "3.2 K     Total params\n",
      "0.013     Total estimated model params size (MB)\n"
     ]
    },
    {
     "name": "stdout",
     "output_type": "stream",
     "text": [
      "Training model for bool_weather_missing_values using establishedAffluence_block_10_MAC002036.csv\n",
      "9985\n"
     ]
    },
    {
     "name": "stderr",
     "output_type": "stream",
     "text": [
      "Metric val_loss improved. New best score: 0.021\n",
      "Metric val_loss improved by 0.003 >= min_delta = 0.0001. New best score: 0.018\n",
      "Metric val_loss improved by 0.006 >= min_delta = 0.0001. New best score: 0.012\n",
      "Metric val_loss improved by 0.001 >= min_delta = 0.0001. New best score: 0.011\n",
      "Monitored metric val_loss did not improve in the last 10 records. Best score: 0.011. Signaling Trainer to stop.\n",
      "GPU available: True (cuda), used: True\n",
      "TPU available: False, using: 0 TPU cores\n",
      "HPU available: False, using: 0 HPUs\n",
      "LOCAL_RANK: 0 - CUDA_VISIBLE_DEVICES: [0]\n",
      "GPU available: True (cuda), used: False\n",
      "TPU available: False, using: 0 TPU cores\n",
      "HPU available: False, using: 0 HPUs\n",
      "Seed set to 81\n",
      "GPU available: True (cuda), used: True\n",
      "TPU available: False, using: 0 TPU cores\n",
      "HPU available: False, using: 0 HPUs\n",
      "LOCAL_RANK: 0 - CUDA_VISIBLE_DEVICES: [0]\n",
      "\n",
      "  | Name             | Type           | Params | Mode \n",
      "------------------------------------------------------------\n",
      "0 | loss             | MAE            | 0      | train\n",
      "1 | logging_metrics  | ModuleList     | 0      | train\n",
      "2 | embeddings       | MultiEmbedding | 2      | train\n",
      "3 | rnn              | LSTM           | 3.2 K  | train\n",
      "4 | output_projector | Linear         | 16     | train\n",
      "------------------------------------------------------------\n",
      "3.2 K     Trainable params\n",
      "0         Non-trainable params\n",
      "3.2 K     Total params\n",
      "0.013     Total estimated model params size (MB)\n"
     ]
    },
    {
     "name": "stdout",
     "output_type": "stream",
     "text": [
      "Training model for # using establishedAffluence_block_22_MAC004736.csv\n",
      "9985\n"
     ]
    },
    {
     "name": "stderr",
     "output_type": "stream",
     "text": [
      "Metric val_loss improved. New best score: 0.047\n",
      "Metric val_loss improved by 0.002 >= min_delta = 0.0001. New best score: 0.045\n",
      "Metric val_loss improved by 0.003 >= min_delta = 0.0001. New best score: 0.042\n",
      "Monitored metric val_loss did not improve in the last 10 records. Best score: 0.042. Signaling Trainer to stop.\n",
      "GPU available: True (cuda), used: True\n",
      "TPU available: False, using: 0 TPU cores\n",
      "HPU available: False, using: 0 HPUs\n",
      "LOCAL_RANK: 0 - CUDA_VISIBLE_DEVICES: [0]\n",
      "GPU available: True (cuda), used: False\n",
      "TPU available: False, using: 0 TPU cores\n",
      "HPU available: False, using: 0 HPUs\n",
      "Seed set to 81\n",
      "GPU available: True (cuda), used: True\n",
      "TPU available: False, using: 0 TPU cores\n",
      "HPU available: False, using: 0 HPUs\n",
      "LOCAL_RANK: 0 - CUDA_VISIBLE_DEVICES: [0]\n",
      "\n",
      "  | Name             | Type           | Params | Mode \n",
      "------------------------------------------------------------\n",
      "0 | loss             | MAE            | 0      | train\n",
      "1 | logging_metrics  | ModuleList     | 0      | train\n",
      "2 | embeddings       | MultiEmbedding | 37     | train\n",
      "3 | rnn              | LSTM           | 3.4 K  | train\n",
      "4 | output_projector | Linear         | 16     | train\n",
      "------------------------------------------------------------\n",
      "3.5 K     Trainable params\n",
      "0         Non-trainable params\n",
      "3.5 K     Total params\n",
      "0.014     Total estimated model params size (MB)\n"
     ]
    },
    {
     "name": "stdout",
     "output_type": "stream",
     "text": [
      "Training model for dayofweek_num using establishedAffluence_block_22_MAC004736.csv\n",
      "9985\n"
     ]
    },
    {
     "name": "stderr",
     "output_type": "stream",
     "text": [
      "Metric val_loss improved. New best score: 0.046\n",
      "Metric val_loss improved by 0.003 >= min_delta = 0.0001. New best score: 0.043\n",
      "Monitored metric val_loss did not improve in the last 10 records. Best score: 0.043. Signaling Trainer to stop.\n",
      "GPU available: True (cuda), used: True\n",
      "TPU available: False, using: 0 TPU cores\n",
      "HPU available: False, using: 0 HPUs\n",
      "LOCAL_RANK: 0 - CUDA_VISIBLE_DEVICES: [0]\n",
      "GPU available: True (cuda), used: False\n",
      "TPU available: False, using: 0 TPU cores\n",
      "HPU available: False, using: 0 HPUs\n",
      "Seed set to 81\n",
      "GPU available: True (cuda), used: True\n",
      "TPU available: False, using: 0 TPU cores\n",
      "HPU available: False, using: 0 HPUs\n",
      "LOCAL_RANK: 0 - CUDA_VISIBLE_DEVICES: [0]\n",
      "\n",
      "  | Name             | Type           | Params | Mode \n",
      "------------------------------------------------------------\n",
      "0 | loss             | MAE            | 0      | train\n",
      "1 | logging_metrics  | ModuleList     | 0      | train\n",
      "2 | embeddings       | MultiEmbedding | 218    | train\n",
      "3 | rnn              | LSTM           | 3.7 K  | train\n",
      "4 | output_projector | Linear         | 16     | train\n",
      "------------------------------------------------------------\n",
      "3.9 K     Trainable params\n",
      "0         Non-trainable params\n",
      "3.9 K     Total params\n",
      "0.016     Total estimated model params size (MB)\n"
     ]
    },
    {
     "name": "stdout",
     "output_type": "stream",
     "text": [
      "Training model for hour using establishedAffluence_block_22_MAC004736.csv\n",
      "9985\n"
     ]
    },
    {
     "name": "stderr",
     "output_type": "stream",
     "text": [
      "Metric val_loss improved. New best score: 0.039\n",
      "Metric val_loss improved by 0.000 >= min_delta = 0.0001. New best score: 0.038\n",
      "Metric val_loss improved by 0.003 >= min_delta = 0.0001. New best score: 0.036\n",
      "Monitored metric val_loss did not improve in the last 10 records. Best score: 0.036. Signaling Trainer to stop.\n",
      "GPU available: True (cuda), used: True\n",
      "TPU available: False, using: 0 TPU cores\n",
      "HPU available: False, using: 0 HPUs\n",
      "LOCAL_RANK: 0 - CUDA_VISIBLE_DEVICES: [0]\n",
      "GPU available: True (cuda), used: False\n",
      "TPU available: False, using: 0 TPU cores\n",
      "HPU available: False, using: 0 HPUs\n",
      "Seed set to 81\n",
      "GPU available: True (cuda), used: True\n",
      "TPU available: False, using: 0 TPU cores\n",
      "HPU available: False, using: 0 HPUs\n",
      "LOCAL_RANK: 0 - CUDA_VISIBLE_DEVICES: [0]\n",
      "\n",
      "  | Name             | Type           | Params | Mode \n",
      "------------------------------------------------------------\n",
      "0 | loss             | MAE            | 0      | train\n",
      "1 | logging_metrics  | ModuleList     | 0      | train\n",
      "2 | embeddings       | MultiEmbedding | 4      | train\n",
      "3 | rnn              | LSTM           | 3.2 K  | train\n",
      "4 | output_projector | Linear         | 16     | train\n",
      "------------------------------------------------------------\n",
      "3.2 K     Trainable params\n",
      "0         Non-trainable params\n",
      "3.2 K     Total params\n",
      "0.013     Total estimated model params size (MB)\n"
     ]
    },
    {
     "name": "stdout",
     "output_type": "stream",
     "text": [
      "Training model for holiday using establishedAffluence_block_22_MAC004736.csv\n",
      "9985\n"
     ]
    },
    {
     "name": "stderr",
     "output_type": "stream",
     "text": [
      "Metric val_loss improved. New best score: 0.047\n",
      "Monitored metric val_loss did not improve in the last 10 records. Best score: 0.047. Signaling Trainer to stop.\n",
      "GPU available: True (cuda), used: True\n",
      "TPU available: False, using: 0 TPU cores\n",
      "HPU available: False, using: 0 HPUs\n",
      "LOCAL_RANK: 0 - CUDA_VISIBLE_DEVICES: [0]\n",
      "GPU available: True (cuda), used: False\n",
      "TPU available: False, using: 0 TPU cores\n",
      "HPU available: False, using: 0 HPUs\n",
      "Seed set to 81\n",
      "GPU available: True (cuda), used: True\n",
      "TPU available: False, using: 0 TPU cores\n",
      "HPU available: False, using: 0 HPUs\n",
      "LOCAL_RANK: 0 - CUDA_VISIBLE_DEVICES: [0]\n",
      "\n",
      "  | Name             | Type           | Params | Mode \n",
      "------------------------------------------------------------\n",
      "0 | loss             | MAE            | 0      | train\n",
      "1 | logging_metrics  | ModuleList     | 0      | train\n",
      "2 | embeddings       | MultiEmbedding | 11     | train\n",
      "3 | rnn              | LSTM           | 3.3 K  | train\n",
      "4 | output_projector | Linear         | 16     | train\n",
      "------------------------------------------------------------\n",
      "3.3 K     Trainable params\n",
      "0         Non-trainable params\n",
      "3.3 K     Total params\n",
      "0.013     Total estimated model params size (MB)\n"
     ]
    },
    {
     "name": "stdout",
     "output_type": "stream",
     "text": [
      "Training model for precipType using establishedAffluence_block_22_MAC004736.csv\n",
      "9985\n"
     ]
    },
    {
     "name": "stderr",
     "output_type": "stream",
     "text": [
      "Metric val_loss improved. New best score: 0.047\n",
      "Metric val_loss improved by 0.003 >= min_delta = 0.0001. New best score: 0.044\n",
      "Metric val_loss improved by 0.005 >= min_delta = 0.0001. New best score: 0.039\n",
      "Monitored metric val_loss did not improve in the last 10 records. Best score: 0.039. Signaling Trainer to stop.\n",
      "GPU available: True (cuda), used: True\n",
      "TPU available: False, using: 0 TPU cores\n",
      "HPU available: False, using: 0 HPUs\n",
      "LOCAL_RANK: 0 - CUDA_VISIBLE_DEVICES: [0]\n",
      "GPU available: True (cuda), used: False\n",
      "TPU available: False, using: 0 TPU cores\n",
      "HPU available: False, using: 0 HPUs\n",
      "Seed set to 81\n",
      "GPU available: True (cuda), used: True\n",
      "TPU available: False, using: 0 TPU cores\n",
      "HPU available: False, using: 0 HPUs\n",
      "LOCAL_RANK: 0 - CUDA_VISIBLE_DEVICES: [0]\n",
      "\n",
      "  | Name             | Type           | Params | Mode \n",
      "------------------------------------------------------------\n",
      "0 | loss             | MAE            | 0      | train\n",
      "1 | logging_metrics  | ModuleList     | 0      | train\n",
      "2 | embeddings       | MultiEmbedding | 74     | train\n",
      "3 | rnn              | LSTM           | 3.5 K  | train\n",
      "4 | output_projector | Linear         | 16     | train\n",
      "------------------------------------------------------------\n",
      "3.6 K     Trainable params\n",
      "0         Non-trainable params\n",
      "3.6 K     Total params\n",
      "0.014     Total estimated model params size (MB)\n"
     ]
    },
    {
     "name": "stdout",
     "output_type": "stream",
     "text": [
      "Training model for month using establishedAffluence_block_22_MAC004736.csv\n",
      "9985\n"
     ]
    },
    {
     "name": "stderr",
     "output_type": "stream",
     "text": [
      "Metric val_loss improved. New best score: 0.047\n",
      "Metric val_loss improved by 0.001 >= min_delta = 0.0001. New best score: 0.045\n",
      "Metric val_loss improved by 0.001 >= min_delta = 0.0001. New best score: 0.044\n",
      "Metric val_loss improved by 0.000 >= min_delta = 0.0001. New best score: 0.044\n",
      "Monitored metric val_loss did not improve in the last 10 records. Best score: 0.044. Signaling Trainer to stop.\n",
      "GPU available: True (cuda), used: True\n",
      "TPU available: False, using: 0 TPU cores\n",
      "HPU available: False, using: 0 HPUs\n",
      "LOCAL_RANK: 0 - CUDA_VISIBLE_DEVICES: [0]\n",
      "GPU available: True (cuda), used: False\n",
      "TPU available: False, using: 0 TPU cores\n",
      "HPU available: False, using: 0 HPUs\n",
      "Seed set to 81\n",
      "GPU available: True (cuda), used: True\n",
      "TPU available: False, using: 0 TPU cores\n",
      "HPU available: False, using: 0 HPUs\n",
      "LOCAL_RANK: 0 - CUDA_VISIBLE_DEVICES: [0]\n",
      "\n",
      "  | Name             | Type           | Params | Mode \n",
      "------------------------------------------------------------\n",
      "0 | loss             | MAE            | 0      | train\n",
      "1 | logging_metrics  | ModuleList     | 0      | train\n",
      "2 | embeddings       | MultiEmbedding | 3      | train\n",
      "3 | rnn              | LSTM           | 3.2 K  | train\n",
      "4 | output_projector | Linear         | 16     | train\n",
      "------------------------------------------------------------\n",
      "3.2 K     Trainable params\n",
      "0         Non-trainable params\n",
      "3.2 K     Total params\n",
      "0.013     Total estimated model params size (MB)\n"
     ]
    },
    {
     "name": "stdout",
     "output_type": "stream",
     "text": [
      "Training model for bool_weather_missing_values using establishedAffluence_block_22_MAC004736.csv\n",
      "9985\n"
     ]
    },
    {
     "name": "stderr",
     "output_type": "stream",
     "text": [
      "Metric val_loss improved. New best score: 0.047\n",
      "Metric val_loss improved by 0.003 >= min_delta = 0.0001. New best score: 0.044\n",
      "Metric val_loss improved by 0.001 >= min_delta = 0.0001. New best score: 0.042\n",
      "Monitored metric val_loss did not improve in the last 10 records. Best score: 0.042. Signaling Trainer to stop.\n",
      "GPU available: True (cuda), used: True\n",
      "TPU available: False, using: 0 TPU cores\n",
      "HPU available: False, using: 0 HPUs\n",
      "LOCAL_RANK: 0 - CUDA_VISIBLE_DEVICES: [0]\n",
      "GPU available: True (cuda), used: False\n",
      "TPU available: False, using: 0 TPU cores\n",
      "HPU available: False, using: 0 HPUs\n",
      "Seed set to 81\n",
      "GPU available: True (cuda), used: True\n",
      "TPU available: False, using: 0 TPU cores\n",
      "HPU available: False, using: 0 HPUs\n",
      "LOCAL_RANK: 0 - CUDA_VISIBLE_DEVICES: [0]\n",
      "\n",
      "  | Name             | Type           | Params | Mode \n",
      "------------------------------------------------------------\n",
      "0 | loss             | MAE            | 0      | train\n",
      "1 | logging_metrics  | ModuleList     | 0      | train\n",
      "2 | embeddings       | MultiEmbedding | 2      | train\n",
      "3 | rnn              | LSTM           | 3.2 K  | train\n",
      "4 | output_projector | Linear         | 16     | train\n",
      "------------------------------------------------------------\n",
      "3.2 K     Trainable params\n",
      "0         Non-trainable params\n",
      "3.2 K     Total params\n",
      "0.013     Total estimated model params size (MB)\n"
     ]
    },
    {
     "name": "stdout",
     "output_type": "stream",
     "text": [
      "Training model for # using stretchedSociety_block_95_MAC004066.csv\n",
      "9985\n"
     ]
    },
    {
     "name": "stderr",
     "output_type": "stream",
     "text": [
      "Metric val_loss improved. New best score: 0.241\n",
      "Metric val_loss improved by 0.036 >= min_delta = 0.0001. New best score: 0.205\n",
      "Metric val_loss improved by 0.005 >= min_delta = 0.0001. New best score: 0.200\n",
      "Metric val_loss improved by 0.006 >= min_delta = 0.0001. New best score: 0.193\n",
      "Metric val_loss improved by 0.007 >= min_delta = 0.0001. New best score: 0.187\n",
      "Monitored metric val_loss did not improve in the last 10 records. Best score: 0.187. Signaling Trainer to stop.\n",
      "GPU available: True (cuda), used: True\n",
      "TPU available: False, using: 0 TPU cores\n",
      "HPU available: False, using: 0 HPUs\n",
      "LOCAL_RANK: 0 - CUDA_VISIBLE_DEVICES: [0]\n",
      "GPU available: True (cuda), used: False\n",
      "TPU available: False, using: 0 TPU cores\n",
      "HPU available: False, using: 0 HPUs\n",
      "Seed set to 81\n",
      "GPU available: True (cuda), used: True\n",
      "TPU available: False, using: 0 TPU cores\n",
      "HPU available: False, using: 0 HPUs\n",
      "LOCAL_RANK: 0 - CUDA_VISIBLE_DEVICES: [0]\n",
      "\n",
      "  | Name             | Type           | Params | Mode \n",
      "------------------------------------------------------------\n",
      "0 | loss             | MAE            | 0      | train\n",
      "1 | logging_metrics  | ModuleList     | 0      | train\n",
      "2 | embeddings       | MultiEmbedding | 37     | train\n",
      "3 | rnn              | LSTM           | 3.4 K  | train\n",
      "4 | output_projector | Linear         | 16     | train\n",
      "------------------------------------------------------------\n",
      "3.5 K     Trainable params\n",
      "0         Non-trainable params\n",
      "3.5 K     Total params\n",
      "0.014     Total estimated model params size (MB)\n"
     ]
    },
    {
     "name": "stdout",
     "output_type": "stream",
     "text": [
      "Training model for dayofweek_num using stretchedSociety_block_95_MAC004066.csv\n",
      "9985\n"
     ]
    },
    {
     "name": "stderr",
     "output_type": "stream",
     "text": [
      "Metric val_loss improved. New best score: 0.226\n",
      "Metric val_loss improved by 0.017 >= min_delta = 0.0001. New best score: 0.209\n",
      "Metric val_loss improved by 0.027 >= min_delta = 0.0001. New best score: 0.182\n",
      "Metric val_loss improved by 0.012 >= min_delta = 0.0001. New best score: 0.170\n",
      "Metric val_loss improved by 0.001 >= min_delta = 0.0001. New best score: 0.169\n",
      "Monitored metric val_loss did not improve in the last 10 records. Best score: 0.169. Signaling Trainer to stop.\n",
      "GPU available: True (cuda), used: True\n",
      "TPU available: False, using: 0 TPU cores\n",
      "HPU available: False, using: 0 HPUs\n",
      "LOCAL_RANK: 0 - CUDA_VISIBLE_DEVICES: [0]\n",
      "GPU available: True (cuda), used: False\n",
      "TPU available: False, using: 0 TPU cores\n",
      "HPU available: False, using: 0 HPUs\n",
      "Seed set to 81\n",
      "GPU available: True (cuda), used: True\n",
      "TPU available: False, using: 0 TPU cores\n",
      "HPU available: False, using: 0 HPUs\n",
      "LOCAL_RANK: 0 - CUDA_VISIBLE_DEVICES: [0]\n",
      "\n",
      "  | Name             | Type           | Params | Mode \n",
      "------------------------------------------------------------\n",
      "0 | loss             | MAE            | 0      | train\n",
      "1 | logging_metrics  | ModuleList     | 0      | train\n",
      "2 | embeddings       | MultiEmbedding | 218    | train\n",
      "3 | rnn              | LSTM           | 3.7 K  | train\n",
      "4 | output_projector | Linear         | 16     | train\n",
      "------------------------------------------------------------\n",
      "3.9 K     Trainable params\n",
      "0         Non-trainable params\n",
      "3.9 K     Total params\n",
      "0.016     Total estimated model params size (MB)\n"
     ]
    },
    {
     "name": "stdout",
     "output_type": "stream",
     "text": [
      "Training model for hour using stretchedSociety_block_95_MAC004066.csv\n",
      "9985\n"
     ]
    },
    {
     "name": "stderr",
     "output_type": "stream",
     "text": [
      "Metric val_loss improved. New best score: 0.191\n",
      "Metric val_loss improved by 0.005 >= min_delta = 0.0001. New best score: 0.185\n",
      "Metric val_loss improved by 0.007 >= min_delta = 0.0001. New best score: 0.178\n",
      "Metric val_loss improved by 0.001 >= min_delta = 0.0001. New best score: 0.177\n",
      "Monitored metric val_loss did not improve in the last 10 records. Best score: 0.177. Signaling Trainer to stop.\n",
      "GPU available: True (cuda), used: True\n",
      "TPU available: False, using: 0 TPU cores\n",
      "HPU available: False, using: 0 HPUs\n",
      "LOCAL_RANK: 0 - CUDA_VISIBLE_DEVICES: [0]\n",
      "GPU available: True (cuda), used: False\n",
      "TPU available: False, using: 0 TPU cores\n",
      "HPU available: False, using: 0 HPUs\n",
      "Seed set to 81\n",
      "GPU available: True (cuda), used: True\n",
      "TPU available: False, using: 0 TPU cores\n",
      "HPU available: False, using: 0 HPUs\n",
      "LOCAL_RANK: 0 - CUDA_VISIBLE_DEVICES: [0]\n",
      "\n",
      "  | Name             | Type           | Params | Mode \n",
      "------------------------------------------------------------\n",
      "0 | loss             | MAE            | 0      | train\n",
      "1 | logging_metrics  | ModuleList     | 0      | train\n",
      "2 | embeddings       | MultiEmbedding | 4      | train\n",
      "3 | rnn              | LSTM           | 3.2 K  | train\n",
      "4 | output_projector | Linear         | 16     | train\n",
      "------------------------------------------------------------\n",
      "3.2 K     Trainable params\n",
      "0         Non-trainable params\n",
      "3.2 K     Total params\n",
      "0.013     Total estimated model params size (MB)\n"
     ]
    },
    {
     "name": "stdout",
     "output_type": "stream",
     "text": [
      "Training model for holiday using stretchedSociety_block_95_MAC004066.csv\n",
      "9985\n"
     ]
    },
    {
     "name": "stderr",
     "output_type": "stream",
     "text": [
      "Metric val_loss improved. New best score: 0.245\n",
      "Metric val_loss improved by 0.009 >= min_delta = 0.0001. New best score: 0.237\n",
      "Metric val_loss improved by 0.005 >= min_delta = 0.0001. New best score: 0.231\n",
      "Metric val_loss improved by 0.040 >= min_delta = 0.0001. New best score: 0.192\n",
      "Metric val_loss improved by 0.002 >= min_delta = 0.0001. New best score: 0.189\n",
      "Metric val_loss improved by 0.003 >= min_delta = 0.0001. New best score: 0.186\n",
      "Metric val_loss improved by 0.000 >= min_delta = 0.0001. New best score: 0.186\n",
      "Monitored metric val_loss did not improve in the last 10 records. Best score: 0.186. Signaling Trainer to stop.\n",
      "GPU available: True (cuda), used: True\n",
      "TPU available: False, using: 0 TPU cores\n",
      "HPU available: False, using: 0 HPUs\n",
      "LOCAL_RANK: 0 - CUDA_VISIBLE_DEVICES: [0]\n",
      "GPU available: True (cuda), used: False\n",
      "TPU available: False, using: 0 TPU cores\n",
      "HPU available: False, using: 0 HPUs\n",
      "Seed set to 81\n"
     ]
    },
    {
     "name": "stdout",
     "output_type": "stream",
     "text": [
      "Training model for precipType using stretchedSociety_block_95_MAC004066.csv\n",
      "9985\n"
     ]
    },
    {
     "name": "stderr",
     "output_type": "stream",
     "text": [
      "GPU available: True (cuda), used: True\n",
      "TPU available: False, using: 0 TPU cores\n",
      "HPU available: False, using: 0 HPUs\n",
      "LOCAL_RANK: 0 - CUDA_VISIBLE_DEVICES: [0]\n",
      "\n",
      "  | Name             | Type           | Params | Mode \n",
      "------------------------------------------------------------\n",
      "0 | loss             | MAE            | 0      | train\n",
      "1 | logging_metrics  | ModuleList     | 0      | train\n",
      "2 | embeddings       | MultiEmbedding | 11     | train\n",
      "3 | rnn              | LSTM           | 3.3 K  | train\n",
      "4 | output_projector | Linear         | 16     | train\n",
      "------------------------------------------------------------\n",
      "3.3 K     Trainable params\n",
      "0         Non-trainable params\n",
      "3.3 K     Total params\n",
      "0.013     Total estimated model params size (MB)\n",
      "Metric val_loss improved. New best score: 0.250\n",
      "Metric val_loss improved by 0.035 >= min_delta = 0.0001. New best score: 0.215\n",
      "Metric val_loss improved by 0.022 >= min_delta = 0.0001. New best score: 0.192\n",
      "Metric val_loss improved by 0.002 >= min_delta = 0.0001. New best score: 0.190\n",
      "Metric val_loss improved by 0.003 >= min_delta = 0.0001. New best score: 0.187\n",
      "Metric val_loss improved by 0.001 >= min_delta = 0.0001. New best score: 0.187\n",
      "Metric val_loss improved by 0.011 >= min_delta = 0.0001. New best score: 0.176\n",
      "Monitored metric val_loss did not improve in the last 10 records. Best score: 0.176. Signaling Trainer to stop.\n",
      "GPU available: True (cuda), used: True\n",
      "TPU available: False, using: 0 TPU cores\n",
      "HPU available: False, using: 0 HPUs\n",
      "LOCAL_RANK: 0 - CUDA_VISIBLE_DEVICES: [0]\n",
      "GPU available: True (cuda), used: False\n",
      "TPU available: False, using: 0 TPU cores\n",
      "HPU available: False, using: 0 HPUs\n",
      "Seed set to 81\n",
      "GPU available: True (cuda), used: True\n",
      "TPU available: False, using: 0 TPU cores\n",
      "HPU available: False, using: 0 HPUs\n",
      "LOCAL_RANK: 0 - CUDA_VISIBLE_DEVICES: [0]\n",
      "\n",
      "  | Name             | Type           | Params | Mode \n",
      "------------------------------------------------------------\n",
      "0 | loss             | MAE            | 0      | train\n",
      "1 | logging_metrics  | ModuleList     | 0      | train\n",
      "2 | embeddings       | MultiEmbedding | 74     | train\n",
      "3 | rnn              | LSTM           | 3.5 K  | train\n",
      "4 | output_projector | Linear         | 16     | train\n",
      "------------------------------------------------------------\n",
      "3.6 K     Trainable params\n",
      "0         Non-trainable params\n",
      "3.6 K     Total params\n",
      "0.014     Total estimated model params size (MB)\n"
     ]
    },
    {
     "name": "stdout",
     "output_type": "stream",
     "text": [
      "Training model for month using stretchedSociety_block_95_MAC004066.csv\n",
      "9985\n"
     ]
    },
    {
     "name": "stderr",
     "output_type": "stream",
     "text": [
      "Metric val_loss improved. New best score: 0.250\n",
      "Metric val_loss improved by 0.016 >= min_delta = 0.0001. New best score: 0.234\n",
      "Metric val_loss improved by 0.046 >= min_delta = 0.0001. New best score: 0.188\n",
      "Metric val_loss improved by 0.002 >= min_delta = 0.0001. New best score: 0.186\n",
      "Monitored metric val_loss did not improve in the last 10 records. Best score: 0.186. Signaling Trainer to stop.\n",
      "GPU available: True (cuda), used: True\n",
      "TPU available: False, using: 0 TPU cores\n",
      "HPU available: False, using: 0 HPUs\n",
      "LOCAL_RANK: 0 - CUDA_VISIBLE_DEVICES: [0]\n",
      "GPU available: True (cuda), used: False\n",
      "TPU available: False, using: 0 TPU cores\n",
      "HPU available: False, using: 0 HPUs\n",
      "Seed set to 81\n",
      "GPU available: True (cuda), used: True\n",
      "TPU available: False, using: 0 TPU cores\n",
      "HPU available: False, using: 0 HPUs\n",
      "LOCAL_RANK: 0 - CUDA_VISIBLE_DEVICES: [0]\n",
      "\n",
      "  | Name             | Type           | Params | Mode \n",
      "------------------------------------------------------------\n",
      "0 | loss             | MAE            | 0      | train\n",
      "1 | logging_metrics  | ModuleList     | 0      | train\n",
      "2 | embeddings       | MultiEmbedding | 3      | train\n",
      "3 | rnn              | LSTM           | 3.2 K  | train\n",
      "4 | output_projector | Linear         | 16     | train\n",
      "------------------------------------------------------------\n",
      "3.2 K     Trainable params\n",
      "0         Non-trainable params\n",
      "3.2 K     Total params\n",
      "0.013     Total estimated model params size (MB)\n"
     ]
    },
    {
     "name": "stdout",
     "output_type": "stream",
     "text": [
      "Training model for bool_weather_missing_values using stretchedSociety_block_95_MAC004066.csv\n",
      "9985\n"
     ]
    },
    {
     "name": "stderr",
     "output_type": "stream",
     "text": [
      "Metric val_loss improved. New best score: 0.245\n",
      "Metric val_loss improved by 0.017 >= min_delta = 0.0001. New best score: 0.229\n",
      "Metric val_loss improved by 0.005 >= min_delta = 0.0001. New best score: 0.224\n",
      "Metric val_loss improved by 0.004 >= min_delta = 0.0001. New best score: 0.220\n",
      "Metric val_loss improved by 0.030 >= min_delta = 0.0001. New best score: 0.190\n",
      "Metric val_loss improved by 0.006 >= min_delta = 0.0001. New best score: 0.184\n",
      "Monitored metric val_loss did not improve in the last 10 records. Best score: 0.184. Signaling Trainer to stop.\n",
      "GPU available: True (cuda), used: True\n",
      "TPU available: False, using: 0 TPU cores\n",
      "HPU available: False, using: 0 HPUs\n",
      "LOCAL_RANK: 0 - CUDA_VISIBLE_DEVICES: [0]\n",
      "GPU available: True (cuda), used: False\n",
      "TPU available: False, using: 0 TPU cores\n",
      "HPU available: False, using: 0 HPUs\n",
      "Seed set to 81\n",
      "GPU available: True (cuda), used: True\n",
      "TPU available: False, using: 0 TPU cores\n",
      "HPU available: False, using: 0 HPUs\n",
      "LOCAL_RANK: 0 - CUDA_VISIBLE_DEVICES: [0]\n",
      "\n",
      "  | Name             | Type           | Params | Mode \n",
      "------------------------------------------------------------\n",
      "0 | loss             | MAE            | 0      | train\n",
      "1 | logging_metrics  | ModuleList     | 0      | train\n",
      "2 | embeddings       | MultiEmbedding | 2      | train\n",
      "3 | rnn              | LSTM           | 3.2 K  | train\n",
      "4 | output_projector | Linear         | 16     | train\n",
      "------------------------------------------------------------\n",
      "3.2 K     Trainable params\n",
      "0         Non-trainable params\n",
      "3.2 K     Total params\n",
      "0.013     Total estimated model params size (MB)\n"
     ]
    },
    {
     "name": "stdout",
     "output_type": "stream",
     "text": [
      "Training model for # using stretchedSociety_block_102_MAC003964.csv\n",
      "9985\n"
     ]
    },
    {
     "name": "stderr",
     "output_type": "stream",
     "text": [
      "Metric val_loss improved. New best score: 0.108\n",
      "Monitored metric val_loss did not improve in the last 10 records. Best score: 0.108. Signaling Trainer to stop.\n",
      "GPU available: True (cuda), used: True\n",
      "TPU available: False, using: 0 TPU cores\n",
      "HPU available: False, using: 0 HPUs\n",
      "LOCAL_RANK: 0 - CUDA_VISIBLE_DEVICES: [0]\n",
      "GPU available: True (cuda), used: False\n",
      "TPU available: False, using: 0 TPU cores\n",
      "HPU available: False, using: 0 HPUs\n",
      "Seed set to 81\n"
     ]
    },
    {
     "name": "stdout",
     "output_type": "stream",
     "text": [
      "Training model for dayofweek_num using stretchedSociety_block_102_MAC003964.csv\n",
      "9985\n"
     ]
    },
    {
     "name": "stderr",
     "output_type": "stream",
     "text": [
      "GPU available: True (cuda), used: True\n",
      "TPU available: False, using: 0 TPU cores\n",
      "HPU available: False, using: 0 HPUs\n",
      "LOCAL_RANK: 0 - CUDA_VISIBLE_DEVICES: [0]\n",
      "\n",
      "  | Name             | Type           | Params | Mode \n",
      "------------------------------------------------------------\n",
      "0 | loss             | MAE            | 0      | train\n",
      "1 | logging_metrics  | ModuleList     | 0      | train\n",
      "2 | embeddings       | MultiEmbedding | 37     | train\n",
      "3 | rnn              | LSTM           | 3.4 K  | train\n",
      "4 | output_projector | Linear         | 16     | train\n",
      "------------------------------------------------------------\n",
      "3.5 K     Trainable params\n",
      "0         Non-trainable params\n",
      "3.5 K     Total params\n",
      "0.014     Total estimated model params size (MB)\n",
      "Metric val_loss improved. New best score: 0.110\n",
      "Metric val_loss improved by 0.002 >= min_delta = 0.0001. New best score: 0.108\n",
      "Monitored metric val_loss did not improve in the last 10 records. Best score: 0.108. Signaling Trainer to stop.\n",
      "GPU available: True (cuda), used: True\n",
      "TPU available: False, using: 0 TPU cores\n",
      "HPU available: False, using: 0 HPUs\n",
      "LOCAL_RANK: 0 - CUDA_VISIBLE_DEVICES: [0]\n",
      "GPU available: True (cuda), used: False\n",
      "TPU available: False, using: 0 TPU cores\n",
      "HPU available: False, using: 0 HPUs\n",
      "Seed set to 81\n",
      "GPU available: True (cuda), used: True\n",
      "TPU available: False, using: 0 TPU cores\n",
      "HPU available: False, using: 0 HPUs\n",
      "LOCAL_RANK: 0 - CUDA_VISIBLE_DEVICES: [0]\n",
      "\n",
      "  | Name             | Type           | Params | Mode \n",
      "------------------------------------------------------------\n",
      "0 | loss             | MAE            | 0      | train\n",
      "1 | logging_metrics  | ModuleList     | 0      | train\n",
      "2 | embeddings       | MultiEmbedding | 218    | train\n",
      "3 | rnn              | LSTM           | 3.7 K  | train\n",
      "4 | output_projector | Linear         | 16     | train\n",
      "------------------------------------------------------------\n",
      "3.9 K     Trainable params\n",
      "0         Non-trainable params\n",
      "3.9 K     Total params\n",
      "0.016     Total estimated model params size (MB)\n"
     ]
    },
    {
     "name": "stdout",
     "output_type": "stream",
     "text": [
      "Training model for hour using stretchedSociety_block_102_MAC003964.csv\n",
      "9985\n"
     ]
    },
    {
     "name": "stderr",
     "output_type": "stream",
     "text": [
      "Metric val_loss improved. New best score: 0.095\n",
      "Monitored metric val_loss did not improve in the last 10 records. Best score: 0.095. Signaling Trainer to stop.\n",
      "GPU available: True (cuda), used: True\n",
      "TPU available: False, using: 0 TPU cores\n",
      "HPU available: False, using: 0 HPUs\n",
      "LOCAL_RANK: 0 - CUDA_VISIBLE_DEVICES: [0]\n",
      "GPU available: True (cuda), used: False\n",
      "TPU available: False, using: 0 TPU cores\n",
      "HPU available: False, using: 0 HPUs\n",
      "Seed set to 81\n",
      "GPU available: True (cuda), used: True\n",
      "TPU available: False, using: 0 TPU cores\n",
      "HPU available: False, using: 0 HPUs\n",
      "LOCAL_RANK: 0 - CUDA_VISIBLE_DEVICES: [0]\n",
      "\n",
      "  | Name             | Type           | Params | Mode \n",
      "------------------------------------------------------------\n",
      "0 | loss             | MAE            | 0      | train\n",
      "1 | logging_metrics  | ModuleList     | 0      | train\n",
      "2 | embeddings       | MultiEmbedding | 4      | train\n",
      "3 | rnn              | LSTM           | 3.2 K  | train\n",
      "4 | output_projector | Linear         | 16     | train\n",
      "------------------------------------------------------------\n",
      "3.2 K     Trainable params\n",
      "0         Non-trainable params\n",
      "3.2 K     Total params\n",
      "0.013     Total estimated model params size (MB)\n"
     ]
    },
    {
     "name": "stdout",
     "output_type": "stream",
     "text": [
      "Training model for holiday using stretchedSociety_block_102_MAC003964.csv\n",
      "9985\n"
     ]
    },
    {
     "name": "stderr",
     "output_type": "stream",
     "text": [
      "Metric val_loss improved. New best score: 0.107\n",
      "Monitored metric val_loss did not improve in the last 10 records. Best score: 0.107. Signaling Trainer to stop.\n",
      "GPU available: True (cuda), used: True\n",
      "TPU available: False, using: 0 TPU cores\n",
      "HPU available: False, using: 0 HPUs\n",
      "LOCAL_RANK: 0 - CUDA_VISIBLE_DEVICES: [0]\n",
      "GPU available: True (cuda), used: False\n",
      "TPU available: False, using: 0 TPU cores\n",
      "HPU available: False, using: 0 HPUs\n",
      "Seed set to 81\n",
      "GPU available: True (cuda), used: True\n",
      "TPU available: False, using: 0 TPU cores\n",
      "HPU available: False, using: 0 HPUs\n",
      "LOCAL_RANK: 0 - CUDA_VISIBLE_DEVICES: [0]\n",
      "\n",
      "  | Name             | Type           | Params | Mode \n",
      "------------------------------------------------------------\n",
      "0 | loss             | MAE            | 0      | train\n",
      "1 | logging_metrics  | ModuleList     | 0      | train\n",
      "2 | embeddings       | MultiEmbedding | 11     | train\n",
      "3 | rnn              | LSTM           | 3.3 K  | train\n",
      "4 | output_projector | Linear         | 16     | train\n",
      "------------------------------------------------------------\n",
      "3.3 K     Trainable params\n",
      "0         Non-trainable params\n",
      "3.3 K     Total params\n",
      "0.013     Total estimated model params size (MB)\n"
     ]
    },
    {
     "name": "stdout",
     "output_type": "stream",
     "text": [
      "Training model for precipType using stretchedSociety_block_102_MAC003964.csv\n",
      "9985\n"
     ]
    },
    {
     "name": "stderr",
     "output_type": "stream",
     "text": [
      "Metric val_loss improved. New best score: 0.113\n",
      "Metric val_loss improved by 0.006 >= min_delta = 0.0001. New best score: 0.106\n",
      "Monitored metric val_loss did not improve in the last 10 records. Best score: 0.106. Signaling Trainer to stop.\n",
      "GPU available: True (cuda), used: True\n",
      "TPU available: False, using: 0 TPU cores\n",
      "HPU available: False, using: 0 HPUs\n",
      "LOCAL_RANK: 0 - CUDA_VISIBLE_DEVICES: [0]\n",
      "GPU available: True (cuda), used: False\n",
      "TPU available: False, using: 0 TPU cores\n",
      "HPU available: False, using: 0 HPUs\n",
      "Seed set to 81\n",
      "GPU available: True (cuda), used: True\n",
      "TPU available: False, using: 0 TPU cores\n",
      "HPU available: False, using: 0 HPUs\n",
      "LOCAL_RANK: 0 - CUDA_VISIBLE_DEVICES: [0]\n",
      "\n",
      "  | Name             | Type           | Params | Mode \n",
      "------------------------------------------------------------\n",
      "0 | loss             | MAE            | 0      | train\n",
      "1 | logging_metrics  | ModuleList     | 0      | train\n",
      "2 | embeddings       | MultiEmbedding | 74     | train\n",
      "3 | rnn              | LSTM           | 3.5 K  | train\n",
      "4 | output_projector | Linear         | 16     | train\n",
      "------------------------------------------------------------\n",
      "3.6 K     Trainable params\n",
      "0         Non-trainable params\n",
      "3.6 K     Total params\n",
      "0.014     Total estimated model params size (MB)\n"
     ]
    },
    {
     "name": "stdout",
     "output_type": "stream",
     "text": [
      "Training model for month using stretchedSociety_block_102_MAC003964.csv\n",
      "9985\n"
     ]
    },
    {
     "name": "stderr",
     "output_type": "stream",
     "text": [
      "Metric val_loss improved. New best score: 0.115\n",
      "Monitored metric val_loss did not improve in the last 10 records. Best score: 0.115. Signaling Trainer to stop.\n",
      "GPU available: True (cuda), used: True\n",
      "TPU available: False, using: 0 TPU cores\n",
      "HPU available: False, using: 0 HPUs\n",
      "LOCAL_RANK: 0 - CUDA_VISIBLE_DEVICES: [0]\n",
      "GPU available: True (cuda), used: False\n",
      "TPU available: False, using: 0 TPU cores\n",
      "HPU available: False, using: 0 HPUs\n",
      "Seed set to 81\n",
      "GPU available: True (cuda), used: True\n",
      "TPU available: False, using: 0 TPU cores\n",
      "HPU available: False, using: 0 HPUs\n",
      "LOCAL_RANK: 0 - CUDA_VISIBLE_DEVICES: [0]\n",
      "\n",
      "  | Name             | Type           | Params | Mode \n",
      "------------------------------------------------------------\n",
      "0 | loss             | MAE            | 0      | train\n",
      "1 | logging_metrics  | ModuleList     | 0      | train\n",
      "2 | embeddings       | MultiEmbedding | 3      | train\n",
      "3 | rnn              | LSTM           | 3.2 K  | train\n",
      "4 | output_projector | Linear         | 16     | train\n",
      "------------------------------------------------------------\n",
      "3.2 K     Trainable params\n",
      "0         Non-trainable params\n",
      "3.2 K     Total params\n",
      "0.013     Total estimated model params size (MB)\n"
     ]
    },
    {
     "name": "stdout",
     "output_type": "stream",
     "text": [
      "Training model for bool_weather_missing_values using stretchedSociety_block_102_MAC003964.csv\n",
      "9985\n"
     ]
    },
    {
     "name": "stderr",
     "output_type": "stream",
     "text": [
      "Metric val_loss improved. New best score: 0.107\n",
      "Monitored metric val_loss did not improve in the last 10 records. Best score: 0.107. Signaling Trainer to stop.\n",
      "GPU available: True (cuda), used: True\n",
      "TPU available: False, using: 0 TPU cores\n",
      "HPU available: False, using: 0 HPUs\n",
      "LOCAL_RANK: 0 - CUDA_VISIBLE_DEVICES: [0]\n",
      "GPU available: True (cuda), used: False\n",
      "TPU available: False, using: 0 TPU cores\n",
      "HPU available: False, using: 0 HPUs\n",
      "Seed set to 81\n",
      "GPU available: True (cuda), used: True\n",
      "TPU available: False, using: 0 TPU cores\n",
      "HPU available: False, using: 0 HPUs\n",
      "LOCAL_RANK: 0 - CUDA_VISIBLE_DEVICES: [0]\n",
      "\n",
      "  | Name             | Type           | Params | Mode \n",
      "------------------------------------------------------------\n",
      "0 | loss             | MAE            | 0      | train\n",
      "1 | logging_metrics  | ModuleList     | 0      | train\n",
      "2 | embeddings       | MultiEmbedding | 2      | train\n",
      "3 | rnn              | LSTM           | 3.2 K  | train\n",
      "4 | output_projector | Linear         | 16     | train\n",
      "------------------------------------------------------------\n",
      "3.2 K     Trainable params\n",
      "0         Non-trainable params\n",
      "3.2 K     Total params\n",
      "0.013     Total estimated model params size (MB)\n"
     ]
    },
    {
     "name": "stdout",
     "output_type": "stream",
     "text": [
      "Training model for # using stretchedSociety_block_96_MAC001188.csv\n",
      "9985\n"
     ]
    },
    {
     "name": "stderr",
     "output_type": "stream",
     "text": [
      "Metric val_loss improved. New best score: 0.179\n",
      "Metric val_loss improved by 0.058 >= min_delta = 0.0001. New best score: 0.121\n",
      "Metric val_loss improved by 0.012 >= min_delta = 0.0001. New best score: 0.109\n",
      "Monitored metric val_loss did not improve in the last 10 records. Best score: 0.109. Signaling Trainer to stop.\n",
      "GPU available: True (cuda), used: True\n",
      "TPU available: False, using: 0 TPU cores\n",
      "HPU available: False, using: 0 HPUs\n",
      "LOCAL_RANK: 0 - CUDA_VISIBLE_DEVICES: [0]\n",
      "GPU available: True (cuda), used: False\n",
      "TPU available: False, using: 0 TPU cores\n",
      "HPU available: False, using: 0 HPUs\n",
      "Seed set to 81\n",
      "GPU available: True (cuda), used: True\n",
      "TPU available: False, using: 0 TPU cores\n",
      "HPU available: False, using: 0 HPUs\n",
      "LOCAL_RANK: 0 - CUDA_VISIBLE_DEVICES: [0]\n",
      "\n",
      "  | Name             | Type           | Params | Mode \n",
      "------------------------------------------------------------\n",
      "0 | loss             | MAE            | 0      | train\n",
      "1 | logging_metrics  | ModuleList     | 0      | train\n",
      "2 | embeddings       | MultiEmbedding | 37     | train\n",
      "3 | rnn              | LSTM           | 3.4 K  | train\n",
      "4 | output_projector | Linear         | 16     | train\n",
      "------------------------------------------------------------\n",
      "3.5 K     Trainable params\n",
      "0         Non-trainable params\n",
      "3.5 K     Total params\n",
      "0.014     Total estimated model params size (MB)\n"
     ]
    },
    {
     "name": "stdout",
     "output_type": "stream",
     "text": [
      "Training model for dayofweek_num using stretchedSociety_block_96_MAC001188.csv\n",
      "9985\n"
     ]
    },
    {
     "name": "stderr",
     "output_type": "stream",
     "text": [
      "Metric val_loss improved. New best score: 0.195\n",
      "Metric val_loss improved by 0.072 >= min_delta = 0.0001. New best score: 0.123\n",
      "Monitored metric val_loss did not improve in the last 10 records. Best score: 0.123. Signaling Trainer to stop.\n",
      "GPU available: True (cuda), used: True\n",
      "TPU available: False, using: 0 TPU cores\n",
      "HPU available: False, using: 0 HPUs\n",
      "LOCAL_RANK: 0 - CUDA_VISIBLE_DEVICES: [0]\n",
      "GPU available: True (cuda), used: False\n",
      "TPU available: False, using: 0 TPU cores\n",
      "HPU available: False, using: 0 HPUs\n",
      "Seed set to 81\n",
      "GPU available: True (cuda), used: True\n",
      "TPU available: False, using: 0 TPU cores\n",
      "HPU available: False, using: 0 HPUs\n",
      "LOCAL_RANK: 0 - CUDA_VISIBLE_DEVICES: [0]\n",
      "\n",
      "  | Name             | Type           | Params | Mode \n",
      "------------------------------------------------------------\n",
      "0 | loss             | MAE            | 0      | train\n",
      "1 | logging_metrics  | ModuleList     | 0      | train\n",
      "2 | embeddings       | MultiEmbedding | 218    | train\n",
      "3 | rnn              | LSTM           | 3.7 K  | train\n",
      "4 | output_projector | Linear         | 16     | train\n",
      "------------------------------------------------------------\n",
      "3.9 K     Trainable params\n",
      "0         Non-trainable params\n",
      "3.9 K     Total params\n",
      "0.016     Total estimated model params size (MB)\n"
     ]
    },
    {
     "name": "stdout",
     "output_type": "stream",
     "text": [
      "Training model for hour using stretchedSociety_block_96_MAC001188.csv\n",
      "9985\n"
     ]
    },
    {
     "name": "stderr",
     "output_type": "stream",
     "text": [
      "Metric val_loss improved. New best score: 0.114\n",
      "Metric val_loss improved by 0.003 >= min_delta = 0.0001. New best score: 0.110\n",
      "Monitored metric val_loss did not improve in the last 10 records. Best score: 0.110. Signaling Trainer to stop.\n",
      "GPU available: True (cuda), used: True\n",
      "TPU available: False, using: 0 TPU cores\n",
      "HPU available: False, using: 0 HPUs\n",
      "LOCAL_RANK: 0 - CUDA_VISIBLE_DEVICES: [0]\n",
      "GPU available: True (cuda), used: False\n",
      "TPU available: False, using: 0 TPU cores\n",
      "HPU available: False, using: 0 HPUs\n",
      "Seed set to 81\n",
      "GPU available: True (cuda), used: True\n",
      "TPU available: False, using: 0 TPU cores\n",
      "HPU available: False, using: 0 HPUs\n",
      "LOCAL_RANK: 0 - CUDA_VISIBLE_DEVICES: [0]\n",
      "\n",
      "  | Name             | Type           | Params | Mode \n",
      "------------------------------------------------------------\n",
      "0 | loss             | MAE            | 0      | train\n",
      "1 | logging_metrics  | ModuleList     | 0      | train\n",
      "2 | embeddings       | MultiEmbedding | 4      | train\n",
      "3 | rnn              | LSTM           | 3.2 K  | train\n",
      "4 | output_projector | Linear         | 16     | train\n",
      "------------------------------------------------------------\n",
      "3.2 K     Trainable params\n",
      "0         Non-trainable params\n",
      "3.2 K     Total params\n",
      "0.013     Total estimated model params size (MB)\n"
     ]
    },
    {
     "name": "stdout",
     "output_type": "stream",
     "text": [
      "Training model for holiday using stretchedSociety_block_96_MAC001188.csv\n",
      "9985\n"
     ]
    },
    {
     "name": "stderr",
     "output_type": "stream",
     "text": [
      "Metric val_loss improved. New best score: 0.252\n",
      "Metric val_loss improved by 0.006 >= min_delta = 0.0001. New best score: 0.246\n",
      "Metric val_loss improved by 0.125 >= min_delta = 0.0001. New best score: 0.121\n",
      "Metric val_loss improved by 0.001 >= min_delta = 0.0001. New best score: 0.120\n",
      "Monitored metric val_loss did not improve in the last 10 records. Best score: 0.120. Signaling Trainer to stop.\n",
      "GPU available: True (cuda), used: True\n",
      "TPU available: False, using: 0 TPU cores\n",
      "HPU available: False, using: 0 HPUs\n",
      "LOCAL_RANK: 0 - CUDA_VISIBLE_DEVICES: [0]\n",
      "GPU available: True (cuda), used: False\n",
      "TPU available: False, using: 0 TPU cores\n",
      "HPU available: False, using: 0 HPUs\n",
      "Seed set to 81\n",
      "GPU available: True (cuda), used: True\n",
      "TPU available: False, using: 0 TPU cores\n",
      "HPU available: False, using: 0 HPUs\n",
      "LOCAL_RANK: 0 - CUDA_VISIBLE_DEVICES: [0]\n",
      "\n",
      "  | Name             | Type           | Params | Mode \n",
      "------------------------------------------------------------\n",
      "0 | loss             | MAE            | 0      | train\n",
      "1 | logging_metrics  | ModuleList     | 0      | train\n",
      "2 | embeddings       | MultiEmbedding | 11     | train\n",
      "3 | rnn              | LSTM           | 3.3 K  | train\n",
      "4 | output_projector | Linear         | 16     | train\n",
      "------------------------------------------------------------\n",
      "3.3 K     Trainable params\n",
      "0         Non-trainable params\n",
      "3.3 K     Total params\n",
      "0.013     Total estimated model params size (MB)\n"
     ]
    },
    {
     "name": "stdout",
     "output_type": "stream",
     "text": [
      "Training model for precipType using stretchedSociety_block_96_MAC001188.csv\n",
      "9985\n"
     ]
    },
    {
     "name": "stderr",
     "output_type": "stream",
     "text": [
      "Metric val_loss improved. New best score: 0.182\n",
      "Metric val_loss improved by 0.067 >= min_delta = 0.0001. New best score: 0.115\n",
      "Metric val_loss improved by 0.010 >= min_delta = 0.0001. New best score: 0.105\n",
      "Monitored metric val_loss did not improve in the last 10 records. Best score: 0.105. Signaling Trainer to stop.\n",
      "GPU available: True (cuda), used: True\n",
      "TPU available: False, using: 0 TPU cores\n",
      "HPU available: False, using: 0 HPUs\n",
      "LOCAL_RANK: 0 - CUDA_VISIBLE_DEVICES: [0]\n",
      "GPU available: True (cuda), used: False\n",
      "TPU available: False, using: 0 TPU cores\n",
      "HPU available: False, using: 0 HPUs\n",
      "Seed set to 81\n",
      "GPU available: True (cuda), used: True\n",
      "TPU available: False, using: 0 TPU cores\n",
      "HPU available: False, using: 0 HPUs\n",
      "LOCAL_RANK: 0 - CUDA_VISIBLE_DEVICES: [0]\n",
      "\n",
      "  | Name             | Type           | Params | Mode \n",
      "------------------------------------------------------------\n",
      "0 | loss             | MAE            | 0      | train\n",
      "1 | logging_metrics  | ModuleList     | 0      | train\n",
      "2 | embeddings       | MultiEmbedding | 74     | train\n",
      "3 | rnn              | LSTM           | 3.5 K  | train\n",
      "4 | output_projector | Linear         | 16     | train\n",
      "------------------------------------------------------------\n",
      "3.6 K     Trainable params\n",
      "0         Non-trainable params\n",
      "3.6 K     Total params\n",
      "0.014     Total estimated model params size (MB)\n"
     ]
    },
    {
     "name": "stdout",
     "output_type": "stream",
     "text": [
      "Training model for month using stretchedSociety_block_96_MAC001188.csv\n",
      "9985\n"
     ]
    },
    {
     "name": "stderr",
     "output_type": "stream",
     "text": [
      "Metric val_loss improved. New best score: 0.188\n",
      "Metric val_loss improved by 0.087 >= min_delta = 0.0001. New best score: 0.102\n",
      "Monitored metric val_loss did not improve in the last 10 records. Best score: 0.102. Signaling Trainer to stop.\n",
      "GPU available: True (cuda), used: True\n",
      "TPU available: False, using: 0 TPU cores\n",
      "HPU available: False, using: 0 HPUs\n",
      "LOCAL_RANK: 0 - CUDA_VISIBLE_DEVICES: [0]\n",
      "GPU available: True (cuda), used: False\n",
      "TPU available: False, using: 0 TPU cores\n",
      "HPU available: False, using: 0 HPUs\n",
      "Seed set to 81\n",
      "GPU available: True (cuda), used: True\n",
      "TPU available: False, using: 0 TPU cores\n",
      "HPU available: False, using: 0 HPUs\n",
      "LOCAL_RANK: 0 - CUDA_VISIBLE_DEVICES: [0]\n",
      "\n",
      "  | Name             | Type           | Params | Mode \n",
      "------------------------------------------------------------\n",
      "0 | loss             | MAE            | 0      | train\n",
      "1 | logging_metrics  | ModuleList     | 0      | train\n",
      "2 | embeddings       | MultiEmbedding | 3      | train\n",
      "3 | rnn              | LSTM           | 3.2 K  | train\n",
      "4 | output_projector | Linear         | 16     | train\n",
      "------------------------------------------------------------\n",
      "3.2 K     Trainable params\n",
      "0         Non-trainable params\n",
      "3.2 K     Total params\n",
      "0.013     Total estimated model params size (MB)\n"
     ]
    },
    {
     "name": "stdout",
     "output_type": "stream",
     "text": [
      "Training model for bool_weather_missing_values using stretchedSociety_block_96_MAC001188.csv\n",
      "9985\n"
     ]
    },
    {
     "name": "stderr",
     "output_type": "stream",
     "text": [
      "Metric val_loss improved. New best score: 0.252\n",
      "Metric val_loss improved by 0.033 >= min_delta = 0.0001. New best score: 0.220\n",
      "Metric val_loss improved by 0.068 >= min_delta = 0.0001. New best score: 0.152\n",
      "Metric val_loss improved by 0.040 >= min_delta = 0.0001. New best score: 0.112\n",
      "Metric val_loss improved by 0.007 >= min_delta = 0.0001. New best score: 0.105\n",
      "Monitored metric val_loss did not improve in the last 10 records. Best score: 0.105. Signaling Trainer to stop.\n",
      "GPU available: True (cuda), used: True\n",
      "TPU available: False, using: 0 TPU cores\n",
      "HPU available: False, using: 0 HPUs\n",
      "LOCAL_RANK: 0 - CUDA_VISIBLE_DEVICES: [0]\n",
      "GPU available: True (cuda), used: False\n",
      "TPU available: False, using: 0 TPU cores\n",
      "HPU available: False, using: 0 HPUs\n",
      "Seed set to 81\n",
      "GPU available: True (cuda), used: True\n",
      "TPU available: False, using: 0 TPU cores\n",
      "HPU available: False, using: 0 HPUs\n",
      "LOCAL_RANK: 0 - CUDA_VISIBLE_DEVICES: [0]\n",
      "\n",
      "  | Name             | Type           | Params | Mode \n",
      "------------------------------------------------------------\n",
      "0 | loss             | MAE            | 0      | train\n",
      "1 | logging_metrics  | ModuleList     | 0      | train\n",
      "2 | embeddings       | MultiEmbedding | 2      | train\n",
      "3 | rnn              | LSTM           | 3.2 K  | train\n",
      "4 | output_projector | Linear         | 16     | train\n",
      "------------------------------------------------------------\n",
      "3.2 K     Trainable params\n",
      "0         Non-trainable params\n",
      "3.2 K     Total params\n",
      "0.013     Total estimated model params size (MB)\n"
     ]
    },
    {
     "name": "stdout",
     "output_type": "stream",
     "text": [
      "Training model for # using establishedAffluence_block_28_MAC004904.csv\n",
      "9985\n"
     ]
    },
    {
     "name": "stderr",
     "output_type": "stream",
     "text": [
      "Metric val_loss improved. New best score: 0.048\n",
      "Metric val_loss improved by 0.002 >= min_delta = 0.0001. New best score: 0.046\n",
      "Metric val_loss improved by 0.002 >= min_delta = 0.0001. New best score: 0.045\n",
      "Metric val_loss improved by 0.003 >= min_delta = 0.0001. New best score: 0.041\n",
      "Monitored metric val_loss did not improve in the last 10 records. Best score: 0.041. Signaling Trainer to stop.\n",
      "GPU available: True (cuda), used: True\n",
      "TPU available: False, using: 0 TPU cores\n",
      "HPU available: False, using: 0 HPUs\n",
      "LOCAL_RANK: 0 - CUDA_VISIBLE_DEVICES: [0]\n",
      "GPU available: True (cuda), used: False\n",
      "TPU available: False, using: 0 TPU cores\n",
      "HPU available: False, using: 0 HPUs\n",
      "Seed set to 81\n",
      "GPU available: True (cuda), used: True\n",
      "TPU available: False, using: 0 TPU cores\n",
      "HPU available: False, using: 0 HPUs\n",
      "LOCAL_RANK: 0 - CUDA_VISIBLE_DEVICES: [0]\n",
      "\n",
      "  | Name             | Type           | Params | Mode \n",
      "------------------------------------------------------------\n",
      "0 | loss             | MAE            | 0      | train\n",
      "1 | logging_metrics  | ModuleList     | 0      | train\n",
      "2 | embeddings       | MultiEmbedding | 37     | train\n",
      "3 | rnn              | LSTM           | 3.4 K  | train\n",
      "4 | output_projector | Linear         | 16     | train\n",
      "------------------------------------------------------------\n",
      "3.5 K     Trainable params\n",
      "0         Non-trainable params\n",
      "3.5 K     Total params\n",
      "0.014     Total estimated model params size (MB)\n"
     ]
    },
    {
     "name": "stdout",
     "output_type": "stream",
     "text": [
      "Training model for dayofweek_num using establishedAffluence_block_28_MAC004904.csv\n",
      "9985\n"
     ]
    },
    {
     "name": "stderr",
     "output_type": "stream",
     "text": [
      "Metric val_loss improved. New best score: 0.044\n",
      "Metric val_loss improved by 0.003 >= min_delta = 0.0001. New best score: 0.041\n",
      "Metric val_loss improved by 0.001 >= min_delta = 0.0001. New best score: 0.041\n",
      "Monitored metric val_loss did not improve in the last 10 records. Best score: 0.041. Signaling Trainer to stop.\n",
      "GPU available: True (cuda), used: True\n",
      "TPU available: False, using: 0 TPU cores\n",
      "HPU available: False, using: 0 HPUs\n",
      "LOCAL_RANK: 0 - CUDA_VISIBLE_DEVICES: [0]\n",
      "GPU available: True (cuda), used: False\n",
      "TPU available: False, using: 0 TPU cores\n",
      "HPU available: False, using: 0 HPUs\n",
      "Seed set to 81\n",
      "GPU available: True (cuda), used: True\n",
      "TPU available: False, using: 0 TPU cores\n",
      "HPU available: False, using: 0 HPUs\n",
      "LOCAL_RANK: 0 - CUDA_VISIBLE_DEVICES: [0]\n",
      "\n",
      "  | Name             | Type           | Params | Mode \n",
      "------------------------------------------------------------\n",
      "0 | loss             | MAE            | 0      | train\n",
      "1 | logging_metrics  | ModuleList     | 0      | train\n",
      "2 | embeddings       | MultiEmbedding | 218    | train\n",
      "3 | rnn              | LSTM           | 3.7 K  | train\n",
      "4 | output_projector | Linear         | 16     | train\n",
      "------------------------------------------------------------\n",
      "3.9 K     Trainable params\n",
      "0         Non-trainable params\n",
      "3.9 K     Total params\n",
      "0.016     Total estimated model params size (MB)\n"
     ]
    },
    {
     "name": "stdout",
     "output_type": "stream",
     "text": [
      "Training model for hour using establishedAffluence_block_28_MAC004904.csv\n",
      "9985\n"
     ]
    },
    {
     "name": "stderr",
     "output_type": "stream",
     "text": [
      "Metric val_loss improved. New best score: 0.040\n",
      "Metric val_loss improved by 0.003 >= min_delta = 0.0001. New best score: 0.037\n",
      "Metric val_loss improved by 0.001 >= min_delta = 0.0001. New best score: 0.037\n",
      "Monitored metric val_loss did not improve in the last 10 records. Best score: 0.037. Signaling Trainer to stop.\n",
      "GPU available: True (cuda), used: True\n",
      "TPU available: False, using: 0 TPU cores\n",
      "HPU available: False, using: 0 HPUs\n",
      "LOCAL_RANK: 0 - CUDA_VISIBLE_DEVICES: [0]\n",
      "GPU available: True (cuda), used: False\n",
      "TPU available: False, using: 0 TPU cores\n",
      "HPU available: False, using: 0 HPUs\n",
      "Seed set to 81\n",
      "GPU available: True (cuda), used: True\n",
      "TPU available: False, using: 0 TPU cores\n",
      "HPU available: False, using: 0 HPUs\n",
      "LOCAL_RANK: 0 - CUDA_VISIBLE_DEVICES: [0]\n",
      "\n",
      "  | Name             | Type           | Params | Mode \n",
      "------------------------------------------------------------\n",
      "0 | loss             | MAE            | 0      | train\n",
      "1 | logging_metrics  | ModuleList     | 0      | train\n",
      "2 | embeddings       | MultiEmbedding | 4      | train\n",
      "3 | rnn              | LSTM           | 3.2 K  | train\n",
      "4 | output_projector | Linear         | 16     | train\n",
      "------------------------------------------------------------\n",
      "3.2 K     Trainable params\n",
      "0         Non-trainable params\n",
      "3.2 K     Total params\n",
      "0.013     Total estimated model params size (MB)\n"
     ]
    },
    {
     "name": "stdout",
     "output_type": "stream",
     "text": [
      "Training model for holiday using establishedAffluence_block_28_MAC004904.csv\n",
      "9985\n"
     ]
    },
    {
     "name": "stderr",
     "output_type": "stream",
     "text": [
      "Metric val_loss improved. New best score: 0.050\n",
      "Metric val_loss improved by 0.004 >= min_delta = 0.0001. New best score: 0.046\n",
      "Metric val_loss improved by 0.009 >= min_delta = 0.0001. New best score: 0.037\n",
      "Metric val_loss improved by 0.000 >= min_delta = 0.0001. New best score: 0.037\n",
      "Monitored metric val_loss did not improve in the last 10 records. Best score: 0.037. Signaling Trainer to stop.\n",
      "GPU available: True (cuda), used: True\n",
      "TPU available: False, using: 0 TPU cores\n",
      "HPU available: False, using: 0 HPUs\n",
      "LOCAL_RANK: 0 - CUDA_VISIBLE_DEVICES: [0]\n",
      "GPU available: True (cuda), used: False\n",
      "TPU available: False, using: 0 TPU cores\n",
      "HPU available: False, using: 0 HPUs\n",
      "Seed set to 81\n",
      "GPU available: True (cuda), used: True\n",
      "TPU available: False, using: 0 TPU cores\n",
      "HPU available: False, using: 0 HPUs\n",
      "LOCAL_RANK: 0 - CUDA_VISIBLE_DEVICES: [0]\n",
      "\n",
      "  | Name             | Type           | Params | Mode \n",
      "------------------------------------------------------------\n",
      "0 | loss             | MAE            | 0      | train\n",
      "1 | logging_metrics  | ModuleList     | 0      | train\n",
      "2 | embeddings       | MultiEmbedding | 11     | train\n",
      "3 | rnn              | LSTM           | 3.3 K  | train\n",
      "4 | output_projector | Linear         | 16     | train\n",
      "------------------------------------------------------------\n",
      "3.3 K     Trainable params\n",
      "0         Non-trainable params\n",
      "3.3 K     Total params\n",
      "0.013     Total estimated model params size (MB)\n"
     ]
    },
    {
     "name": "stdout",
     "output_type": "stream",
     "text": [
      "Training model for precipType using establishedAffluence_block_28_MAC004904.csv\n",
      "9985\n"
     ]
    },
    {
     "name": "stderr",
     "output_type": "stream",
     "text": [
      "Metric val_loss improved. New best score: 0.054\n",
      "Metric val_loss improved by 0.002 >= min_delta = 0.0001. New best score: 0.052\n",
      "Metric val_loss improved by 0.012 >= min_delta = 0.0001. New best score: 0.040\n",
      "Metric val_loss improved by 0.004 >= min_delta = 0.0001. New best score: 0.036\n",
      "Monitored metric val_loss did not improve in the last 10 records. Best score: 0.036. Signaling Trainer to stop.\n",
      "GPU available: True (cuda), used: True\n",
      "TPU available: False, using: 0 TPU cores\n",
      "HPU available: False, using: 0 HPUs\n",
      "LOCAL_RANK: 0 - CUDA_VISIBLE_DEVICES: [0]\n",
      "GPU available: True (cuda), used: False\n",
      "TPU available: False, using: 0 TPU cores\n",
      "HPU available: False, using: 0 HPUs\n",
      "Seed set to 81\n"
     ]
    },
    {
     "name": "stdout",
     "output_type": "stream",
     "text": [
      "Training model for month using establishedAffluence_block_28_MAC004904.csv\n",
      "9985\n"
     ]
    },
    {
     "name": "stderr",
     "output_type": "stream",
     "text": [
      "GPU available: True (cuda), used: True\n",
      "TPU available: False, using: 0 TPU cores\n",
      "HPU available: False, using: 0 HPUs\n",
      "LOCAL_RANK: 0 - CUDA_VISIBLE_DEVICES: [0]\n",
      "\n",
      "  | Name             | Type           | Params | Mode \n",
      "------------------------------------------------------------\n",
      "0 | loss             | MAE            | 0      | train\n",
      "1 | logging_metrics  | ModuleList     | 0      | train\n",
      "2 | embeddings       | MultiEmbedding | 74     | train\n",
      "3 | rnn              | LSTM           | 3.5 K  | train\n",
      "4 | output_projector | Linear         | 16     | train\n",
      "------------------------------------------------------------\n",
      "3.6 K     Trainable params\n",
      "0         Non-trainable params\n",
      "3.6 K     Total params\n",
      "0.014     Total estimated model params size (MB)\n",
      "Metric val_loss improved. New best score: 0.048\n",
      "Metric val_loss improved by 0.008 >= min_delta = 0.0001. New best score: 0.040\n",
      "Metric val_loss improved by 0.001 >= min_delta = 0.0001. New best score: 0.040\n",
      "Monitored metric val_loss did not improve in the last 10 records. Best score: 0.040. Signaling Trainer to stop.\n",
      "GPU available: True (cuda), used: True\n",
      "TPU available: False, using: 0 TPU cores\n",
      "HPU available: False, using: 0 HPUs\n",
      "LOCAL_RANK: 0 - CUDA_VISIBLE_DEVICES: [0]\n",
      "GPU available: True (cuda), used: False\n",
      "TPU available: False, using: 0 TPU cores\n",
      "HPU available: False, using: 0 HPUs\n",
      "Seed set to 81\n"
     ]
    },
    {
     "name": "stdout",
     "output_type": "stream",
     "text": [
      "Training model for bool_weather_missing_values using establishedAffluence_block_28_MAC004904.csv\n",
      "9985\n"
     ]
    },
    {
     "name": "stderr",
     "output_type": "stream",
     "text": [
      "GPU available: True (cuda), used: True\n",
      "TPU available: False, using: 0 TPU cores\n",
      "HPU available: False, using: 0 HPUs\n",
      "LOCAL_RANK: 0 - CUDA_VISIBLE_DEVICES: [0]\n",
      "\n",
      "  | Name             | Type           | Params | Mode \n",
      "------------------------------------------------------------\n",
      "0 | loss             | MAE            | 0      | train\n",
      "1 | logging_metrics  | ModuleList     | 0      | train\n",
      "2 | embeddings       | MultiEmbedding | 3      | train\n",
      "3 | rnn              | LSTM           | 3.2 K  | train\n",
      "4 | output_projector | Linear         | 16     | train\n",
      "------------------------------------------------------------\n",
      "3.2 K     Trainable params\n",
      "0         Non-trainable params\n",
      "3.2 K     Total params\n",
      "0.013     Total estimated model params size (MB)\n",
      "Metric val_loss improved. New best score: 0.050\n",
      "Metric val_loss improved by 0.010 >= min_delta = 0.0001. New best score: 0.040\n",
      "Metric val_loss improved by 0.000 >= min_delta = 0.0001. New best score: 0.040\n",
      "Metric val_loss improved by 0.000 >= min_delta = 0.0001. New best score: 0.039\n",
      "Monitored metric val_loss did not improve in the last 10 records. Best score: 0.039. Signaling Trainer to stop.\n",
      "GPU available: True (cuda), used: True\n",
      "TPU available: False, using: 0 TPU cores\n",
      "HPU available: False, using: 0 HPUs\n",
      "LOCAL_RANK: 0 - CUDA_VISIBLE_DEVICES: [0]\n",
      "GPU available: True (cuda), used: False\n",
      "TPU available: False, using: 0 TPU cores\n",
      "HPU available: False, using: 0 HPUs\n",
      "Seed set to 81\n",
      "GPU available: True (cuda), used: True\n",
      "TPU available: False, using: 0 TPU cores\n",
      "HPU available: False, using: 0 HPUs\n",
      "LOCAL_RANK: 0 - CUDA_VISIBLE_DEVICES: [0]\n",
      "\n",
      "  | Name             | Type           | Params | Mode \n",
      "------------------------------------------------------------\n",
      "0 | loss             | MAE            | 0      | train\n",
      "1 | logging_metrics  | ModuleList     | 0      | train\n",
      "2 | embeddings       | MultiEmbedding | 2      | train\n",
      "3 | rnn              | LSTM           | 3.2 K  | train\n",
      "4 | output_projector | Linear         | 16     | train\n",
      "------------------------------------------------------------\n",
      "3.2 K     Trainable params\n",
      "0         Non-trainable params\n",
      "3.2 K     Total params\n",
      "0.013     Total estimated model params size (MB)\n"
     ]
    },
    {
     "name": "stdout",
     "output_type": "stream",
     "text": [
      "Training model for # using stretchedSociety_block_106_MAC001460.csv\n",
      "9985\n"
     ]
    },
    {
     "name": "stderr",
     "output_type": "stream",
     "text": [
      "Metric val_loss improved. New best score: 0.028\n",
      "Monitored metric val_loss did not improve in the last 10 records. Best score: 0.028. Signaling Trainer to stop.\n",
      "GPU available: True (cuda), used: True\n",
      "TPU available: False, using: 0 TPU cores\n",
      "HPU available: False, using: 0 HPUs\n",
      "LOCAL_RANK: 0 - CUDA_VISIBLE_DEVICES: [0]\n",
      "GPU available: True (cuda), used: False\n",
      "TPU available: False, using: 0 TPU cores\n",
      "HPU available: False, using: 0 HPUs\n",
      "Seed set to 81\n",
      "GPU available: True (cuda), used: True\n",
      "TPU available: False, using: 0 TPU cores\n",
      "HPU available: False, using: 0 HPUs\n",
      "LOCAL_RANK: 0 - CUDA_VISIBLE_DEVICES: [0]\n",
      "\n",
      "  | Name             | Type           | Params | Mode \n",
      "------------------------------------------------------------\n",
      "0 | loss             | MAE            | 0      | train\n",
      "1 | logging_metrics  | ModuleList     | 0      | train\n",
      "2 | embeddings       | MultiEmbedding | 37     | train\n",
      "3 | rnn              | LSTM           | 3.4 K  | train\n",
      "4 | output_projector | Linear         | 16     | train\n",
      "------------------------------------------------------------\n",
      "3.5 K     Trainable params\n",
      "0         Non-trainable params\n",
      "3.5 K     Total params\n",
      "0.014     Total estimated model params size (MB)\n"
     ]
    },
    {
     "name": "stdout",
     "output_type": "stream",
     "text": [
      "Training model for dayofweek_num using stretchedSociety_block_106_MAC001460.csv\n",
      "9985\n"
     ]
    },
    {
     "name": "stderr",
     "output_type": "stream",
     "text": [
      "Metric val_loss improved. New best score: 0.029\n",
      "Monitored metric val_loss did not improve in the last 10 records. Best score: 0.029. Signaling Trainer to stop.\n",
      "GPU available: True (cuda), used: True\n",
      "TPU available: False, using: 0 TPU cores\n",
      "HPU available: False, using: 0 HPUs\n",
      "LOCAL_RANK: 0 - CUDA_VISIBLE_DEVICES: [0]\n",
      "GPU available: True (cuda), used: False\n",
      "TPU available: False, using: 0 TPU cores\n",
      "HPU available: False, using: 0 HPUs\n",
      "Seed set to 81\n",
      "GPU available: True (cuda), used: True\n",
      "TPU available: False, using: 0 TPU cores\n",
      "HPU available: False, using: 0 HPUs\n",
      "LOCAL_RANK: 0 - CUDA_VISIBLE_DEVICES: [0]\n",
      "\n",
      "  | Name             | Type           | Params | Mode \n",
      "------------------------------------------------------------\n",
      "0 | loss             | MAE            | 0      | train\n",
      "1 | logging_metrics  | ModuleList     | 0      | train\n",
      "2 | embeddings       | MultiEmbedding | 218    | train\n",
      "3 | rnn              | LSTM           | 3.7 K  | train\n",
      "4 | output_projector | Linear         | 16     | train\n",
      "------------------------------------------------------------\n",
      "3.9 K     Trainable params\n",
      "0         Non-trainable params\n",
      "3.9 K     Total params\n",
      "0.016     Total estimated model params size (MB)\n"
     ]
    },
    {
     "name": "stdout",
     "output_type": "stream",
     "text": [
      "Training model for hour using stretchedSociety_block_106_MAC001460.csv\n",
      "9985\n"
     ]
    },
    {
     "name": "stderr",
     "output_type": "stream",
     "text": [
      "Metric val_loss improved. New best score: 0.028\n",
      "Metric val_loss improved by 0.000 >= min_delta = 0.0001. New best score: 0.028\n",
      "Monitored metric val_loss did not improve in the last 10 records. Best score: 0.028. Signaling Trainer to stop.\n",
      "GPU available: True (cuda), used: True\n",
      "TPU available: False, using: 0 TPU cores\n",
      "HPU available: False, using: 0 HPUs\n",
      "LOCAL_RANK: 0 - CUDA_VISIBLE_DEVICES: [0]\n",
      "GPU available: True (cuda), used: False\n",
      "TPU available: False, using: 0 TPU cores\n",
      "HPU available: False, using: 0 HPUs\n",
      "Seed set to 81\n",
      "GPU available: True (cuda), used: True\n",
      "TPU available: False, using: 0 TPU cores\n",
      "HPU available: False, using: 0 HPUs\n",
      "LOCAL_RANK: 0 - CUDA_VISIBLE_DEVICES: [0]\n",
      "\n",
      "  | Name             | Type           | Params | Mode \n",
      "------------------------------------------------------------\n",
      "0 | loss             | MAE            | 0      | train\n",
      "1 | logging_metrics  | ModuleList     | 0      | train\n",
      "2 | embeddings       | MultiEmbedding | 4      | train\n",
      "3 | rnn              | LSTM           | 3.2 K  | train\n",
      "4 | output_projector | Linear         | 16     | train\n",
      "------------------------------------------------------------\n",
      "3.2 K     Trainable params\n",
      "0         Non-trainable params\n",
      "3.2 K     Total params\n",
      "0.013     Total estimated model params size (MB)\n"
     ]
    },
    {
     "name": "stdout",
     "output_type": "stream",
     "text": [
      "Training model for holiday using stretchedSociety_block_106_MAC001460.csv\n",
      "9985\n"
     ]
    },
    {
     "name": "stderr",
     "output_type": "stream",
     "text": [
      "Metric val_loss improved. New best score: 0.028\n",
      "Monitored metric val_loss did not improve in the last 10 records. Best score: 0.028. Signaling Trainer to stop.\n",
      "GPU available: True (cuda), used: True\n",
      "TPU available: False, using: 0 TPU cores\n",
      "HPU available: False, using: 0 HPUs\n",
      "LOCAL_RANK: 0 - CUDA_VISIBLE_DEVICES: [0]\n",
      "GPU available: True (cuda), used: False\n",
      "TPU available: False, using: 0 TPU cores\n",
      "HPU available: False, using: 0 HPUs\n",
      "Seed set to 81\n",
      "GPU available: True (cuda), used: True\n",
      "TPU available: False, using: 0 TPU cores\n",
      "HPU available: False, using: 0 HPUs\n",
      "LOCAL_RANK: 0 - CUDA_VISIBLE_DEVICES: [0]\n",
      "\n",
      "  | Name             | Type           | Params | Mode \n",
      "------------------------------------------------------------\n",
      "0 | loss             | MAE            | 0      | train\n",
      "1 | logging_metrics  | ModuleList     | 0      | train\n",
      "2 | embeddings       | MultiEmbedding | 11     | train\n",
      "3 | rnn              | LSTM           | 3.3 K  | train\n",
      "4 | output_projector | Linear         | 16     | train\n",
      "------------------------------------------------------------\n",
      "3.3 K     Trainable params\n",
      "0         Non-trainable params\n",
      "3.3 K     Total params\n",
      "0.013     Total estimated model params size (MB)\n"
     ]
    },
    {
     "name": "stdout",
     "output_type": "stream",
     "text": [
      "Training model for precipType using stretchedSociety_block_106_MAC001460.csv\n",
      "9985\n"
     ]
    },
    {
     "name": "stderr",
     "output_type": "stream",
     "text": [
      "Metric val_loss improved. New best score: 0.028\n",
      "Monitored metric val_loss did not improve in the last 10 records. Best score: 0.028. Signaling Trainer to stop.\n",
      "GPU available: True (cuda), used: True\n",
      "TPU available: False, using: 0 TPU cores\n",
      "HPU available: False, using: 0 HPUs\n",
      "LOCAL_RANK: 0 - CUDA_VISIBLE_DEVICES: [0]\n",
      "GPU available: True (cuda), used: False\n",
      "TPU available: False, using: 0 TPU cores\n",
      "HPU available: False, using: 0 HPUs\n",
      "Seed set to 81\n",
      "GPU available: True (cuda), used: True\n",
      "TPU available: False, using: 0 TPU cores\n",
      "HPU available: False, using: 0 HPUs\n",
      "LOCAL_RANK: 0 - CUDA_VISIBLE_DEVICES: [0]\n",
      "\n",
      "  | Name             | Type           | Params | Mode \n",
      "------------------------------------------------------------\n",
      "0 | loss             | MAE            | 0      | train\n",
      "1 | logging_metrics  | ModuleList     | 0      | train\n",
      "2 | embeddings       | MultiEmbedding | 74     | train\n",
      "3 | rnn              | LSTM           | 3.5 K  | train\n",
      "4 | output_projector | Linear         | 16     | train\n",
      "------------------------------------------------------------\n",
      "3.6 K     Trainable params\n",
      "0         Non-trainable params\n",
      "3.6 K     Total params\n",
      "0.014     Total estimated model params size (MB)\n"
     ]
    },
    {
     "name": "stdout",
     "output_type": "stream",
     "text": [
      "Training model for month using stretchedSociety_block_106_MAC001460.csv\n",
      "9985\n"
     ]
    },
    {
     "name": "stderr",
     "output_type": "stream",
     "text": [
      "Metric val_loss improved. New best score: 0.028\n",
      "Monitored metric val_loss did not improve in the last 10 records. Best score: 0.028. Signaling Trainer to stop.\n",
      "GPU available: True (cuda), used: True\n",
      "TPU available: False, using: 0 TPU cores\n",
      "HPU available: False, using: 0 HPUs\n",
      "LOCAL_RANK: 0 - CUDA_VISIBLE_DEVICES: [0]\n",
      "GPU available: True (cuda), used: False\n",
      "TPU available: False, using: 0 TPU cores\n",
      "HPU available: False, using: 0 HPUs\n",
      "Seed set to 81\n",
      "GPU available: True (cuda), used: True\n",
      "TPU available: False, using: 0 TPU cores\n",
      "HPU available: False, using: 0 HPUs\n",
      "LOCAL_RANK: 0 - CUDA_VISIBLE_DEVICES: [0]\n",
      "\n",
      "  | Name             | Type           | Params | Mode \n",
      "------------------------------------------------------------\n",
      "0 | loss             | MAE            | 0      | train\n",
      "1 | logging_metrics  | ModuleList     | 0      | train\n",
      "2 | embeddings       | MultiEmbedding | 3      | train\n",
      "3 | rnn              | LSTM           | 3.2 K  | train\n",
      "4 | output_projector | Linear         | 16     | train\n",
      "------------------------------------------------------------\n",
      "3.2 K     Trainable params\n",
      "0         Non-trainable params\n",
      "3.2 K     Total params\n",
      "0.013     Total estimated model params size (MB)\n"
     ]
    },
    {
     "name": "stdout",
     "output_type": "stream",
     "text": [
      "Training model for bool_weather_missing_values using stretchedSociety_block_106_MAC001460.csv\n",
      "9985\n"
     ]
    },
    {
     "name": "stderr",
     "output_type": "stream",
     "text": [
      "Metric val_loss improved. New best score: 0.028\n",
      "Monitored metric val_loss did not improve in the last 10 records. Best score: 0.028. Signaling Trainer to stop.\n",
      "GPU available: True (cuda), used: True\n",
      "TPU available: False, using: 0 TPU cores\n",
      "HPU available: False, using: 0 HPUs\n",
      "LOCAL_RANK: 0 - CUDA_VISIBLE_DEVICES: [0]\n",
      "GPU available: True (cuda), used: False\n",
      "TPU available: False, using: 0 TPU cores\n",
      "HPU available: False, using: 0 HPUs\n",
      "Seed set to 81\n",
      "GPU available: True (cuda), used: True\n",
      "TPU available: False, using: 0 TPU cores\n",
      "HPU available: False, using: 0 HPUs\n",
      "LOCAL_RANK: 0 - CUDA_VISIBLE_DEVICES: [0]\n",
      "\n",
      "  | Name             | Type           | Params | Mode \n",
      "------------------------------------------------------------\n",
      "0 | loss             | MAE            | 0      | train\n",
      "1 | logging_metrics  | ModuleList     | 0      | train\n",
      "2 | embeddings       | MultiEmbedding | 2      | train\n",
      "3 | rnn              | LSTM           | 3.2 K  | train\n",
      "4 | output_projector | Linear         | 16     | train\n",
      "------------------------------------------------------------\n",
      "3.2 K     Trainable params\n",
      "0         Non-trainable params\n",
      "3.2 K     Total params\n",
      "0.013     Total estimated model params size (MB)\n"
     ]
    },
    {
     "name": "stdout",
     "output_type": "stream",
     "text": [
      "Training model for # using stretchedSociety_block_107_MAC001744.csv\n",
      "9985\n"
     ]
    },
    {
     "name": "stderr",
     "output_type": "stream",
     "text": [
      "Metric val_loss improved. New best score: 0.510\n",
      "Monitored metric val_loss did not improve in the last 10 records. Best score: 0.510. Signaling Trainer to stop.\n",
      "GPU available: True (cuda), used: True\n",
      "TPU available: False, using: 0 TPU cores\n",
      "HPU available: False, using: 0 HPUs\n",
      "LOCAL_RANK: 0 - CUDA_VISIBLE_DEVICES: [0]\n",
      "GPU available: True (cuda), used: False\n",
      "TPU available: False, using: 0 TPU cores\n",
      "HPU available: False, using: 0 HPUs\n",
      "Seed set to 81\n",
      "GPU available: True (cuda), used: True\n",
      "TPU available: False, using: 0 TPU cores\n",
      "HPU available: False, using: 0 HPUs\n",
      "LOCAL_RANK: 0 - CUDA_VISIBLE_DEVICES: [0]\n",
      "\n",
      "  | Name             | Type           | Params | Mode \n",
      "------------------------------------------------------------\n",
      "0 | loss             | MAE            | 0      | train\n",
      "1 | logging_metrics  | ModuleList     | 0      | train\n",
      "2 | embeddings       | MultiEmbedding | 37     | train\n",
      "3 | rnn              | LSTM           | 3.4 K  | train\n",
      "4 | output_projector | Linear         | 16     | train\n",
      "------------------------------------------------------------\n",
      "3.5 K     Trainable params\n",
      "0         Non-trainable params\n",
      "3.5 K     Total params\n",
      "0.014     Total estimated model params size (MB)\n"
     ]
    },
    {
     "name": "stdout",
     "output_type": "stream",
     "text": [
      "Training model for dayofweek_num using stretchedSociety_block_107_MAC001744.csv\n",
      "9985\n"
     ]
    },
    {
     "name": "stderr",
     "output_type": "stream",
     "text": [
      "Metric val_loss improved. New best score: 0.526\n",
      "Monitored metric val_loss did not improve in the last 10 records. Best score: 0.526. Signaling Trainer to stop.\n",
      "GPU available: True (cuda), used: True\n",
      "TPU available: False, using: 0 TPU cores\n",
      "HPU available: False, using: 0 HPUs\n",
      "LOCAL_RANK: 0 - CUDA_VISIBLE_DEVICES: [0]\n",
      "GPU available: True (cuda), used: False\n",
      "TPU available: False, using: 0 TPU cores\n",
      "HPU available: False, using: 0 HPUs\n",
      "Seed set to 81\n",
      "GPU available: True (cuda), used: True\n",
      "TPU available: False, using: 0 TPU cores\n",
      "HPU available: False, using: 0 HPUs\n",
      "LOCAL_RANK: 0 - CUDA_VISIBLE_DEVICES: [0]\n",
      "\n",
      "  | Name             | Type           | Params | Mode \n",
      "------------------------------------------------------------\n",
      "0 | loss             | MAE            | 0      | train\n",
      "1 | logging_metrics  | ModuleList     | 0      | train\n",
      "2 | embeddings       | MultiEmbedding | 218    | train\n",
      "3 | rnn              | LSTM           | 3.7 K  | train\n",
      "4 | output_projector | Linear         | 16     | train\n",
      "------------------------------------------------------------\n",
      "3.9 K     Trainable params\n",
      "0         Non-trainable params\n",
      "3.9 K     Total params\n",
      "0.016     Total estimated model params size (MB)\n"
     ]
    },
    {
     "name": "stdout",
     "output_type": "stream",
     "text": [
      "Training model for hour using stretchedSociety_block_107_MAC001744.csv\n",
      "9985\n"
     ]
    },
    {
     "name": "stderr",
     "output_type": "stream",
     "text": [
      "Metric val_loss improved. New best score: 0.726\n",
      "Metric val_loss improved by 0.062 >= min_delta = 0.0001. New best score: 0.664\n",
      "Metric val_loss improved by 0.105 >= min_delta = 0.0001. New best score: 0.559\n",
      "Metric val_loss improved by 0.099 >= min_delta = 0.0001. New best score: 0.460\n",
      "Monitored metric val_loss did not improve in the last 10 records. Best score: 0.460. Signaling Trainer to stop.\n",
      "GPU available: True (cuda), used: True\n",
      "TPU available: False, using: 0 TPU cores\n",
      "HPU available: False, using: 0 HPUs\n",
      "LOCAL_RANK: 0 - CUDA_VISIBLE_DEVICES: [0]\n",
      "GPU available: True (cuda), used: False\n",
      "TPU available: False, using: 0 TPU cores\n",
      "HPU available: False, using: 0 HPUs\n",
      "Seed set to 81\n",
      "GPU available: True (cuda), used: True\n",
      "TPU available: False, using: 0 TPU cores\n",
      "HPU available: False, using: 0 HPUs\n",
      "LOCAL_RANK: 0 - CUDA_VISIBLE_DEVICES: [0]\n",
      "\n",
      "  | Name             | Type           | Params | Mode \n",
      "------------------------------------------------------------\n",
      "0 | loss             | MAE            | 0      | train\n",
      "1 | logging_metrics  | ModuleList     | 0      | train\n",
      "2 | embeddings       | MultiEmbedding | 4      | train\n",
      "3 | rnn              | LSTM           | 3.2 K  | train\n",
      "4 | output_projector | Linear         | 16     | train\n",
      "------------------------------------------------------------\n",
      "3.2 K     Trainable params\n",
      "0         Non-trainable params\n",
      "3.2 K     Total params\n",
      "0.013     Total estimated model params size (MB)\n"
     ]
    },
    {
     "name": "stdout",
     "output_type": "stream",
     "text": [
      "Training model for holiday using stretchedSociety_block_107_MAC001744.csv\n",
      "9985\n"
     ]
    },
    {
     "name": "stderr",
     "output_type": "stream",
     "text": [
      "Metric val_loss improved. New best score: 0.831\n",
      "Metric val_loss improved by 0.179 >= min_delta = 0.0001. New best score: 0.652\n",
      "Monitored metric val_loss did not improve in the last 10 records. Best score: 0.652. Signaling Trainer to stop.\n",
      "GPU available: True (cuda), used: True\n",
      "TPU available: False, using: 0 TPU cores\n",
      "HPU available: False, using: 0 HPUs\n",
      "LOCAL_RANK: 0 - CUDA_VISIBLE_DEVICES: [0]\n",
      "GPU available: True (cuda), used: False\n",
      "TPU available: False, using: 0 TPU cores\n",
      "HPU available: False, using: 0 HPUs\n",
      "Seed set to 81\n",
      "GPU available: True (cuda), used: True\n",
      "TPU available: False, using: 0 TPU cores\n",
      "HPU available: False, using: 0 HPUs\n",
      "LOCAL_RANK: 0 - CUDA_VISIBLE_DEVICES: [0]\n",
      "\n",
      "  | Name             | Type           | Params | Mode \n",
      "------------------------------------------------------------\n",
      "0 | loss             | MAE            | 0      | train\n",
      "1 | logging_metrics  | ModuleList     | 0      | train\n",
      "2 | embeddings       | MultiEmbedding | 11     | train\n",
      "3 | rnn              | LSTM           | 3.3 K  | train\n",
      "4 | output_projector | Linear         | 16     | train\n",
      "------------------------------------------------------------\n",
      "3.3 K     Trainable params\n",
      "0         Non-trainable params\n",
      "3.3 K     Total params\n",
      "0.013     Total estimated model params size (MB)\n"
     ]
    },
    {
     "name": "stdout",
     "output_type": "stream",
     "text": [
      "Training model for precipType using stretchedSociety_block_107_MAC001744.csv\n",
      "9985\n"
     ]
    },
    {
     "name": "stderr",
     "output_type": "stream",
     "text": [
      "Metric val_loss improved. New best score: 0.501\n",
      "Monitored metric val_loss did not improve in the last 10 records. Best score: 0.501. Signaling Trainer to stop.\n",
      "GPU available: True (cuda), used: True\n",
      "TPU available: False, using: 0 TPU cores\n",
      "HPU available: False, using: 0 HPUs\n",
      "LOCAL_RANK: 0 - CUDA_VISIBLE_DEVICES: [0]\n",
      "GPU available: True (cuda), used: False\n",
      "TPU available: False, using: 0 TPU cores\n",
      "HPU available: False, using: 0 HPUs\n",
      "Seed set to 81\n",
      "GPU available: True (cuda), used: True\n",
      "TPU available: False, using: 0 TPU cores\n",
      "HPU available: False, using: 0 HPUs\n",
      "LOCAL_RANK: 0 - CUDA_VISIBLE_DEVICES: [0]\n",
      "\n",
      "  | Name             | Type           | Params | Mode \n",
      "------------------------------------------------------------\n",
      "0 | loss             | MAE            | 0      | train\n",
      "1 | logging_metrics  | ModuleList     | 0      | train\n",
      "2 | embeddings       | MultiEmbedding | 74     | train\n",
      "3 | rnn              | LSTM           | 3.5 K  | train\n",
      "4 | output_projector | Linear         | 16     | train\n",
      "------------------------------------------------------------\n",
      "3.6 K     Trainable params\n",
      "0         Non-trainable params\n",
      "3.6 K     Total params\n",
      "0.014     Total estimated model params size (MB)\n"
     ]
    },
    {
     "name": "stdout",
     "output_type": "stream",
     "text": [
      "Training model for month using stretchedSociety_block_107_MAC001744.csv\n",
      "9985\n"
     ]
    },
    {
     "name": "stderr",
     "output_type": "stream",
     "text": [
      "Metric val_loss improved. New best score: 1.019\n",
      "Metric val_loss improved by 0.097 >= min_delta = 0.0001. New best score: 0.922\n",
      "Metric val_loss improved by 0.245 >= min_delta = 0.0001. New best score: 0.677\n",
      "Monitored metric val_loss did not improve in the last 10 records. Best score: 0.677. Signaling Trainer to stop.\n",
      "GPU available: True (cuda), used: True\n",
      "TPU available: False, using: 0 TPU cores\n",
      "HPU available: False, using: 0 HPUs\n",
      "LOCAL_RANK: 0 - CUDA_VISIBLE_DEVICES: [0]\n",
      "GPU available: True (cuda), used: False\n",
      "TPU available: False, using: 0 TPU cores\n",
      "HPU available: False, using: 0 HPUs\n",
      "Seed set to 81\n",
      "GPU available: True (cuda), used: True\n",
      "TPU available: False, using: 0 TPU cores\n",
      "HPU available: False, using: 0 HPUs\n",
      "LOCAL_RANK: 0 - CUDA_VISIBLE_DEVICES: [0]\n",
      "\n",
      "  | Name             | Type           | Params | Mode \n",
      "------------------------------------------------------------\n",
      "0 | loss             | MAE            | 0      | train\n",
      "1 | logging_metrics  | ModuleList     | 0      | train\n",
      "2 | embeddings       | MultiEmbedding | 3      | train\n",
      "3 | rnn              | LSTM           | 3.2 K  | train\n",
      "4 | output_projector | Linear         | 16     | train\n",
      "------------------------------------------------------------\n",
      "3.2 K     Trainable params\n",
      "0         Non-trainable params\n",
      "3.2 K     Total params\n",
      "0.013     Total estimated model params size (MB)\n"
     ]
    },
    {
     "name": "stdout",
     "output_type": "stream",
     "text": [
      "Training model for bool_weather_missing_values using stretchedSociety_block_107_MAC001744.csv\n",
      "9985\n"
     ]
    },
    {
     "name": "stderr",
     "output_type": "stream",
     "text": [
      "Metric val_loss improved. New best score: 0.776\n",
      "Metric val_loss improved by 0.095 >= min_delta = 0.0001. New best score: 0.680\n",
      "Metric val_loss improved by 0.163 >= min_delta = 0.0001. New best score: 0.517\n",
      "Monitored metric val_loss did not improve in the last 10 records. Best score: 0.517. Signaling Trainer to stop.\n",
      "GPU available: True (cuda), used: True\n",
      "TPU available: False, using: 0 TPU cores\n",
      "HPU available: False, using: 0 HPUs\n",
      "LOCAL_RANK: 0 - CUDA_VISIBLE_DEVICES: [0]\n",
      "GPU available: True (cuda), used: False\n",
      "TPU available: False, using: 0 TPU cores\n",
      "HPU available: False, using: 0 HPUs\n",
      "Seed set to 81\n",
      "GPU available: True (cuda), used: True\n",
      "TPU available: False, using: 0 TPU cores\n",
      "HPU available: False, using: 0 HPUs\n",
      "LOCAL_RANK: 0 - CUDA_VISIBLE_DEVICES: [0]\n",
      "\n",
      "  | Name             | Type           | Params | Mode \n",
      "------------------------------------------------------------\n",
      "0 | loss             | MAE            | 0      | train\n",
      "1 | logging_metrics  | ModuleList     | 0      | train\n",
      "2 | embeddings       | MultiEmbedding | 2      | train\n",
      "3 | rnn              | LSTM           | 3.2 K  | train\n",
      "4 | output_projector | Linear         | 16     | train\n",
      "------------------------------------------------------------\n",
      "3.2 K     Trainable params\n",
      "0         Non-trainable params\n",
      "3.2 K     Total params\n",
      "0.013     Total estimated model params size (MB)\n"
     ]
    },
    {
     "name": "stdout",
     "output_type": "stream",
     "text": [
      "Training model for # using establishedAffluence_block_28_MAC005217.csv\n",
      "9985\n"
     ]
    },
    {
     "name": "stderr",
     "output_type": "stream",
     "text": [
      "Metric val_loss improved. New best score: 0.137\n",
      "Monitored metric val_loss did not improve in the last 10 records. Best score: 0.137. Signaling Trainer to stop.\n",
      "GPU available: True (cuda), used: True\n",
      "TPU available: False, using: 0 TPU cores\n",
      "HPU available: False, using: 0 HPUs\n",
      "LOCAL_RANK: 0 - CUDA_VISIBLE_DEVICES: [0]\n",
      "GPU available: True (cuda), used: False\n",
      "TPU available: False, using: 0 TPU cores\n",
      "HPU available: False, using: 0 HPUs\n",
      "Seed set to 81\n",
      "GPU available: True (cuda), used: True\n",
      "TPU available: False, using: 0 TPU cores\n",
      "HPU available: False, using: 0 HPUs\n",
      "LOCAL_RANK: 0 - CUDA_VISIBLE_DEVICES: [0]\n",
      "\n",
      "  | Name             | Type           | Params | Mode \n",
      "------------------------------------------------------------\n",
      "0 | loss             | MAE            | 0      | train\n",
      "1 | logging_metrics  | ModuleList     | 0      | train\n",
      "2 | embeddings       | MultiEmbedding | 37     | train\n",
      "3 | rnn              | LSTM           | 3.4 K  | train\n",
      "4 | output_projector | Linear         | 16     | train\n",
      "------------------------------------------------------------\n",
      "3.5 K     Trainable params\n",
      "0         Non-trainable params\n",
      "3.5 K     Total params\n",
      "0.014     Total estimated model params size (MB)\n"
     ]
    },
    {
     "name": "stdout",
     "output_type": "stream",
     "text": [
      "Training model for dayofweek_num using establishedAffluence_block_28_MAC005217.csv\n",
      "9985\n"
     ]
    },
    {
     "name": "stderr",
     "output_type": "stream",
     "text": [
      "Metric val_loss improved. New best score: 0.090\n",
      "Monitored metric val_loss did not improve in the last 10 records. Best score: 0.090. Signaling Trainer to stop.\n",
      "GPU available: True (cuda), used: True\n",
      "TPU available: False, using: 0 TPU cores\n",
      "HPU available: False, using: 0 HPUs\n",
      "LOCAL_RANK: 0 - CUDA_VISIBLE_DEVICES: [0]\n",
      "GPU available: True (cuda), used: False\n",
      "TPU available: False, using: 0 TPU cores\n",
      "HPU available: False, using: 0 HPUs\n",
      "Seed set to 81\n",
      "GPU available: True (cuda), used: True\n",
      "TPU available: False, using: 0 TPU cores\n",
      "HPU available: False, using: 0 HPUs\n",
      "LOCAL_RANK: 0 - CUDA_VISIBLE_DEVICES: [0]\n",
      "\n",
      "  | Name             | Type           | Params | Mode \n",
      "------------------------------------------------------------\n",
      "0 | loss             | MAE            | 0      | train\n",
      "1 | logging_metrics  | ModuleList     | 0      | train\n",
      "2 | embeddings       | MultiEmbedding | 218    | train\n",
      "3 | rnn              | LSTM           | 3.7 K  | train\n",
      "4 | output_projector | Linear         | 16     | train\n",
      "------------------------------------------------------------\n",
      "3.9 K     Trainable params\n",
      "0         Non-trainable params\n",
      "3.9 K     Total params\n",
      "0.016     Total estimated model params size (MB)\n"
     ]
    },
    {
     "name": "stdout",
     "output_type": "stream",
     "text": [
      "Training model for hour using establishedAffluence_block_28_MAC005217.csv\n",
      "9985\n"
     ]
    },
    {
     "name": "stderr",
     "output_type": "stream",
     "text": [
      "Metric val_loss improved. New best score: 0.139\n",
      "Monitored metric val_loss did not improve in the last 10 records. Best score: 0.139. Signaling Trainer to stop.\n",
      "GPU available: True (cuda), used: True\n",
      "TPU available: False, using: 0 TPU cores\n",
      "HPU available: False, using: 0 HPUs\n",
      "LOCAL_RANK: 0 - CUDA_VISIBLE_DEVICES: [0]\n",
      "GPU available: True (cuda), used: False\n",
      "TPU available: False, using: 0 TPU cores\n",
      "HPU available: False, using: 0 HPUs\n",
      "Seed set to 81\n",
      "GPU available: True (cuda), used: True\n",
      "TPU available: False, using: 0 TPU cores\n",
      "HPU available: False, using: 0 HPUs\n",
      "LOCAL_RANK: 0 - CUDA_VISIBLE_DEVICES: [0]\n",
      "\n",
      "  | Name             | Type           | Params | Mode \n",
      "------------------------------------------------------------\n",
      "0 | loss             | MAE            | 0      | train\n",
      "1 | logging_metrics  | ModuleList     | 0      | train\n",
      "2 | embeddings       | MultiEmbedding | 4      | train\n",
      "3 | rnn              | LSTM           | 3.2 K  | train\n",
      "4 | output_projector | Linear         | 16     | train\n",
      "------------------------------------------------------------\n",
      "3.2 K     Trainable params\n",
      "0         Non-trainable params\n",
      "3.2 K     Total params\n",
      "0.013     Total estimated model params size (MB)\n"
     ]
    },
    {
     "name": "stdout",
     "output_type": "stream",
     "text": [
      "Training model for holiday using establishedAffluence_block_28_MAC005217.csv\n",
      "9985\n"
     ]
    },
    {
     "name": "stderr",
     "output_type": "stream",
     "text": [
      "Metric val_loss improved. New best score: 0.097\n",
      "Monitored metric val_loss did not improve in the last 10 records. Best score: 0.097. Signaling Trainer to stop.\n",
      "GPU available: True (cuda), used: True\n",
      "TPU available: False, using: 0 TPU cores\n",
      "HPU available: False, using: 0 HPUs\n",
      "LOCAL_RANK: 0 - CUDA_VISIBLE_DEVICES: [0]\n",
      "GPU available: True (cuda), used: False\n",
      "TPU available: False, using: 0 TPU cores\n",
      "HPU available: False, using: 0 HPUs\n",
      "Seed set to 81\n",
      "GPU available: True (cuda), used: True\n",
      "TPU available: False, using: 0 TPU cores\n",
      "HPU available: False, using: 0 HPUs\n",
      "LOCAL_RANK: 0 - CUDA_VISIBLE_DEVICES: [0]\n",
      "\n",
      "  | Name             | Type           | Params | Mode \n",
      "------------------------------------------------------------\n",
      "0 | loss             | MAE            | 0      | train\n",
      "1 | logging_metrics  | ModuleList     | 0      | train\n",
      "2 | embeddings       | MultiEmbedding | 11     | train\n",
      "3 | rnn              | LSTM           | 3.3 K  | train\n",
      "4 | output_projector | Linear         | 16     | train\n",
      "------------------------------------------------------------\n",
      "3.3 K     Trainable params\n",
      "0         Non-trainable params\n",
      "3.3 K     Total params\n",
      "0.013     Total estimated model params size (MB)\n"
     ]
    },
    {
     "name": "stdout",
     "output_type": "stream",
     "text": [
      "Training model for precipType using establishedAffluence_block_28_MAC005217.csv\n",
      "9985\n"
     ]
    },
    {
     "name": "stderr",
     "output_type": "stream",
     "text": [
      "Metric val_loss improved. New best score: 0.092\n",
      "Monitored metric val_loss did not improve in the last 10 records. Best score: 0.092. Signaling Trainer to stop.\n",
      "GPU available: True (cuda), used: True\n",
      "TPU available: False, using: 0 TPU cores\n",
      "HPU available: False, using: 0 HPUs\n",
      "LOCAL_RANK: 0 - CUDA_VISIBLE_DEVICES: [0]\n",
      "GPU available: True (cuda), used: False\n",
      "TPU available: False, using: 0 TPU cores\n",
      "HPU available: False, using: 0 HPUs\n",
      "Seed set to 81\n",
      "GPU available: True (cuda), used: True\n",
      "TPU available: False, using: 0 TPU cores\n",
      "HPU available: False, using: 0 HPUs\n",
      "LOCAL_RANK: 0 - CUDA_VISIBLE_DEVICES: [0]\n",
      "\n",
      "  | Name             | Type           | Params | Mode \n",
      "------------------------------------------------------------\n",
      "0 | loss             | MAE            | 0      | train\n",
      "1 | logging_metrics  | ModuleList     | 0      | train\n",
      "2 | embeddings       | MultiEmbedding | 74     | train\n",
      "3 | rnn              | LSTM           | 3.5 K  | train\n",
      "4 | output_projector | Linear         | 16     | train\n",
      "------------------------------------------------------------\n",
      "3.6 K     Trainable params\n",
      "0         Non-trainable params\n",
      "3.6 K     Total params\n",
      "0.014     Total estimated model params size (MB)\n"
     ]
    },
    {
     "name": "stdout",
     "output_type": "stream",
     "text": [
      "Training model for month using establishedAffluence_block_28_MAC005217.csv\n",
      "9985\n"
     ]
    },
    {
     "name": "stderr",
     "output_type": "stream",
     "text": [
      "Metric val_loss improved. New best score: 0.148\n",
      "Metric val_loss improved by 0.016 >= min_delta = 0.0001. New best score: 0.133\n",
      "Monitored metric val_loss did not improve in the last 10 records. Best score: 0.133. Signaling Trainer to stop.\n",
      "GPU available: True (cuda), used: True\n",
      "TPU available: False, using: 0 TPU cores\n",
      "HPU available: False, using: 0 HPUs\n",
      "LOCAL_RANK: 0 - CUDA_VISIBLE_DEVICES: [0]\n",
      "GPU available: True (cuda), used: False\n",
      "TPU available: False, using: 0 TPU cores\n",
      "HPU available: False, using: 0 HPUs\n",
      "Seed set to 81\n",
      "GPU available: True (cuda), used: True\n",
      "TPU available: False, using: 0 TPU cores\n",
      "HPU available: False, using: 0 HPUs\n",
      "LOCAL_RANK: 0 - CUDA_VISIBLE_DEVICES: [0]\n",
      "\n",
      "  | Name             | Type           | Params | Mode \n",
      "------------------------------------------------------------\n",
      "0 | loss             | MAE            | 0      | train\n",
      "1 | logging_metrics  | ModuleList     | 0      | train\n",
      "2 | embeddings       | MultiEmbedding | 3      | train\n",
      "3 | rnn              | LSTM           | 3.2 K  | train\n",
      "4 | output_projector | Linear         | 16     | train\n",
      "------------------------------------------------------------\n",
      "3.2 K     Trainable params\n",
      "0         Non-trainable params\n",
      "3.2 K     Total params\n",
      "0.013     Total estimated model params size (MB)\n"
     ]
    },
    {
     "name": "stdout",
     "output_type": "stream",
     "text": [
      "Training model for bool_weather_missing_values using establishedAffluence_block_28_MAC005217.csv\n",
      "9985\n"
     ]
    },
    {
     "name": "stderr",
     "output_type": "stream",
     "text": [
      "Metric val_loss improved. New best score: 0.097\n",
      "Monitored metric val_loss did not improve in the last 10 records. Best score: 0.097. Signaling Trainer to stop.\n",
      "GPU available: True (cuda), used: True\n",
      "TPU available: False, using: 0 TPU cores\n",
      "HPU available: False, using: 0 HPUs\n",
      "LOCAL_RANK: 0 - CUDA_VISIBLE_DEVICES: [0]\n",
      "GPU available: True (cuda), used: False\n",
      "TPU available: False, using: 0 TPU cores\n",
      "HPU available: False, using: 0 HPUs\n",
      "Seed set to 81\n",
      "GPU available: True (cuda), used: True\n",
      "TPU available: False, using: 0 TPU cores\n",
      "HPU available: False, using: 0 HPUs\n",
      "LOCAL_RANK: 0 - CUDA_VISIBLE_DEVICES: [0]\n",
      "\n",
      "  | Name             | Type           | Params | Mode \n",
      "------------------------------------------------------------\n",
      "0 | loss             | MAE            | 0      | train\n",
      "1 | logging_metrics  | ModuleList     | 0      | train\n",
      "2 | embeddings       | MultiEmbedding | 2      | train\n",
      "3 | rnn              | LSTM           | 3.2 K  | train\n",
      "4 | output_projector | Linear         | 16     | train\n",
      "------------------------------------------------------------\n",
      "3.2 K     Trainable params\n",
      "0         Non-trainable params\n",
      "3.2 K     Total params\n",
      "0.013     Total estimated model params size (MB)\n"
     ]
    },
    {
     "name": "stdout",
     "output_type": "stream",
     "text": [
      "Training model for # using stretchedSociety_block_109_MAC000529.csv\n",
      "9985\n"
     ]
    },
    {
     "name": "stderr",
     "output_type": "stream",
     "text": [
      "Metric val_loss improved. New best score: 0.135\n",
      "Metric val_loss improved by 0.017 >= min_delta = 0.0001. New best score: 0.118\n",
      "Metric val_loss improved by 0.003 >= min_delta = 0.0001. New best score: 0.115\n",
      "Monitored metric val_loss did not improve in the last 10 records. Best score: 0.115. Signaling Trainer to stop.\n",
      "GPU available: True (cuda), used: True\n",
      "TPU available: False, using: 0 TPU cores\n",
      "HPU available: False, using: 0 HPUs\n",
      "LOCAL_RANK: 0 - CUDA_VISIBLE_DEVICES: [0]\n",
      "GPU available: True (cuda), used: False\n",
      "TPU available: False, using: 0 TPU cores\n",
      "HPU available: False, using: 0 HPUs\n",
      "Seed set to 81\n",
      "GPU available: True (cuda), used: True\n",
      "TPU available: False, using: 0 TPU cores\n",
      "HPU available: False, using: 0 HPUs\n",
      "LOCAL_RANK: 0 - CUDA_VISIBLE_DEVICES: [0]\n",
      "\n",
      "  | Name             | Type           | Params | Mode \n",
      "------------------------------------------------------------\n",
      "0 | loss             | MAE            | 0      | train\n",
      "1 | logging_metrics  | ModuleList     | 0      | train\n",
      "2 | embeddings       | MultiEmbedding | 37     | train\n",
      "3 | rnn              | LSTM           | 3.4 K  | train\n",
      "4 | output_projector | Linear         | 16     | train\n",
      "------------------------------------------------------------\n",
      "3.5 K     Trainable params\n",
      "0         Non-trainable params\n",
      "3.5 K     Total params\n",
      "0.014     Total estimated model params size (MB)\n"
     ]
    },
    {
     "name": "stdout",
     "output_type": "stream",
     "text": [
      "Training model for dayofweek_num using stretchedSociety_block_109_MAC000529.csv\n",
      "9985\n"
     ]
    },
    {
     "name": "stderr",
     "output_type": "stream",
     "text": [
      "Metric val_loss improved. New best score: 0.116\n",
      "Metric val_loss improved by 0.011 >= min_delta = 0.0001. New best score: 0.105\n",
      "Metric val_loss improved by 0.001 >= min_delta = 0.0001. New best score: 0.104\n",
      "Monitored metric val_loss did not improve in the last 10 records. Best score: 0.104. Signaling Trainer to stop.\n",
      "GPU available: True (cuda), used: True\n",
      "TPU available: False, using: 0 TPU cores\n",
      "HPU available: False, using: 0 HPUs\n",
      "LOCAL_RANK: 0 - CUDA_VISIBLE_DEVICES: [0]\n",
      "GPU available: True (cuda), used: False\n",
      "TPU available: False, using: 0 TPU cores\n",
      "HPU available: False, using: 0 HPUs\n",
      "Seed set to 81\n",
      "GPU available: True (cuda), used: True\n",
      "TPU available: False, using: 0 TPU cores\n",
      "HPU available: False, using: 0 HPUs\n",
      "LOCAL_RANK: 0 - CUDA_VISIBLE_DEVICES: [0]\n",
      "\n",
      "  | Name             | Type           | Params | Mode \n",
      "------------------------------------------------------------\n",
      "0 | loss             | MAE            | 0      | train\n",
      "1 | logging_metrics  | ModuleList     | 0      | train\n",
      "2 | embeddings       | MultiEmbedding | 218    | train\n",
      "3 | rnn              | LSTM           | 3.7 K  | train\n",
      "4 | output_projector | Linear         | 16     | train\n",
      "------------------------------------------------------------\n",
      "3.9 K     Trainable params\n",
      "0         Non-trainable params\n",
      "3.9 K     Total params\n",
      "0.016     Total estimated model params size (MB)\n"
     ]
    },
    {
     "name": "stdout",
     "output_type": "stream",
     "text": [
      "Training model for hour using stretchedSociety_block_109_MAC000529.csv\n",
      "9985\n"
     ]
    },
    {
     "name": "stderr",
     "output_type": "stream",
     "text": [
      "Metric val_loss improved. New best score: 0.104\n",
      "Metric val_loss improved by 0.002 >= min_delta = 0.0001. New best score: 0.103\n",
      "Monitored metric val_loss did not improve in the last 10 records. Best score: 0.103. Signaling Trainer to stop.\n",
      "GPU available: True (cuda), used: True\n",
      "TPU available: False, using: 0 TPU cores\n",
      "HPU available: False, using: 0 HPUs\n",
      "LOCAL_RANK: 0 - CUDA_VISIBLE_DEVICES: [0]\n",
      "GPU available: True (cuda), used: False\n",
      "TPU available: False, using: 0 TPU cores\n",
      "HPU available: False, using: 0 HPUs\n",
      "Seed set to 81\n",
      "GPU available: True (cuda), used: True\n",
      "TPU available: False, using: 0 TPU cores\n",
      "HPU available: False, using: 0 HPUs\n",
      "LOCAL_RANK: 0 - CUDA_VISIBLE_DEVICES: [0]\n",
      "\n",
      "  | Name             | Type           | Params | Mode \n",
      "------------------------------------------------------------\n",
      "0 | loss             | MAE            | 0      | train\n",
      "1 | logging_metrics  | ModuleList     | 0      | train\n",
      "2 | embeddings       | MultiEmbedding | 4      | train\n",
      "3 | rnn              | LSTM           | 3.2 K  | train\n",
      "4 | output_projector | Linear         | 16     | train\n",
      "------------------------------------------------------------\n",
      "3.2 K     Trainable params\n",
      "0         Non-trainable params\n",
      "3.2 K     Total params\n",
      "0.013     Total estimated model params size (MB)\n"
     ]
    },
    {
     "name": "stdout",
     "output_type": "stream",
     "text": [
      "Training model for holiday using stretchedSociety_block_109_MAC000529.csv\n",
      "9985\n"
     ]
    },
    {
     "name": "stderr",
     "output_type": "stream",
     "text": [
      "Metric val_loss improved. New best score: 0.130\n",
      "Metric val_loss improved by 0.020 >= min_delta = 0.0001. New best score: 0.110\n",
      "Metric val_loss improved by 0.007 >= min_delta = 0.0001. New best score: 0.104\n",
      "Metric val_loss improved by 0.000 >= min_delta = 0.0001. New best score: 0.103\n",
      "Monitored metric val_loss did not improve in the last 10 records. Best score: 0.103. Signaling Trainer to stop.\n",
      "GPU available: True (cuda), used: True\n",
      "TPU available: False, using: 0 TPU cores\n",
      "HPU available: False, using: 0 HPUs\n",
      "LOCAL_RANK: 0 - CUDA_VISIBLE_DEVICES: [0]\n",
      "GPU available: True (cuda), used: False\n",
      "TPU available: False, using: 0 TPU cores\n",
      "HPU available: False, using: 0 HPUs\n",
      "Seed set to 81\n",
      "GPU available: True (cuda), used: True\n",
      "TPU available: False, using: 0 TPU cores\n",
      "HPU available: False, using: 0 HPUs\n",
      "LOCAL_RANK: 0 - CUDA_VISIBLE_DEVICES: [0]\n",
      "\n",
      "  | Name             | Type           | Params | Mode \n",
      "------------------------------------------------------------\n",
      "0 | loss             | MAE            | 0      | train\n",
      "1 | logging_metrics  | ModuleList     | 0      | train\n",
      "2 | embeddings       | MultiEmbedding | 11     | train\n",
      "3 | rnn              | LSTM           | 3.3 K  | train\n",
      "4 | output_projector | Linear         | 16     | train\n",
      "------------------------------------------------------------\n",
      "3.3 K     Trainable params\n",
      "0         Non-trainable params\n",
      "3.3 K     Total params\n",
      "0.013     Total estimated model params size (MB)\n"
     ]
    },
    {
     "name": "stdout",
     "output_type": "stream",
     "text": [
      "Training model for precipType using stretchedSociety_block_109_MAC000529.csv\n",
      "9985\n"
     ]
    },
    {
     "name": "stderr",
     "output_type": "stream",
     "text": [
      "Metric val_loss improved. New best score: 0.139\n",
      "Metric val_loss improved by 0.008 >= min_delta = 0.0001. New best score: 0.130\n",
      "Metric val_loss improved by 0.016 >= min_delta = 0.0001. New best score: 0.115\n",
      "Metric val_loss improved by 0.001 >= min_delta = 0.0001. New best score: 0.113\n",
      "Metric val_loss improved by 0.011 >= min_delta = 0.0001. New best score: 0.102\n",
      "Monitored metric val_loss did not improve in the last 10 records. Best score: 0.102. Signaling Trainer to stop.\n",
      "GPU available: True (cuda), used: True\n",
      "TPU available: False, using: 0 TPU cores\n",
      "HPU available: False, using: 0 HPUs\n",
      "LOCAL_RANK: 0 - CUDA_VISIBLE_DEVICES: [0]\n",
      "GPU available: True (cuda), used: False\n",
      "TPU available: False, using: 0 TPU cores\n",
      "HPU available: False, using: 0 HPUs\n",
      "Seed set to 81\n",
      "GPU available: True (cuda), used: True\n",
      "TPU available: False, using: 0 TPU cores\n",
      "HPU available: False, using: 0 HPUs\n",
      "LOCAL_RANK: 0 - CUDA_VISIBLE_DEVICES: [0]\n",
      "\n",
      "  | Name             | Type           | Params | Mode \n",
      "------------------------------------------------------------\n",
      "0 | loss             | MAE            | 0      | train\n",
      "1 | logging_metrics  | ModuleList     | 0      | train\n",
      "2 | embeddings       | MultiEmbedding | 74     | train\n",
      "3 | rnn              | LSTM           | 3.5 K  | train\n",
      "4 | output_projector | Linear         | 16     | train\n",
      "------------------------------------------------------------\n",
      "3.6 K     Trainable params\n",
      "0         Non-trainable params\n",
      "3.6 K     Total params\n",
      "0.014     Total estimated model params size (MB)\n"
     ]
    },
    {
     "name": "stdout",
     "output_type": "stream",
     "text": [
      "Training model for month using stretchedSociety_block_109_MAC000529.csv\n",
      "9985\n"
     ]
    },
    {
     "name": "stderr",
     "output_type": "stream",
     "text": [
      "Metric val_loss improved. New best score: 0.146\n",
      "Metric val_loss improved by 0.040 >= min_delta = 0.0001. New best score: 0.106\n",
      "Monitored metric val_loss did not improve in the last 10 records. Best score: 0.106. Signaling Trainer to stop.\n",
      "GPU available: True (cuda), used: True\n",
      "TPU available: False, using: 0 TPU cores\n",
      "HPU available: False, using: 0 HPUs\n",
      "LOCAL_RANK: 0 - CUDA_VISIBLE_DEVICES: [0]\n",
      "GPU available: True (cuda), used: False\n",
      "TPU available: False, using: 0 TPU cores\n",
      "HPU available: False, using: 0 HPUs\n",
      "Seed set to 81\n",
      "GPU available: True (cuda), used: True\n",
      "TPU available: False, using: 0 TPU cores\n",
      "HPU available: False, using: 0 HPUs\n",
      "LOCAL_RANK: 0 - CUDA_VISIBLE_DEVICES: [0]\n",
      "\n",
      "  | Name             | Type           | Params | Mode \n",
      "------------------------------------------------------------\n",
      "0 | loss             | MAE            | 0      | train\n",
      "1 | logging_metrics  | ModuleList     | 0      | train\n",
      "2 | embeddings       | MultiEmbedding | 3      | train\n",
      "3 | rnn              | LSTM           | 3.2 K  | train\n",
      "4 | output_projector | Linear         | 16     | train\n",
      "------------------------------------------------------------\n",
      "3.2 K     Trainable params\n",
      "0         Non-trainable params\n",
      "3.2 K     Total params\n",
      "0.013     Total estimated model params size (MB)\n"
     ]
    },
    {
     "name": "stdout",
     "output_type": "stream",
     "text": [
      "Training model for bool_weather_missing_values using stretchedSociety_block_109_MAC000529.csv\n",
      "9985\n"
     ]
    },
    {
     "name": "stderr",
     "output_type": "stream",
     "text": [
      "Metric val_loss improved. New best score: 0.130\n",
      "Metric val_loss improved by 0.025 >= min_delta = 0.0001. New best score: 0.104\n",
      "Metric val_loss improved by 0.003 >= min_delta = 0.0001. New best score: 0.101\n",
      "Monitored metric val_loss did not improve in the last 10 records. Best score: 0.101. Signaling Trainer to stop.\n",
      "GPU available: True (cuda), used: True\n",
      "TPU available: False, using: 0 TPU cores\n",
      "HPU available: False, using: 0 HPUs\n",
      "LOCAL_RANK: 0 - CUDA_VISIBLE_DEVICES: [0]\n",
      "GPU available: True (cuda), used: False\n",
      "TPU available: False, using: 0 TPU cores\n",
      "HPU available: False, using: 0 HPUs\n",
      "Seed set to 81\n",
      "GPU available: True (cuda), used: True\n",
      "TPU available: False, using: 0 TPU cores\n",
      "HPU available: False, using: 0 HPUs\n",
      "LOCAL_RANK: 0 - CUDA_VISIBLE_DEVICES: [0]\n",
      "\n",
      "  | Name             | Type           | Params | Mode \n",
      "------------------------------------------------------------\n",
      "0 | loss             | MAE            | 0      | train\n",
      "1 | logging_metrics  | ModuleList     | 0      | train\n",
      "2 | embeddings       | MultiEmbedding | 2      | train\n",
      "3 | rnn              | LSTM           | 3.2 K  | train\n",
      "4 | output_projector | Linear         | 16     | train\n",
      "------------------------------------------------------------\n",
      "3.2 K     Trainable params\n",
      "0         Non-trainable params\n",
      "3.2 K     Total params\n",
      "0.013     Total estimated model params size (MB)\n"
     ]
    },
    {
     "name": "stdout",
     "output_type": "stream",
     "text": [
      "Training model for # using establishedAffluence_block_40_MAC005359.csv\n",
      "9985\n"
     ]
    },
    {
     "name": "stderr",
     "output_type": "stream",
     "text": [
      "Metric val_loss improved. New best score: 0.180\n",
      "Metric val_loss improved by 0.005 >= min_delta = 0.0001. New best score: 0.175\n",
      "Metric val_loss improved by 0.006 >= min_delta = 0.0001. New best score: 0.168\n",
      "Metric val_loss improved by 0.007 >= min_delta = 0.0001. New best score: 0.161\n",
      "Metric val_loss improved by 0.002 >= min_delta = 0.0001. New best score: 0.159\n",
      "Metric val_loss improved by 0.005 >= min_delta = 0.0001. New best score: 0.154\n",
      "Metric val_loss improved by 0.008 >= min_delta = 0.0001. New best score: 0.145\n",
      "Monitored metric val_loss did not improve in the last 10 records. Best score: 0.145. Signaling Trainer to stop.\n",
      "GPU available: True (cuda), used: True\n",
      "TPU available: False, using: 0 TPU cores\n",
      "HPU available: False, using: 0 HPUs\n",
      "LOCAL_RANK: 0 - CUDA_VISIBLE_DEVICES: [0]\n",
      "GPU available: True (cuda), used: False\n",
      "TPU available: False, using: 0 TPU cores\n",
      "HPU available: False, using: 0 HPUs\n",
      "Seed set to 81\n",
      "GPU available: True (cuda), used: True\n",
      "TPU available: False, using: 0 TPU cores\n",
      "HPU available: False, using: 0 HPUs\n",
      "LOCAL_RANK: 0 - CUDA_VISIBLE_DEVICES: [0]\n",
      "\n",
      "  | Name             | Type           | Params | Mode \n",
      "------------------------------------------------------------\n",
      "0 | loss             | MAE            | 0      | train\n",
      "1 | logging_metrics  | ModuleList     | 0      | train\n",
      "2 | embeddings       | MultiEmbedding | 37     | train\n",
      "3 | rnn              | LSTM           | 3.4 K  | train\n",
      "4 | output_projector | Linear         | 16     | train\n",
      "------------------------------------------------------------\n",
      "3.5 K     Trainable params\n",
      "0         Non-trainable params\n",
      "3.5 K     Total params\n",
      "0.014     Total estimated model params size (MB)\n"
     ]
    },
    {
     "name": "stdout",
     "output_type": "stream",
     "text": [
      "Training model for dayofweek_num using establishedAffluence_block_40_MAC005359.csv\n",
      "9985\n"
     ]
    },
    {
     "name": "stderr",
     "output_type": "stream",
     "text": [
      "Metric val_loss improved. New best score: 0.181\n",
      "Metric val_loss improved by 0.003 >= min_delta = 0.0001. New best score: 0.178\n",
      "Metric val_loss improved by 0.017 >= min_delta = 0.0001. New best score: 0.161\n",
      "Metric val_loss improved by 0.023 >= min_delta = 0.0001. New best score: 0.138\n",
      "Monitored metric val_loss did not improve in the last 10 records. Best score: 0.138. Signaling Trainer to stop.\n",
      "GPU available: True (cuda), used: True\n",
      "TPU available: False, using: 0 TPU cores\n",
      "HPU available: False, using: 0 HPUs\n",
      "LOCAL_RANK: 0 - CUDA_VISIBLE_DEVICES: [0]\n",
      "GPU available: True (cuda), used: False\n",
      "TPU available: False, using: 0 TPU cores\n",
      "HPU available: False, using: 0 HPUs\n",
      "Seed set to 81\n",
      "GPU available: True (cuda), used: True\n",
      "TPU available: False, using: 0 TPU cores\n",
      "HPU available: False, using: 0 HPUs\n",
      "LOCAL_RANK: 0 - CUDA_VISIBLE_DEVICES: [0]\n",
      "\n",
      "  | Name             | Type           | Params | Mode \n",
      "------------------------------------------------------------\n",
      "0 | loss             | MAE            | 0      | train\n",
      "1 | logging_metrics  | ModuleList     | 0      | train\n",
      "2 | embeddings       | MultiEmbedding | 218    | train\n",
      "3 | rnn              | LSTM           | 3.7 K  | train\n",
      "4 | output_projector | Linear         | 16     | train\n",
      "------------------------------------------------------------\n",
      "3.9 K     Trainable params\n",
      "0         Non-trainable params\n",
      "3.9 K     Total params\n",
      "0.016     Total estimated model params size (MB)\n"
     ]
    },
    {
     "name": "stdout",
     "output_type": "stream",
     "text": [
      "Training model for hour using establishedAffluence_block_40_MAC005359.csv\n",
      "9985\n"
     ]
    },
    {
     "name": "stderr",
     "output_type": "stream",
     "text": [
      "Metric val_loss improved. New best score: 0.145\n",
      "Metric val_loss improved by 0.008 >= min_delta = 0.0001. New best score: 0.137\n",
      "Monitored metric val_loss did not improve in the last 10 records. Best score: 0.137. Signaling Trainer to stop.\n",
      "GPU available: True (cuda), used: True\n",
      "TPU available: False, using: 0 TPU cores\n",
      "HPU available: False, using: 0 HPUs\n",
      "LOCAL_RANK: 0 - CUDA_VISIBLE_DEVICES: [0]\n",
      "GPU available: True (cuda), used: False\n",
      "TPU available: False, using: 0 TPU cores\n",
      "HPU available: False, using: 0 HPUs\n",
      "Seed set to 81\n",
      "GPU available: True (cuda), used: True\n",
      "TPU available: False, using: 0 TPU cores\n",
      "HPU available: False, using: 0 HPUs\n",
      "LOCAL_RANK: 0 - CUDA_VISIBLE_DEVICES: [0]\n",
      "\n",
      "  | Name             | Type           | Params | Mode \n",
      "------------------------------------------------------------\n",
      "0 | loss             | MAE            | 0      | train\n",
      "1 | logging_metrics  | ModuleList     | 0      | train\n",
      "2 | embeddings       | MultiEmbedding | 4      | train\n",
      "3 | rnn              | LSTM           | 3.2 K  | train\n",
      "4 | output_projector | Linear         | 16     | train\n",
      "------------------------------------------------------------\n",
      "3.2 K     Trainable params\n",
      "0         Non-trainable params\n",
      "3.2 K     Total params\n",
      "0.013     Total estimated model params size (MB)\n"
     ]
    },
    {
     "name": "stdout",
     "output_type": "stream",
     "text": [
      "Training model for holiday using establishedAffluence_block_40_MAC005359.csv\n",
      "9985\n"
     ]
    },
    {
     "name": "stderr",
     "output_type": "stream",
     "text": [
      "Metric val_loss improved. New best score: 0.179\n",
      "Monitored metric val_loss did not improve in the last 10 records. Best score: 0.179. Signaling Trainer to stop.\n",
      "GPU available: True (cuda), used: True\n",
      "TPU available: False, using: 0 TPU cores\n",
      "HPU available: False, using: 0 HPUs\n",
      "LOCAL_RANK: 0 - CUDA_VISIBLE_DEVICES: [0]\n",
      "GPU available: True (cuda), used: False\n",
      "TPU available: False, using: 0 TPU cores\n",
      "HPU available: False, using: 0 HPUs\n",
      "Seed set to 81\n",
      "GPU available: True (cuda), used: True\n",
      "TPU available: False, using: 0 TPU cores\n",
      "HPU available: False, using: 0 HPUs\n",
      "LOCAL_RANK: 0 - CUDA_VISIBLE_DEVICES: [0]\n",
      "\n",
      "  | Name             | Type           | Params | Mode \n",
      "------------------------------------------------------------\n",
      "0 | loss             | MAE            | 0      | train\n",
      "1 | logging_metrics  | ModuleList     | 0      | train\n",
      "2 | embeddings       | MultiEmbedding | 11     | train\n",
      "3 | rnn              | LSTM           | 3.3 K  | train\n",
      "4 | output_projector | Linear         | 16     | train\n",
      "------------------------------------------------------------\n",
      "3.3 K     Trainable params\n",
      "0         Non-trainable params\n",
      "3.3 K     Total params\n",
      "0.013     Total estimated model params size (MB)\n"
     ]
    },
    {
     "name": "stdout",
     "output_type": "stream",
     "text": [
      "Training model for precipType using establishedAffluence_block_40_MAC005359.csv\n",
      "9985\n"
     ]
    },
    {
     "name": "stderr",
     "output_type": "stream",
     "text": [
      "Metric val_loss improved. New best score: 0.183\n",
      "Metric val_loss improved by 0.001 >= min_delta = 0.0001. New best score: 0.182\n",
      "Metric val_loss improved by 0.000 >= min_delta = 0.0001. New best score: 0.181\n",
      "Metric val_loss improved by 0.003 >= min_delta = 0.0001. New best score: 0.178\n",
      "Metric val_loss improved by 0.001 >= min_delta = 0.0001. New best score: 0.177\n",
      "Metric val_loss improved by 0.005 >= min_delta = 0.0001. New best score: 0.172\n",
      "Metric val_loss improved by 0.003 >= min_delta = 0.0001. New best score: 0.170\n",
      "Metric val_loss improved by 0.018 >= min_delta = 0.0001. New best score: 0.152\n",
      "Metric val_loss improved by 0.001 >= min_delta = 0.0001. New best score: 0.151\n",
      "Metric val_loss improved by 0.008 >= min_delta = 0.0001. New best score: 0.143\n",
      "Monitored metric val_loss did not improve in the last 10 records. Best score: 0.143. Signaling Trainer to stop.\n",
      "GPU available: True (cuda), used: True\n",
      "TPU available: False, using: 0 TPU cores\n",
      "HPU available: False, using: 0 HPUs\n",
      "LOCAL_RANK: 0 - CUDA_VISIBLE_DEVICES: [0]\n",
      "GPU available: True (cuda), used: False\n",
      "TPU available: False, using: 0 TPU cores\n",
      "HPU available: False, using: 0 HPUs\n",
      "Seed set to 81\n"
     ]
    },
    {
     "name": "stdout",
     "output_type": "stream",
     "text": [
      "Training model for month using establishedAffluence_block_40_MAC005359.csv\n",
      "9985\n"
     ]
    },
    {
     "name": "stderr",
     "output_type": "stream",
     "text": [
      "GPU available: True (cuda), used: True\n",
      "TPU available: False, using: 0 TPU cores\n",
      "HPU available: False, using: 0 HPUs\n",
      "LOCAL_RANK: 0 - CUDA_VISIBLE_DEVICES: [0]\n",
      "\n",
      "  | Name             | Type           | Params | Mode \n",
      "------------------------------------------------------------\n",
      "0 | loss             | MAE            | 0      | train\n",
      "1 | logging_metrics  | ModuleList     | 0      | train\n",
      "2 | embeddings       | MultiEmbedding | 74     | train\n",
      "3 | rnn              | LSTM           | 3.5 K  | train\n",
      "4 | output_projector | Linear         | 16     | train\n",
      "------------------------------------------------------------\n",
      "3.6 K     Trainable params\n",
      "0         Non-trainable params\n",
      "3.6 K     Total params\n",
      "0.014     Total estimated model params size (MB)\n",
      "Metric val_loss improved. New best score: 0.183\n",
      "Metric val_loss improved by 0.030 >= min_delta = 0.0001. New best score: 0.153\n",
      "Metric val_loss improved by 0.007 >= min_delta = 0.0001. New best score: 0.146\n",
      "Metric val_loss improved by 0.007 >= min_delta = 0.0001. New best score: 0.139\n",
      "Monitored metric val_loss did not improve in the last 10 records. Best score: 0.139. Signaling Trainer to stop.\n",
      "GPU available: True (cuda), used: True\n",
      "TPU available: False, using: 0 TPU cores\n",
      "HPU available: False, using: 0 HPUs\n",
      "LOCAL_RANK: 0 - CUDA_VISIBLE_DEVICES: [0]\n",
      "GPU available: True (cuda), used: False\n",
      "TPU available: False, using: 0 TPU cores\n",
      "HPU available: False, using: 0 HPUs\n",
      "Seed set to 81\n",
      "GPU available: True (cuda), used: True\n",
      "TPU available: False, using: 0 TPU cores\n",
      "HPU available: False, using: 0 HPUs\n",
      "LOCAL_RANK: 0 - CUDA_VISIBLE_DEVICES: [0]\n",
      "\n",
      "  | Name             | Type           | Params | Mode \n",
      "------------------------------------------------------------\n",
      "0 | loss             | MAE            | 0      | train\n",
      "1 | logging_metrics  | ModuleList     | 0      | train\n",
      "2 | embeddings       | MultiEmbedding | 3      | train\n",
      "3 | rnn              | LSTM           | 3.2 K  | train\n",
      "4 | output_projector | Linear         | 16     | train\n",
      "------------------------------------------------------------\n",
      "3.2 K     Trainable params\n",
      "0         Non-trainable params\n",
      "3.2 K     Total params\n",
      "0.013     Total estimated model params size (MB)\n"
     ]
    },
    {
     "name": "stdout",
     "output_type": "stream",
     "text": [
      "Training model for bool_weather_missing_values using establishedAffluence_block_40_MAC005359.csv\n",
      "9985\n"
     ]
    },
    {
     "name": "stderr",
     "output_type": "stream",
     "text": [
      "Metric val_loss improved. New best score: 0.179\n",
      "Metric val_loss improved by 0.000 >= min_delta = 0.0001. New best score: 0.179\n",
      "Metric val_loss improved by 0.000 >= min_delta = 0.0001. New best score: 0.179\n",
      "Metric val_loss improved by 0.010 >= min_delta = 0.0001. New best score: 0.169\n",
      "Metric val_loss improved by 0.006 >= min_delta = 0.0001. New best score: 0.163\n",
      "Metric val_loss improved by 0.000 >= min_delta = 0.0001. New best score: 0.163\n",
      "Monitored metric val_loss did not improve in the last 10 records. Best score: 0.163. Signaling Trainer to stop.\n",
      "GPU available: True (cuda), used: True\n",
      "TPU available: False, using: 0 TPU cores\n",
      "HPU available: False, using: 0 HPUs\n",
      "LOCAL_RANK: 0 - CUDA_VISIBLE_DEVICES: [0]\n",
      "GPU available: True (cuda), used: False\n",
      "TPU available: False, using: 0 TPU cores\n",
      "HPU available: False, using: 0 HPUs\n",
      "Seed set to 81\n",
      "GPU available: True (cuda), used: True\n",
      "TPU available: False, using: 0 TPU cores\n",
      "HPU available: False, using: 0 HPUs\n",
      "LOCAL_RANK: 0 - CUDA_VISIBLE_DEVICES: [0]\n",
      "\n",
      "  | Name             | Type           | Params | Mode \n",
      "------------------------------------------------------------\n",
      "0 | loss             | MAE            | 0      | train\n",
      "1 | logging_metrics  | ModuleList     | 0      | train\n",
      "2 | embeddings       | MultiEmbedding | 2      | train\n",
      "3 | rnn              | LSTM           | 3.2 K  | train\n",
      "4 | output_projector | Linear         | 16     | train\n",
      "------------------------------------------------------------\n",
      "3.2 K     Trainable params\n",
      "0         Non-trainable params\n",
      "3.2 K     Total params\n",
      "0.013     Total estimated model params size (MB)\n"
     ]
    },
    {
     "name": "stdout",
     "output_type": "stream",
     "text": [
      "Training model for # using stretchedSociety_block_98_MAC001062.csv\n",
      "9985\n"
     ]
    },
    {
     "name": "stderr",
     "output_type": "stream",
     "text": [
      "Metric val_loss improved. New best score: 0.200\n",
      "Metric val_loss improved by 0.079 >= min_delta = 0.0001. New best score: 0.121\n",
      "Metric val_loss improved by 0.004 >= min_delta = 0.0001. New best score: 0.118\n",
      "Seed set to 81\n",
      "GPU available: True (cuda), used: True\n",
      "TPU available: False, using: 0 TPU cores\n",
      "HPU available: False, using: 0 HPUs\n",
      "LOCAL_RANK: 0 - CUDA_VISIBLE_DEVICES: [0]\n",
      "\n",
      "  | Name             | Type           | Params | Mode \n",
      "------------------------------------------------------------\n",
      "0 | loss             | MAE            | 0      | train\n",
      "1 | logging_metrics  | ModuleList     | 0      | train\n",
      "2 | embeddings       | MultiEmbedding | 37     | train\n",
      "3 | rnn              | LSTM           | 3.4 K  | train\n",
      "4 | output_projector | Linear         | 16     | train\n",
      "------------------------------------------------------------\n",
      "3.5 K     Trainable params\n",
      "0         Non-trainable params\n",
      "3.5 K     Total params\n",
      "0.014     Total estimated model params size (MB)\n"
     ]
    },
    {
     "name": "stdout",
     "output_type": "stream",
     "text": [
      "Nome 'stretchedSociety_block_98_MAC001062.csv' escrito com sucesso em 'csv_.txt'\n",
      "stretchedSociety_block_98_MAC001062.csv adicionado a lista de pdv's problematicos \n",
      "Training model for dayofweek_num using stretchedSociety_block_98_MAC001062.csv\n",
      "9985\n"
     ]
    },
    {
     "name": "stderr",
     "output_type": "stream",
     "text": [
      "Metric val_loss improved. New best score: 0.237\n",
      "Metric val_loss improved by 0.019 >= min_delta = 0.0001. New best score: 0.217\n",
      "Metric val_loss improved by 0.052 >= min_delta = 0.0001. New best score: 0.166\n",
      "Metric val_loss improved by 0.030 >= min_delta = 0.0001. New best score: 0.136\n",
      "Metric val_loss improved by 0.004 >= min_delta = 0.0001. New best score: 0.132\n",
      "Seed set to 81\n",
      "GPU available: True (cuda), used: True\n",
      "TPU available: False, using: 0 TPU cores\n",
      "HPU available: False, using: 0 HPUs\n",
      "LOCAL_RANK: 0 - CUDA_VISIBLE_DEVICES: [0]\n",
      "\n",
      "  | Name             | Type           | Params | Mode \n",
      "------------------------------------------------------------\n",
      "0 | loss             | MAE            | 0      | train\n",
      "1 | logging_metrics  | ModuleList     | 0      | train\n",
      "2 | embeddings       | MultiEmbedding | 218    | train\n",
      "3 | rnn              | LSTM           | 3.7 K  | train\n",
      "4 | output_projector | Linear         | 16     | train\n",
      "------------------------------------------------------------\n",
      "3.9 K     Trainable params\n",
      "0         Non-trainable params\n",
      "3.9 K     Total params\n",
      "0.016     Total estimated model params size (MB)\n"
     ]
    },
    {
     "name": "stdout",
     "output_type": "stream",
     "text": [
      "Nome 'stretchedSociety_block_98_MAC001062.csv' escrito com sucesso em 'csv_.txt'\n",
      "stretchedSociety_block_98_MAC001062.csv adicionado a lista de pdv's problematicos \n",
      "Training model for hour using stretchedSociety_block_98_MAC001062.csv\n",
      "9985\n"
     ]
    },
    {
     "name": "stderr",
     "output_type": "stream",
     "text": [
      "Metric val_loss improved. New best score: 0.108\n",
      "Monitored metric val_loss did not improve in the last 10 records. Best score: 0.108. Signaling Trainer to stop.\n",
      "GPU available: True (cuda), used: True\n",
      "TPU available: False, using: 0 TPU cores\n",
      "HPU available: False, using: 0 HPUs\n",
      "LOCAL_RANK: 0 - CUDA_VISIBLE_DEVICES: [0]\n",
      "GPU available: True (cuda), used: False\n",
      "TPU available: False, using: 0 TPU cores\n",
      "HPU available: False, using: 0 HPUs\n",
      "Seed set to 81\n",
      "GPU available: True (cuda), used: True\n",
      "TPU available: False, using: 0 TPU cores\n",
      "HPU available: False, using: 0 HPUs\n",
      "LOCAL_RANK: 0 - CUDA_VISIBLE_DEVICES: [0]\n",
      "\n",
      "  | Name             | Type           | Params | Mode \n",
      "------------------------------------------------------------\n",
      "0 | loss             | MAE            | 0      | train\n",
      "1 | logging_metrics  | ModuleList     | 0      | train\n",
      "2 | embeddings       | MultiEmbedding | 4      | train\n",
      "3 | rnn              | LSTM           | 3.2 K  | train\n",
      "4 | output_projector | Linear         | 16     | train\n",
      "------------------------------------------------------------\n",
      "3.2 K     Trainable params\n",
      "0         Non-trainable params\n",
      "3.2 K     Total params\n",
      "0.013     Total estimated model params size (MB)\n"
     ]
    },
    {
     "name": "stdout",
     "output_type": "stream",
     "text": [
      "Training model for holiday using stretchedSociety_block_98_MAC001062.csv\n",
      "9985\n"
     ]
    },
    {
     "name": "stderr",
     "output_type": "stream",
     "text": [
      "Metric val_loss improved. New best score: 0.237\n",
      "Metric val_loss improved by 0.054 >= min_delta = 0.0001. New best score: 0.183\n",
      "Metric val_loss improved by 0.057 >= min_delta = 0.0001. New best score: 0.126\n",
      "Metric val_loss improved by 0.010 >= min_delta = 0.0001. New best score: 0.116\n",
      "Monitored metric val_loss did not improve in the last 10 records. Best score: 0.116. Signaling Trainer to stop.\n",
      "GPU available: True (cuda), used: True\n",
      "TPU available: False, using: 0 TPU cores\n",
      "HPU available: False, using: 0 HPUs\n",
      "LOCAL_RANK: 0 - CUDA_VISIBLE_DEVICES: [0]\n",
      "GPU available: True (cuda), used: False\n",
      "TPU available: False, using: 0 TPU cores\n",
      "HPU available: False, using: 0 HPUs\n",
      "Seed set to 81\n",
      "GPU available: True (cuda), used: True\n",
      "TPU available: False, using: 0 TPU cores\n",
      "HPU available: False, using: 0 HPUs\n",
      "LOCAL_RANK: 0 - CUDA_VISIBLE_DEVICES: [0]\n",
      "\n",
      "  | Name             | Type           | Params | Mode \n",
      "------------------------------------------------------------\n",
      "0 | loss             | MAE            | 0      | train\n",
      "1 | logging_metrics  | ModuleList     | 0      | train\n",
      "2 | embeddings       | MultiEmbedding | 11     | train\n",
      "3 | rnn              | LSTM           | 3.3 K  | train\n",
      "4 | output_projector | Linear         | 16     | train\n",
      "------------------------------------------------------------\n",
      "3.3 K     Trainable params\n",
      "0         Non-trainable params\n",
      "3.3 K     Total params\n",
      "0.013     Total estimated model params size (MB)\n"
     ]
    },
    {
     "name": "stdout",
     "output_type": "stream",
     "text": [
      "Training model for precipType using stretchedSociety_block_98_MAC001062.csv\n",
      "9985\n"
     ]
    },
    {
     "name": "stderr",
     "output_type": "stream",
     "text": [
      "Metric val_loss improved. New best score: 0.239\n",
      "Metric val_loss improved by 0.003 >= min_delta = 0.0001. New best score: 0.236\n",
      "Metric val_loss improved by 0.024 >= min_delta = 0.0001. New best score: 0.212\n",
      "Metric val_loss improved by 0.046 >= min_delta = 0.0001. New best score: 0.166\n",
      "Metric val_loss improved by 0.039 >= min_delta = 0.0001. New best score: 0.127\n",
      "Metric val_loss improved by 0.003 >= min_delta = 0.0001. New best score: 0.124\n",
      "Monitored metric val_loss did not improve in the last 10 records. Best score: 0.124. Signaling Trainer to stop.\n",
      "GPU available: True (cuda), used: True\n",
      "TPU available: False, using: 0 TPU cores\n",
      "HPU available: False, using: 0 HPUs\n",
      "LOCAL_RANK: 0 - CUDA_VISIBLE_DEVICES: [0]\n",
      "GPU available: True (cuda), used: False\n",
      "TPU available: False, using: 0 TPU cores\n",
      "HPU available: False, using: 0 HPUs\n",
      "Seed set to 81\n",
      "GPU available: True (cuda), used: True\n",
      "TPU available: False, using: 0 TPU cores\n",
      "HPU available: False, using: 0 HPUs\n",
      "LOCAL_RANK: 0 - CUDA_VISIBLE_DEVICES: [0]\n",
      "\n",
      "  | Name             | Type           | Params | Mode \n",
      "------------------------------------------------------------\n",
      "0 | loss             | MAE            | 0      | train\n",
      "1 | logging_metrics  | ModuleList     | 0      | train\n",
      "2 | embeddings       | MultiEmbedding | 74     | train\n",
      "3 | rnn              | LSTM           | 3.5 K  | train\n",
      "4 | output_projector | Linear         | 16     | train\n",
      "------------------------------------------------------------\n",
      "3.6 K     Trainable params\n",
      "0         Non-trainable params\n",
      "3.6 K     Total params\n",
      "0.014     Total estimated model params size (MB)\n"
     ]
    },
    {
     "name": "stdout",
     "output_type": "stream",
     "text": [
      "Training model for month using stretchedSociety_block_98_MAC001062.csv\n",
      "9985\n"
     ]
    },
    {
     "name": "stderr",
     "output_type": "stream",
     "text": [
      "Metric val_loss improved. New best score: 0.308\n",
      "Metric val_loss improved by 0.016 >= min_delta = 0.0001. New best score: 0.292\n",
      "Metric val_loss improved by 0.141 >= min_delta = 0.0001. New best score: 0.151\n",
      "Monitored metric val_loss did not improve in the last 10 records. Best score: 0.151. Signaling Trainer to stop.\n",
      "GPU available: True (cuda), used: True\n",
      "TPU available: False, using: 0 TPU cores\n",
      "HPU available: False, using: 0 HPUs\n",
      "LOCAL_RANK: 0 - CUDA_VISIBLE_DEVICES: [0]\n",
      "GPU available: True (cuda), used: False\n",
      "TPU available: False, using: 0 TPU cores\n",
      "HPU available: False, using: 0 HPUs\n",
      "Seed set to 81\n",
      "GPU available: True (cuda), used: True\n",
      "TPU available: False, using: 0 TPU cores\n",
      "HPU available: False, using: 0 HPUs\n",
      "LOCAL_RANK: 0 - CUDA_VISIBLE_DEVICES: [0]\n",
      "\n",
      "  | Name             | Type           | Params | Mode \n",
      "------------------------------------------------------------\n",
      "0 | loss             | MAE            | 0      | train\n",
      "1 | logging_metrics  | ModuleList     | 0      | train\n",
      "2 | embeddings       | MultiEmbedding | 3      | train\n",
      "3 | rnn              | LSTM           | 3.2 K  | train\n",
      "4 | output_projector | Linear         | 16     | train\n",
      "------------------------------------------------------------\n",
      "3.2 K     Trainable params\n",
      "0         Non-trainable params\n",
      "3.2 K     Total params\n",
      "0.013     Total estimated model params size (MB)\n"
     ]
    },
    {
     "name": "stdout",
     "output_type": "stream",
     "text": [
      "Training model for bool_weather_missing_values using stretchedSociety_block_98_MAC001062.csv\n",
      "9985\n"
     ]
    },
    {
     "name": "stderr",
     "output_type": "stream",
     "text": [
      "Metric val_loss improved. New best score: 0.237\n",
      "Metric val_loss improved by 0.122 >= min_delta = 0.0001. New best score: 0.115\n",
      "Monitored metric val_loss did not improve in the last 10 records. Best score: 0.115. Signaling Trainer to stop.\n",
      "GPU available: True (cuda), used: True\n",
      "TPU available: False, using: 0 TPU cores\n",
      "HPU available: False, using: 0 HPUs\n",
      "LOCAL_RANK: 0 - CUDA_VISIBLE_DEVICES: [0]\n",
      "GPU available: True (cuda), used: False\n",
      "TPU available: False, using: 0 TPU cores\n",
      "HPU available: False, using: 0 HPUs\n",
      "Seed set to 81\n",
      "GPU available: True (cuda), used: True\n",
      "TPU available: False, using: 0 TPU cores\n",
      "HPU available: False, using: 0 HPUs\n",
      "LOCAL_RANK: 0 - CUDA_VISIBLE_DEVICES: [0]\n",
      "\n",
      "  | Name             | Type           | Params | Mode \n",
      "------------------------------------------------------------\n",
      "0 | loss             | MAE            | 0      | train\n",
      "1 | logging_metrics  | ModuleList     | 0      | train\n",
      "2 | embeddings       | MultiEmbedding | 2      | train\n",
      "3 | rnn              | LSTM           | 3.2 K  | train\n",
      "4 | output_projector | Linear         | 16     | train\n",
      "------------------------------------------------------------\n",
      "3.2 K     Trainable params\n",
      "0         Non-trainable params\n",
      "3.2 K     Total params\n",
      "0.013     Total estimated model params size (MB)\n"
     ]
    },
    {
     "name": "stdout",
     "output_type": "stream",
     "text": [
      "Training model for # using stretchedSociety_block_104_MAC004395.csv\n",
      "9985\n"
     ]
    },
    {
     "name": "stderr",
     "output_type": "stream",
     "text": [
      "Metric val_loss improved. New best score: 0.773\n",
      "Metric val_loss improved by 0.015 >= min_delta = 0.0001. New best score: 0.758\n",
      "Monitored metric val_loss did not improve in the last 10 records. Best score: 0.758. Signaling Trainer to stop.\n",
      "GPU available: True (cuda), used: True\n",
      "TPU available: False, using: 0 TPU cores\n",
      "HPU available: False, using: 0 HPUs\n",
      "LOCAL_RANK: 0 - CUDA_VISIBLE_DEVICES: [0]\n",
      "GPU available: True (cuda), used: False\n",
      "TPU available: False, using: 0 TPU cores\n",
      "HPU available: False, using: 0 HPUs\n",
      "Seed set to 81\n",
      "GPU available: True (cuda), used: True\n",
      "TPU available: False, using: 0 TPU cores\n",
      "HPU available: False, using: 0 HPUs\n",
      "LOCAL_RANK: 0 - CUDA_VISIBLE_DEVICES: [0]\n",
      "\n",
      "  | Name             | Type           | Params | Mode \n",
      "------------------------------------------------------------\n",
      "0 | loss             | MAE            | 0      | train\n",
      "1 | logging_metrics  | ModuleList     | 0      | train\n",
      "2 | embeddings       | MultiEmbedding | 37     | train\n",
      "3 | rnn              | LSTM           | 3.4 K  | train\n",
      "4 | output_projector | Linear         | 16     | train\n",
      "------------------------------------------------------------\n",
      "3.5 K     Trainable params\n",
      "0         Non-trainable params\n",
      "3.5 K     Total params\n",
      "0.014     Total estimated model params size (MB)\n"
     ]
    },
    {
     "name": "stdout",
     "output_type": "stream",
     "text": [
      "Training model for dayofweek_num using stretchedSociety_block_104_MAC004395.csv\n",
      "9985\n"
     ]
    },
    {
     "name": "stderr",
     "output_type": "stream",
     "text": [
      "Metric val_loss improved. New best score: 0.684\n",
      "Monitored metric val_loss did not improve in the last 10 records. Best score: 0.684. Signaling Trainer to stop.\n",
      "GPU available: True (cuda), used: True\n",
      "TPU available: False, using: 0 TPU cores\n",
      "HPU available: False, using: 0 HPUs\n",
      "LOCAL_RANK: 0 - CUDA_VISIBLE_DEVICES: [0]\n",
      "GPU available: True (cuda), used: False\n",
      "TPU available: False, using: 0 TPU cores\n",
      "HPU available: False, using: 0 HPUs\n",
      "Seed set to 81\n",
      "GPU available: True (cuda), used: True\n",
      "TPU available: False, using: 0 TPU cores\n",
      "HPU available: False, using: 0 HPUs\n",
      "LOCAL_RANK: 0 - CUDA_VISIBLE_DEVICES: [0]\n",
      "\n",
      "  | Name             | Type           | Params | Mode \n",
      "------------------------------------------------------------\n",
      "0 | loss             | MAE            | 0      | train\n",
      "1 | logging_metrics  | ModuleList     | 0      | train\n",
      "2 | embeddings       | MultiEmbedding | 218    | train\n",
      "3 | rnn              | LSTM           | 3.7 K  | train\n",
      "4 | output_projector | Linear         | 16     | train\n",
      "------------------------------------------------------------\n",
      "3.9 K     Trainable params\n",
      "0         Non-trainable params\n",
      "3.9 K     Total params\n",
      "0.016     Total estimated model params size (MB)\n"
     ]
    },
    {
     "name": "stdout",
     "output_type": "stream",
     "text": [
      "Training model for hour using stretchedSociety_block_104_MAC004395.csv\n",
      "9985\n"
     ]
    },
    {
     "name": "stderr",
     "output_type": "stream",
     "text": [
      "Metric val_loss improved. New best score: 0.663\n",
      "Metric val_loss improved by 0.009 >= min_delta = 0.0001. New best score: 0.654\n",
      "Monitored metric val_loss did not improve in the last 10 records. Best score: 0.654. Signaling Trainer to stop.\n",
      "GPU available: True (cuda), used: True\n",
      "TPU available: False, using: 0 TPU cores\n",
      "HPU available: False, using: 0 HPUs\n",
      "LOCAL_RANK: 0 - CUDA_VISIBLE_DEVICES: [0]\n",
      "GPU available: True (cuda), used: False\n",
      "TPU available: False, using: 0 TPU cores\n",
      "HPU available: False, using: 0 HPUs\n",
      "Seed set to 81\n",
      "GPU available: True (cuda), used: True\n",
      "TPU available: False, using: 0 TPU cores\n",
      "HPU available: False, using: 0 HPUs\n",
      "LOCAL_RANK: 0 - CUDA_VISIBLE_DEVICES: [0]\n",
      "\n",
      "  | Name             | Type           | Params | Mode \n",
      "------------------------------------------------------------\n",
      "0 | loss             | MAE            | 0      | train\n",
      "1 | logging_metrics  | ModuleList     | 0      | train\n",
      "2 | embeddings       | MultiEmbedding | 4      | train\n",
      "3 | rnn              | LSTM           | 3.2 K  | train\n",
      "4 | output_projector | Linear         | 16     | train\n",
      "------------------------------------------------------------\n",
      "3.2 K     Trainable params\n",
      "0         Non-trainable params\n",
      "3.2 K     Total params\n",
      "0.013     Total estimated model params size (MB)\n"
     ]
    },
    {
     "name": "stdout",
     "output_type": "stream",
     "text": [
      "Training model for holiday using stretchedSociety_block_104_MAC004395.csv\n",
      "9985\n"
     ]
    },
    {
     "name": "stderr",
     "output_type": "stream",
     "text": [
      "Metric val_loss improved. New best score: 0.774\n",
      "Monitored metric val_loss did not improve in the last 10 records. Best score: 0.774. Signaling Trainer to stop.\n",
      "GPU available: True (cuda), used: True\n",
      "TPU available: False, using: 0 TPU cores\n",
      "HPU available: False, using: 0 HPUs\n",
      "LOCAL_RANK: 0 - CUDA_VISIBLE_DEVICES: [0]\n",
      "GPU available: True (cuda), used: False\n",
      "TPU available: False, using: 0 TPU cores\n",
      "HPU available: False, using: 0 HPUs\n",
      "Seed set to 81\n",
      "GPU available: True (cuda), used: True\n",
      "TPU available: False, using: 0 TPU cores\n",
      "HPU available: False, using: 0 HPUs\n",
      "LOCAL_RANK: 0 - CUDA_VISIBLE_DEVICES: [0]\n",
      "\n",
      "  | Name             | Type           | Params | Mode \n",
      "------------------------------------------------------------\n",
      "0 | loss             | MAE            | 0      | train\n",
      "1 | logging_metrics  | ModuleList     | 0      | train\n",
      "2 | embeddings       | MultiEmbedding | 11     | train\n",
      "3 | rnn              | LSTM           | 3.3 K  | train\n",
      "4 | output_projector | Linear         | 16     | train\n",
      "------------------------------------------------------------\n",
      "3.3 K     Trainable params\n",
      "0         Non-trainable params\n",
      "3.3 K     Total params\n",
      "0.013     Total estimated model params size (MB)\n"
     ]
    },
    {
     "name": "stdout",
     "output_type": "stream",
     "text": [
      "Training model for precipType using stretchedSociety_block_104_MAC004395.csv\n",
      "9985\n"
     ]
    },
    {
     "name": "stderr",
     "output_type": "stream",
     "text": [
      "Metric val_loss improved. New best score: 0.802\n",
      "Monitored metric val_loss did not improve in the last 10 records. Best score: 0.802. Signaling Trainer to stop.\n",
      "GPU available: True (cuda), used: True\n",
      "TPU available: False, using: 0 TPU cores\n",
      "HPU available: False, using: 0 HPUs\n",
      "LOCAL_RANK: 0 - CUDA_VISIBLE_DEVICES: [0]\n",
      "GPU available: True (cuda), used: False\n",
      "TPU available: False, using: 0 TPU cores\n",
      "HPU available: False, using: 0 HPUs\n",
      "Seed set to 81\n",
      "GPU available: True (cuda), used: True\n",
      "TPU available: False, using: 0 TPU cores\n",
      "HPU available: False, using: 0 HPUs\n",
      "LOCAL_RANK: 0 - CUDA_VISIBLE_DEVICES: [0]\n",
      "\n",
      "  | Name             | Type           | Params | Mode \n",
      "------------------------------------------------------------\n",
      "0 | loss             | MAE            | 0      | train\n",
      "1 | logging_metrics  | ModuleList     | 0      | train\n",
      "2 | embeddings       | MultiEmbedding | 74     | train\n",
      "3 | rnn              | LSTM           | 3.5 K  | train\n",
      "4 | output_projector | Linear         | 16     | train\n",
      "------------------------------------------------------------\n",
      "3.6 K     Trainable params\n",
      "0         Non-trainable params\n",
      "3.6 K     Total params\n",
      "0.014     Total estimated model params size (MB)\n"
     ]
    },
    {
     "name": "stdout",
     "output_type": "stream",
     "text": [
      "Training model for month using stretchedSociety_block_104_MAC004395.csv\n",
      "9985\n"
     ]
    },
    {
     "name": "stderr",
     "output_type": "stream",
     "text": [
      "Metric val_loss improved. New best score: 0.771\n",
      "Monitored metric val_loss did not improve in the last 10 records. Best score: 0.771. Signaling Trainer to stop.\n",
      "GPU available: True (cuda), used: True\n",
      "TPU available: False, using: 0 TPU cores\n",
      "HPU available: False, using: 0 HPUs\n",
      "LOCAL_RANK: 0 - CUDA_VISIBLE_DEVICES: [0]\n",
      "GPU available: True (cuda), used: False\n",
      "TPU available: False, using: 0 TPU cores\n",
      "HPU available: False, using: 0 HPUs\n",
      "Seed set to 81\n",
      "GPU available: True (cuda), used: True\n",
      "TPU available: False, using: 0 TPU cores\n",
      "HPU available: False, using: 0 HPUs\n",
      "LOCAL_RANK: 0 - CUDA_VISIBLE_DEVICES: [0]\n",
      "\n",
      "  | Name             | Type           | Params | Mode \n",
      "------------------------------------------------------------\n",
      "0 | loss             | MAE            | 0      | train\n",
      "1 | logging_metrics  | ModuleList     | 0      | train\n",
      "2 | embeddings       | MultiEmbedding | 3      | train\n",
      "3 | rnn              | LSTM           | 3.2 K  | train\n",
      "4 | output_projector | Linear         | 16     | train\n",
      "------------------------------------------------------------\n",
      "3.2 K     Trainable params\n",
      "0         Non-trainable params\n",
      "3.2 K     Total params\n",
      "0.013     Total estimated model params size (MB)\n"
     ]
    },
    {
     "name": "stdout",
     "output_type": "stream",
     "text": [
      "Training model for bool_weather_missing_values using stretchedSociety_block_104_MAC004395.csv\n",
      "9985\n"
     ]
    },
    {
     "name": "stderr",
     "output_type": "stream",
     "text": [
      "Metric val_loss improved. New best score: 0.777\n",
      "Monitored metric val_loss did not improve in the last 10 records. Best score: 0.777. Signaling Trainer to stop.\n",
      "GPU available: True (cuda), used: True\n",
      "TPU available: False, using: 0 TPU cores\n",
      "HPU available: False, using: 0 HPUs\n",
      "LOCAL_RANK: 0 - CUDA_VISIBLE_DEVICES: [0]\n",
      "GPU available: True (cuda), used: False\n",
      "TPU available: False, using: 0 TPU cores\n",
      "HPU available: False, using: 0 HPUs\n",
      "Seed set to 81\n",
      "GPU available: True (cuda), used: True\n",
      "TPU available: False, using: 0 TPU cores\n",
      "HPU available: False, using: 0 HPUs\n",
      "LOCAL_RANK: 0 - CUDA_VISIBLE_DEVICES: [0]\n",
      "\n",
      "  | Name             | Type           | Params | Mode \n",
      "------------------------------------------------------------\n",
      "0 | loss             | MAE            | 0      | train\n",
      "1 | logging_metrics  | ModuleList     | 0      | train\n",
      "2 | embeddings       | MultiEmbedding | 2      | train\n",
      "3 | rnn              | LSTM           | 3.2 K  | train\n",
      "4 | output_projector | Linear         | 16     | train\n",
      "------------------------------------------------------------\n",
      "3.2 K     Trainable params\n",
      "0         Non-trainable params\n",
      "3.2 K     Total params\n",
      "0.013     Total estimated model params size (MB)\n"
     ]
    },
    {
     "name": "stdout",
     "output_type": "stream",
     "text": [
      "Training model for # using establishedAffluence_block_16_MAC002096.csv\n",
      "9985\n"
     ]
    },
    {
     "name": "stderr",
     "output_type": "stream",
     "text": [
      "Metric val_loss improved. New best score: 0.033\n",
      "Metric val_loss improved by 0.005 >= min_delta = 0.0001. New best score: 0.028\n",
      "Metric val_loss improved by 0.002 >= min_delta = 0.0001. New best score: 0.026\n",
      "Metric val_loss improved by 0.000 >= min_delta = 0.0001. New best score: 0.026\n",
      "Metric val_loss improved by 0.000 >= min_delta = 0.0001. New best score: 0.025\n",
      "Monitored metric val_loss did not improve in the last 10 records. Best score: 0.025. Signaling Trainer to stop.\n",
      "GPU available: True (cuda), used: True\n",
      "TPU available: False, using: 0 TPU cores\n",
      "HPU available: False, using: 0 HPUs\n",
      "LOCAL_RANK: 0 - CUDA_VISIBLE_DEVICES: [0]\n",
      "GPU available: True (cuda), used: False\n",
      "TPU available: False, using: 0 TPU cores\n",
      "HPU available: False, using: 0 HPUs\n",
      "Seed set to 81\n",
      "GPU available: True (cuda), used: True\n",
      "TPU available: False, using: 0 TPU cores\n",
      "HPU available: False, using: 0 HPUs\n",
      "LOCAL_RANK: 0 - CUDA_VISIBLE_DEVICES: [0]\n",
      "\n",
      "  | Name             | Type           | Params | Mode \n",
      "------------------------------------------------------------\n",
      "0 | loss             | MAE            | 0      | train\n",
      "1 | logging_metrics  | ModuleList     | 0      | train\n",
      "2 | embeddings       | MultiEmbedding | 37     | train\n",
      "3 | rnn              | LSTM           | 3.4 K  | train\n",
      "4 | output_projector | Linear         | 16     | train\n",
      "------------------------------------------------------------\n",
      "3.5 K     Trainable params\n",
      "0         Non-trainable params\n",
      "3.5 K     Total params\n",
      "0.014     Total estimated model params size (MB)\n"
     ]
    },
    {
     "name": "stdout",
     "output_type": "stream",
     "text": [
      "Training model for dayofweek_num using establishedAffluence_block_16_MAC002096.csv\n",
      "9985\n"
     ]
    },
    {
     "name": "stderr",
     "output_type": "stream",
     "text": [
      "Metric val_loss improved. New best score: 0.031\n",
      "Metric val_loss improved by 0.001 >= min_delta = 0.0001. New best score: 0.030\n",
      "Metric val_loss improved by 0.001 >= min_delta = 0.0001. New best score: 0.029\n",
      "Metric val_loss improved by 0.002 >= min_delta = 0.0001. New best score: 0.027\n",
      "Metric val_loss improved by 0.002 >= min_delta = 0.0001. New best score: 0.025\n",
      "Metric val_loss improved by 0.000 >= min_delta = 0.0001. New best score: 0.024\n",
      "Monitored metric val_loss did not improve in the last 10 records. Best score: 0.024. Signaling Trainer to stop.\n",
      "GPU available: True (cuda), used: True\n",
      "TPU available: False, using: 0 TPU cores\n",
      "HPU available: False, using: 0 HPUs\n",
      "LOCAL_RANK: 0 - CUDA_VISIBLE_DEVICES: [0]\n",
      "GPU available: True (cuda), used: False\n",
      "TPU available: False, using: 0 TPU cores\n",
      "HPU available: False, using: 0 HPUs\n",
      "Seed set to 81\n"
     ]
    },
    {
     "name": "stdout",
     "output_type": "stream",
     "text": [
      "Training model for hour using establishedAffluence_block_16_MAC002096.csv\n",
      "9985\n"
     ]
    },
    {
     "name": "stderr",
     "output_type": "stream",
     "text": [
      "GPU available: True (cuda), used: True\n",
      "TPU available: False, using: 0 TPU cores\n",
      "HPU available: False, using: 0 HPUs\n",
      "LOCAL_RANK: 0 - CUDA_VISIBLE_DEVICES: [0]\n",
      "\n",
      "  | Name             | Type           | Params | Mode \n",
      "------------------------------------------------------------\n",
      "0 | loss             | MAE            | 0      | train\n",
      "1 | logging_metrics  | ModuleList     | 0      | train\n",
      "2 | embeddings       | MultiEmbedding | 218    | train\n",
      "3 | rnn              | LSTM           | 3.7 K  | train\n",
      "4 | output_projector | Linear         | 16     | train\n",
      "------------------------------------------------------------\n",
      "3.9 K     Trainable params\n",
      "0         Non-trainable params\n",
      "3.9 K     Total params\n",
      "0.016     Total estimated model params size (MB)\n",
      "Metric val_loss improved. New best score: 0.034\n",
      "Metric val_loss improved by 0.007 >= min_delta = 0.0001. New best score: 0.026\n",
      "Metric val_loss improved by 0.001 >= min_delta = 0.0001. New best score: 0.026\n",
      "Monitored metric val_loss did not improve in the last 10 records. Best score: 0.026. Signaling Trainer to stop.\n",
      "GPU available: True (cuda), used: True\n",
      "TPU available: False, using: 0 TPU cores\n",
      "HPU available: False, using: 0 HPUs\n",
      "LOCAL_RANK: 0 - CUDA_VISIBLE_DEVICES: [0]\n",
      "GPU available: True (cuda), used: False\n",
      "TPU available: False, using: 0 TPU cores\n",
      "HPU available: False, using: 0 HPUs\n",
      "Seed set to 81\n",
      "GPU available: True (cuda), used: True\n",
      "TPU available: False, using: 0 TPU cores\n",
      "HPU available: False, using: 0 HPUs\n",
      "LOCAL_RANK: 0 - CUDA_VISIBLE_DEVICES: [0]\n",
      "\n",
      "  | Name             | Type           | Params | Mode \n",
      "------------------------------------------------------------\n",
      "0 | loss             | MAE            | 0      | train\n",
      "1 | logging_metrics  | ModuleList     | 0      | train\n",
      "2 | embeddings       | MultiEmbedding | 4      | train\n",
      "3 | rnn              | LSTM           | 3.2 K  | train\n",
      "4 | output_projector | Linear         | 16     | train\n",
      "------------------------------------------------------------\n",
      "3.2 K     Trainable params\n",
      "0         Non-trainable params\n",
      "3.2 K     Total params\n",
      "0.013     Total estimated model params size (MB)\n"
     ]
    },
    {
     "name": "stdout",
     "output_type": "stream",
     "text": [
      "Training model for holiday using establishedAffluence_block_16_MAC002096.csv\n",
      "9985\n"
     ]
    },
    {
     "name": "stderr",
     "output_type": "stream",
     "text": [
      "Metric val_loss improved. New best score: 0.025\n",
      "Monitored metric val_loss did not improve in the last 10 records. Best score: 0.025. Signaling Trainer to stop.\n",
      "GPU available: True (cuda), used: True\n",
      "TPU available: False, using: 0 TPU cores\n",
      "HPU available: False, using: 0 HPUs\n",
      "LOCAL_RANK: 0 - CUDA_VISIBLE_DEVICES: [0]\n",
      "GPU available: True (cuda), used: False\n",
      "TPU available: False, using: 0 TPU cores\n",
      "HPU available: False, using: 0 HPUs\n",
      "Seed set to 81\n",
      "GPU available: True (cuda), used: True\n",
      "TPU available: False, using: 0 TPU cores\n",
      "HPU available: False, using: 0 HPUs\n",
      "LOCAL_RANK: 0 - CUDA_VISIBLE_DEVICES: [0]\n",
      "\n",
      "  | Name             | Type           | Params | Mode \n",
      "------------------------------------------------------------\n",
      "0 | loss             | MAE            | 0      | train\n",
      "1 | logging_metrics  | ModuleList     | 0      | train\n",
      "2 | embeddings       | MultiEmbedding | 11     | train\n",
      "3 | rnn              | LSTM           | 3.3 K  | train\n",
      "4 | output_projector | Linear         | 16     | train\n",
      "------------------------------------------------------------\n",
      "3.3 K     Trainable params\n",
      "0         Non-trainable params\n",
      "3.3 K     Total params\n",
      "0.013     Total estimated model params size (MB)\n"
     ]
    },
    {
     "name": "stdout",
     "output_type": "stream",
     "text": [
      "Training model for precipType using establishedAffluence_block_16_MAC002096.csv\n",
      "9985\n"
     ]
    },
    {
     "name": "stderr",
     "output_type": "stream",
     "text": [
      "Metric val_loss improved. New best score: 0.033\n",
      "Metric val_loss improved by 0.006 >= min_delta = 0.0001. New best score: 0.027\n",
      "Metric val_loss improved by 0.002 >= min_delta = 0.0001. New best score: 0.025\n",
      "Monitored metric val_loss did not improve in the last 10 records. Best score: 0.025. Signaling Trainer to stop.\n",
      "GPU available: True (cuda), used: True\n",
      "TPU available: False, using: 0 TPU cores\n",
      "HPU available: False, using: 0 HPUs\n",
      "LOCAL_RANK: 0 - CUDA_VISIBLE_DEVICES: [0]\n",
      "GPU available: True (cuda), used: False\n",
      "TPU available: False, using: 0 TPU cores\n",
      "HPU available: False, using: 0 HPUs\n",
      "Seed set to 81\n",
      "GPU available: True (cuda), used: True\n",
      "TPU available: False, using: 0 TPU cores\n",
      "HPU available: False, using: 0 HPUs\n",
      "LOCAL_RANK: 0 - CUDA_VISIBLE_DEVICES: [0]\n",
      "\n",
      "  | Name             | Type           | Params | Mode \n",
      "------------------------------------------------------------\n",
      "0 | loss             | MAE            | 0      | train\n",
      "1 | logging_metrics  | ModuleList     | 0      | train\n",
      "2 | embeddings       | MultiEmbedding | 74     | train\n",
      "3 | rnn              | LSTM           | 3.5 K  | train\n",
      "4 | output_projector | Linear         | 16     | train\n",
      "------------------------------------------------------------\n",
      "3.6 K     Trainable params\n",
      "0         Non-trainable params\n",
      "3.6 K     Total params\n",
      "0.014     Total estimated model params size (MB)\n"
     ]
    },
    {
     "name": "stdout",
     "output_type": "stream",
     "text": [
      "Training model for month using establishedAffluence_block_16_MAC002096.csv\n",
      "9985\n"
     ]
    },
    {
     "name": "stderr",
     "output_type": "stream",
     "text": [
      "Metric val_loss improved. New best score: 0.028\n",
      "Metric val_loss improved by 0.001 >= min_delta = 0.0001. New best score: 0.027\n",
      "Metric val_loss improved by 0.000 >= min_delta = 0.0001. New best score: 0.027\n",
      "Metric val_loss improved by 0.000 >= min_delta = 0.0001. New best score: 0.027\n",
      "Metric val_loss improved by 0.000 >= min_delta = 0.0001. New best score: 0.026\n",
      "Metric val_loss improved by 0.001 >= min_delta = 0.0001. New best score: 0.026\n",
      "Metric val_loss improved by 0.000 >= min_delta = 0.0001. New best score: 0.025\n",
      "Metric val_loss improved by 0.001 >= min_delta = 0.0001. New best score: 0.024\n",
      "Monitored metric val_loss did not improve in the last 10 records. Best score: 0.024. Signaling Trainer to stop.\n",
      "GPU available: True (cuda), used: True\n",
      "TPU available: False, using: 0 TPU cores\n",
      "HPU available: False, using: 0 HPUs\n",
      "LOCAL_RANK: 0 - CUDA_VISIBLE_DEVICES: [0]\n",
      "GPU available: True (cuda), used: False\n",
      "TPU available: False, using: 0 TPU cores\n",
      "HPU available: False, using: 0 HPUs\n",
      "Seed set to 81\n",
      "GPU available: True (cuda), used: True\n",
      "TPU available: False, using: 0 TPU cores\n",
      "HPU available: False, using: 0 HPUs\n",
      "LOCAL_RANK: 0 - CUDA_VISIBLE_DEVICES: [0]\n",
      "\n",
      "  | Name             | Type           | Params | Mode \n",
      "------------------------------------------------------------\n",
      "0 | loss             | MAE            | 0      | train\n",
      "1 | logging_metrics  | ModuleList     | 0      | train\n",
      "2 | embeddings       | MultiEmbedding | 3      | train\n",
      "3 | rnn              | LSTM           | 3.2 K  | train\n",
      "4 | output_projector | Linear         | 16     | train\n",
      "------------------------------------------------------------\n",
      "3.2 K     Trainable params\n",
      "0         Non-trainable params\n",
      "3.2 K     Total params\n",
      "0.013     Total estimated model params size (MB)\n"
     ]
    },
    {
     "name": "stdout",
     "output_type": "stream",
     "text": [
      "Training model for bool_weather_missing_values using establishedAffluence_block_16_MAC002096.csv\n",
      "9985\n"
     ]
    },
    {
     "name": "stderr",
     "output_type": "stream",
     "text": [
      "Metric val_loss improved. New best score: 0.028\n",
      "Metric val_loss improved by 0.003 >= min_delta = 0.0001. New best score: 0.025\n",
      "Metric val_loss improved by 0.000 >= min_delta = 0.0001. New best score: 0.024\n",
      "Monitored metric val_loss did not improve in the last 10 records. Best score: 0.024. Signaling Trainer to stop.\n",
      "GPU available: True (cuda), used: True\n",
      "TPU available: False, using: 0 TPU cores\n",
      "HPU available: False, using: 0 HPUs\n",
      "LOCAL_RANK: 0 - CUDA_VISIBLE_DEVICES: [0]\n",
      "GPU available: True (cuda), used: False\n",
      "TPU available: False, using: 0 TPU cores\n",
      "HPU available: False, using: 0 HPUs\n",
      "Seed set to 81\n",
      "GPU available: True (cuda), used: True\n",
      "TPU available: False, using: 0 TPU cores\n",
      "HPU available: False, using: 0 HPUs\n",
      "LOCAL_RANK: 0 - CUDA_VISIBLE_DEVICES: [0]\n",
      "\n",
      "  | Name             | Type           | Params | Mode \n",
      "------------------------------------------------------------\n",
      "0 | loss             | MAE            | 0      | train\n",
      "1 | logging_metrics  | ModuleList     | 0      | train\n",
      "2 | embeddings       | MultiEmbedding | 2      | train\n",
      "3 | rnn              | LSTM           | 3.2 K  | train\n",
      "4 | output_projector | Linear         | 16     | train\n",
      "------------------------------------------------------------\n",
      "3.2 K     Trainable params\n",
      "0         Non-trainable params\n",
      "3.2 K     Total params\n",
      "0.013     Total estimated model params size (MB)\n"
     ]
    },
    {
     "name": "stdout",
     "output_type": "stream",
     "text": [
      "Training model for # using stretchedSociety_block_99_MAC004799.csv\n",
      "9985\n"
     ]
    },
    {
     "name": "stderr",
     "output_type": "stream",
     "text": [
      "Metric val_loss improved. New best score: 0.096\n",
      "Metric val_loss improved by 0.018 >= min_delta = 0.0001. New best score: 0.077\n",
      "Metric val_loss improved by 0.003 >= min_delta = 0.0001. New best score: 0.075\n",
      "Metric val_loss improved by 0.005 >= min_delta = 0.0001. New best score: 0.070\n",
      "Seed set to 81\n"
     ]
    },
    {
     "name": "stdout",
     "output_type": "stream",
     "text": [
      "Nome 'stretchedSociety_block_99_MAC004799.csv' escrito com sucesso em 'csv_.txt'\n",
      "stretchedSociety_block_99_MAC004799.csv adicionado a lista de pdv's problematicos \n",
      "Training model for dayofweek_num using stretchedSociety_block_99_MAC004799.csv\n",
      "9985\n"
     ]
    },
    {
     "name": "stderr",
     "output_type": "stream",
     "text": [
      "GPU available: True (cuda), used: True\n",
      "TPU available: False, using: 0 TPU cores\n",
      "HPU available: False, using: 0 HPUs\n",
      "LOCAL_RANK: 0 - CUDA_VISIBLE_DEVICES: [0]\n",
      "\n",
      "  | Name             | Type           | Params | Mode \n",
      "------------------------------------------------------------\n",
      "0 | loss             | MAE            | 0      | train\n",
      "1 | logging_metrics  | ModuleList     | 0      | train\n",
      "2 | embeddings       | MultiEmbedding | 37     | train\n",
      "3 | rnn              | LSTM           | 3.4 K  | train\n",
      "4 | output_projector | Linear         | 16     | train\n",
      "------------------------------------------------------------\n",
      "3.5 K     Trainable params\n",
      "0         Non-trainable params\n",
      "3.5 K     Total params\n",
      "0.014     Total estimated model params size (MB)\n",
      "Metric val_loss improved. New best score: 0.089\n",
      "GPU available: True (cuda), used: True\n",
      "TPU available: False, using: 0 TPU cores\n",
      "HPU available: False, using: 0 HPUs\n",
      "LOCAL_RANK: 0 - CUDA_VISIBLE_DEVICES: [0]\n",
      "GPU available: True (cuda), used: False\n",
      "TPU available: False, using: 0 TPU cores\n",
      "HPU available: False, using: 0 HPUs\n",
      "Seed set to 81\n"
     ]
    },
    {
     "name": "stdout",
     "output_type": "stream",
     "text": [
      "Training model for hour using stretchedSociety_block_99_MAC004799.csv\n",
      "9985\n",
      "Nome 'stretchedSociety_block_99_MAC004799.csv' escrito com sucesso em 'csv_.txt'\n",
      "stretchedSociety_block_99_MAC004799.csv adicionado a lista de pdv's problematicos \n"
     ]
    },
    {
     "name": "stderr",
     "output_type": "stream",
     "text": [
      "Seed set to 81\n",
      "Seed set to 81\n"
     ]
    },
    {
     "name": "stdout",
     "output_type": "stream",
     "text": [
      "Training model for holiday using stretchedSociety_block_99_MAC004799.csv\n",
      "9985\n",
      "Nome 'stretchedSociety_block_99_MAC004799.csv' escrito com sucesso em 'csv_.txt'\n",
      "stretchedSociety_block_99_MAC004799.csv adicionado a lista de pdv's problematicos \n",
      "Training model for precipType using stretchedSociety_block_99_MAC004799.csv\n",
      "9985\n",
      "Nome 'stretchedSociety_block_99_MAC004799.csv' escrito com sucesso em 'csv_.txt'\n",
      "stretchedSociety_block_99_MAC004799.csv adicionado a lista de pdv's problematicos \n"
     ]
    },
    {
     "name": "stderr",
     "output_type": "stream",
     "text": [
      "Seed set to 81\n",
      "Seed set to 81\n"
     ]
    },
    {
     "name": "stdout",
     "output_type": "stream",
     "text": [
      "Training model for month using stretchedSociety_block_99_MAC004799.csv\n",
      "9985\n",
      "Nome 'stretchedSociety_block_99_MAC004799.csv' escrito com sucesso em 'csv_.txt'\n",
      "stretchedSociety_block_99_MAC004799.csv adicionado a lista de pdv's problematicos \n",
      "Training model for bool_weather_missing_values using stretchedSociety_block_99_MAC004799.csv\n",
      "9985\n"
     ]
    },
    {
     "name": "stderr",
     "output_type": "stream",
     "text": [
      "Seed set to 81\n",
      "Seed set to 81\n"
     ]
    },
    {
     "name": "stdout",
     "output_type": "stream",
     "text": [
      "Nome 'stretchedSociety_block_99_MAC004799.csv' escrito com sucesso em 'csv_.txt'\n",
      "stretchedSociety_block_99_MAC004799.csv adicionado a lista de pdv's problematicos \n",
      "Training model for # using establishedAffluence_block_35_MAC001111.csv\n",
      "9985\n",
      "Nome 'establishedAffluence_block_35_MAC001111.csv' escrito com sucesso em 'csv_.txt'\n",
      "establishedAffluence_block_35_MAC001111.csv adicionado a lista de pdv's problematicos \n",
      "Training model for dayofweek_num using establishedAffluence_block_35_MAC001111.csv\n",
      "9985\n"
     ]
    },
    {
     "name": "stderr",
     "output_type": "stream",
     "text": [
      "Seed set to 81\n",
      "Seed set to 81\n"
     ]
    },
    {
     "name": "stdout",
     "output_type": "stream",
     "text": [
      "Nome 'establishedAffluence_block_35_MAC001111.csv' escrito com sucesso em 'csv_.txt'\n",
      "establishedAffluence_block_35_MAC001111.csv adicionado a lista de pdv's problematicos \n",
      "Training model for hour using establishedAffluence_block_35_MAC001111.csv\n",
      "9985\n",
      "Nome 'establishedAffluence_block_35_MAC001111.csv' escrito com sucesso em 'csv_.txt'\n",
      "establishedAffluence_block_35_MAC001111.csv adicionado a lista de pdv's problematicos \n",
      "Training model for holiday using establishedAffluence_block_35_MAC001111.csv\n",
      "9985\n"
     ]
    },
    {
     "name": "stderr",
     "output_type": "stream",
     "text": [
      "Seed set to 81\n"
     ]
    },
    {
     "name": "stdout",
     "output_type": "stream",
     "text": [
      "Nome 'establishedAffluence_block_35_MAC001111.csv' escrito com sucesso em 'csv_.txt'\n",
      "establishedAffluence_block_35_MAC001111.csv adicionado a lista de pdv's problematicos \n",
      "Training model for precipType using establishedAffluence_block_35_MAC001111.csv\n",
      "9985\n",
      "Nome 'establishedAffluence_block_35_MAC001111.csv' escrito com sucesso em 'csv_.txt'\n",
      "establishedAffluence_block_35_MAC001111.csv adicionado a lista de pdv's problematicos \n"
     ]
    },
    {
     "name": "stderr",
     "output_type": "stream",
     "text": [
      "Seed set to 81\n",
      "Seed set to 81\n"
     ]
    },
    {
     "name": "stdout",
     "output_type": "stream",
     "text": [
      "Training model for month using establishedAffluence_block_35_MAC001111.csv\n",
      "9985\n",
      "Nome 'establishedAffluence_block_35_MAC001111.csv' escrito com sucesso em 'csv_.txt'\n",
      "establishedAffluence_block_35_MAC001111.csv adicionado a lista de pdv's problematicos \n",
      "Training model for bool_weather_missing_values using establishedAffluence_block_35_MAC001111.csv\n",
      "9985\n",
      "Nome 'establishedAffluence_block_35_MAC001111.csv' escrito com sucesso em 'csv_.txt'\n",
      "establishedAffluence_block_35_MAC001111.csv adicionado a lista de pdv's problematicos \n"
     ]
    },
    {
     "name": "stderr",
     "output_type": "stream",
     "text": [
      "Seed set to 81\n",
      "Seed set to 81\n"
     ]
    },
    {
     "name": "stdout",
     "output_type": "stream",
     "text": [
      "Training model for # using stretchedSociety_block_97_MAC001035.csv\n",
      "9985\n",
      "Nome 'stretchedSociety_block_97_MAC001035.csv' escrito com sucesso em 'csv_.txt'\n",
      "stretchedSociety_block_97_MAC001035.csv adicionado a lista de pdv's problematicos \n",
      "Training model for dayofweek_num using stretchedSociety_block_97_MAC001035.csv\n",
      "9985\n",
      "Nome 'stretchedSociety_block_97_MAC001035.csv' escrito com sucesso em 'csv_.txt'\n",
      "stretchedSociety_block_97_MAC001035.csv adicionado a lista de pdv's problematicos \n"
     ]
    },
    {
     "name": "stderr",
     "output_type": "stream",
     "text": [
      "Seed set to 81\n",
      "Seed set to 81\n"
     ]
    },
    {
     "name": "stdout",
     "output_type": "stream",
     "text": [
      "Training model for hour using stretchedSociety_block_97_MAC001035.csv\n",
      "9985\n",
      "Nome 'stretchedSociety_block_97_MAC001035.csv' escrito com sucesso em 'csv_.txt'\n",
      "stretchedSociety_block_97_MAC001035.csv adicionado a lista de pdv's problematicos \n",
      "Training model for holiday using stretchedSociety_block_97_MAC001035.csv\n",
      "9985\n",
      "Nome 'stretchedSociety_block_97_MAC001035.csv' escrito com sucesso em 'csv_.txt'\n",
      "stretchedSociety_block_97_MAC001035.csv adicionado a lista de pdv's problematicos \n"
     ]
    },
    {
     "name": "stderr",
     "output_type": "stream",
     "text": [
      "Seed set to 81\n",
      "Seed set to 81\n"
     ]
    },
    {
     "name": "stdout",
     "output_type": "stream",
     "text": [
      "Training model for precipType using stretchedSociety_block_97_MAC001035.csv\n",
      "9985\n",
      "Nome 'stretchedSociety_block_97_MAC001035.csv' escrito com sucesso em 'csv_.txt'\n",
      "stretchedSociety_block_97_MAC001035.csv adicionado a lista de pdv's problematicos \n",
      "Training model for month using stretchedSociety_block_97_MAC001035.csv\n",
      "9985\n"
     ]
    },
    {
     "name": "stderr",
     "output_type": "stream",
     "text": [
      "Seed set to 81\n",
      "Seed set to 81\n"
     ]
    },
    {
     "name": "stdout",
     "output_type": "stream",
     "text": [
      "Nome 'stretchedSociety_block_97_MAC001035.csv' escrito com sucesso em 'csv_.txt'\n",
      "stretchedSociety_block_97_MAC001035.csv adicionado a lista de pdv's problematicos \n",
      "Training model for bool_weather_missing_values using stretchedSociety_block_97_MAC001035.csv\n",
      "9985\n",
      "Nome 'stretchedSociety_block_97_MAC001035.csv' escrito com sucesso em 'csv_.txt'\n",
      "stretchedSociety_block_97_MAC001035.csv adicionado a lista de pdv's problematicos \n",
      "Training model for # using stretchedSociety_block_98_MAC004892.csv\n",
      "9985\n"
     ]
    },
    {
     "name": "stderr",
     "output_type": "stream",
     "text": [
      "Seed set to 81\n"
     ]
    },
    {
     "name": "stdout",
     "output_type": "stream",
     "text": [
      "Nome 'stretchedSociety_block_98_MAC004892.csv' escrito com sucesso em 'csv_.txt'\n",
      "stretchedSociety_block_98_MAC004892.csv adicionado a lista de pdv's problematicos \n",
      "Training model for dayofweek_num using stretchedSociety_block_98_MAC004892.csv\n",
      "9985\n",
      "Nome 'stretchedSociety_block_98_MAC004892.csv' escrito com sucesso em 'csv_.txt'\n",
      "stretchedSociety_block_98_MAC004892.csv adicionado a lista de pdv's problematicos \n",
      "Training model for hour using stretchedSociety_block_98_MAC004892.csv\n",
      "9985\n"
     ]
    },
    {
     "name": "stderr",
     "output_type": "stream",
     "text": [
      "Seed set to 81\n",
      "Seed set to 81\n"
     ]
    },
    {
     "name": "stdout",
     "output_type": "stream",
     "text": [
      "Nome 'stretchedSociety_block_98_MAC004892.csv' escrito com sucesso em 'csv_.txt'\n",
      "stretchedSociety_block_98_MAC004892.csv adicionado a lista de pdv's problematicos \n",
      "Training model for holiday using stretchedSociety_block_98_MAC004892.csv\n",
      "9985\n",
      "Nome 'stretchedSociety_block_98_MAC004892.csv' escrito com sucesso em 'csv_.txt'\n",
      "stretchedSociety_block_98_MAC004892.csv adicionado a lista de pdv's problematicos \n"
     ]
    },
    {
     "name": "stderr",
     "output_type": "stream",
     "text": [
      "Seed set to 81\n",
      "Seed set to 81\n"
     ]
    },
    {
     "name": "stdout",
     "output_type": "stream",
     "text": [
      "Training model for precipType using stretchedSociety_block_98_MAC004892.csv\n",
      "9985\n",
      "Nome 'stretchedSociety_block_98_MAC004892.csv' escrito com sucesso em 'csv_.txt'\n",
      "stretchedSociety_block_98_MAC004892.csv adicionado a lista de pdv's problematicos \n",
      "Training model for month using stretchedSociety_block_98_MAC004892.csv\n",
      "9985\n"
     ]
    },
    {
     "name": "stderr",
     "output_type": "stream",
     "text": [
      "Seed set to 81\n",
      "Seed set to 81\n"
     ]
    },
    {
     "name": "stdout",
     "output_type": "stream",
     "text": [
      "Nome 'stretchedSociety_block_98_MAC004892.csv' escrito com sucesso em 'csv_.txt'\n",
      "stretchedSociety_block_98_MAC004892.csv adicionado a lista de pdv's problematicos \n",
      "Training model for bool_weather_missing_values using stretchedSociety_block_98_MAC004892.csv\n",
      "9985\n",
      "Nome 'stretchedSociety_block_98_MAC004892.csv' escrito com sucesso em 'csv_.txt'\n",
      "stretchedSociety_block_98_MAC004892.csv adicionado a lista de pdv's problematicos \n",
      "Training model for # using establishedAffluence_block_11_MAC001980.csv\n",
      "9985\n"
     ]
    },
    {
     "name": "stderr",
     "output_type": "stream",
     "text": [
      "Seed set to 81\n"
     ]
    },
    {
     "name": "stdout",
     "output_type": "stream",
     "text": [
      "Nome 'establishedAffluence_block_11_MAC001980.csv' escrito com sucesso em 'csv_.txt'\n",
      "establishedAffluence_block_11_MAC001980.csv adicionado a lista de pdv's problematicos \n",
      "Training model for dayofweek_num using establishedAffluence_block_11_MAC001980.csv\n",
      "9985\n",
      "Nome 'establishedAffluence_block_11_MAC001980.csv' escrito com sucesso em 'csv_.txt'\n",
      "establishedAffluence_block_11_MAC001980.csv adicionado a lista de pdv's problematicos \n"
     ]
    },
    {
     "name": "stderr",
     "output_type": "stream",
     "text": [
      "Seed set to 81\n",
      "Seed set to 81\n"
     ]
    },
    {
     "name": "stdout",
     "output_type": "stream",
     "text": [
      "Training model for hour using establishedAffluence_block_11_MAC001980.csv\n",
      "9985\n",
      "Nome 'establishedAffluence_block_11_MAC001980.csv' escrito com sucesso em 'csv_.txt'\n",
      "establishedAffluence_block_11_MAC001980.csv adicionado a lista de pdv's problematicos \n",
      "Training model for holiday using establishedAffluence_block_11_MAC001980.csv\n",
      "9985\n"
     ]
    },
    {
     "name": "stderr",
     "output_type": "stream",
     "text": [
      "Seed set to 81\n",
      "Seed set to 81\n"
     ]
    },
    {
     "name": "stdout",
     "output_type": "stream",
     "text": [
      "Nome 'establishedAffluence_block_11_MAC001980.csv' escrito com sucesso em 'csv_.txt'\n",
      "establishedAffluence_block_11_MAC001980.csv adicionado a lista de pdv's problematicos \n",
      "Training model for precipType using establishedAffluence_block_11_MAC001980.csv\n",
      "9985\n",
      "Nome 'establishedAffluence_block_11_MAC001980.csv' escrito com sucesso em 'csv_.txt'\n",
      "establishedAffluence_block_11_MAC001980.csv adicionado a lista de pdv's problematicos \n",
      "Training model for month using establishedAffluence_block_11_MAC001980.csv\n",
      "9985\n"
     ]
    },
    {
     "name": "stderr",
     "output_type": "stream",
     "text": [
      "Seed set to 81\n"
     ]
    },
    {
     "name": "stdout",
     "output_type": "stream",
     "text": [
      "Nome 'establishedAffluence_block_11_MAC001980.csv' escrito com sucesso em 'csv_.txt'\n",
      "establishedAffluence_block_11_MAC001980.csv adicionado a lista de pdv's problematicos \n",
      "Training model for bool_weather_missing_values using establishedAffluence_block_11_MAC001980.csv\n",
      "9985\n",
      "Nome 'establishedAffluence_block_11_MAC001980.csv' escrito com sucesso em 'csv_.txt'\n",
      "establishedAffluence_block_11_MAC001980.csv adicionado a lista de pdv's problematicos \n"
     ]
    },
    {
     "name": "stderr",
     "output_type": "stream",
     "text": [
      "Seed set to 81\n",
      "Seed set to 81\n"
     ]
    },
    {
     "name": "stdout",
     "output_type": "stream",
     "text": [
      "Training model for # using establishedAffluence_block_10_MAC004178.csv\n",
      "8401\n",
      "Nome 'establishedAffluence_block_10_MAC004178.csv' escrito com sucesso em 'csv_.txt'\n",
      "establishedAffluence_block_10_MAC004178.csv adicionado a lista de pdv's problematicos \n",
      "Training model for dayofweek_num using establishedAffluence_block_10_MAC004178.csv\n",
      "8401\n"
     ]
    },
    {
     "name": "stderr",
     "output_type": "stream",
     "text": [
      "Seed set to 81\n"
     ]
    },
    {
     "name": "stdout",
     "output_type": "stream",
     "text": [
      "Nome 'establishedAffluence_block_10_MAC004178.csv' escrito com sucesso em 'csv_.txt'\n",
      "establishedAffluence_block_10_MAC004178.csv adicionado a lista de pdv's problematicos \n",
      "Training model for hour using establishedAffluence_block_10_MAC004178.csv\n",
      "8401\n",
      "Nome 'establishedAffluence_block_10_MAC004178.csv' escrito com sucesso em 'csv_.txt'\n",
      "establishedAffluence_block_10_MAC004178.csv adicionado a lista de pdv's problematicos \n"
     ]
    },
    {
     "name": "stderr",
     "output_type": "stream",
     "text": [
      "Seed set to 81\n",
      "Seed set to 81\n"
     ]
    },
    {
     "name": "stdout",
     "output_type": "stream",
     "text": [
      "Training model for holiday using establishedAffluence_block_10_MAC004178.csv\n",
      "8401\n",
      "Nome 'establishedAffluence_block_10_MAC004178.csv' escrito com sucesso em 'csv_.txt'\n",
      "establishedAffluence_block_10_MAC004178.csv adicionado a lista de pdv's problematicos \n",
      "Training model for precipType using establishedAffluence_block_10_MAC004178.csv\n",
      "8401\n"
     ]
    },
    {
     "name": "stderr",
     "output_type": "stream",
     "text": [
      "Seed set to 81\n",
      "Seed set to 81\n"
     ]
    },
    {
     "name": "stdout",
     "output_type": "stream",
     "text": [
      "Nome 'establishedAffluence_block_10_MAC004178.csv' escrito com sucesso em 'csv_.txt'\n",
      "establishedAffluence_block_10_MAC004178.csv adicionado a lista de pdv's problematicos \n",
      "Training model for month using establishedAffluence_block_10_MAC004178.csv\n",
      "8401\n",
      "Nome 'establishedAffluence_block_10_MAC004178.csv' escrito com sucesso em 'csv_.txt'\n",
      "establishedAffluence_block_10_MAC004178.csv adicionado a lista de pdv's problematicos \n",
      "Training model for bool_weather_missing_values using establishedAffluence_block_10_MAC004178.csv\n",
      "8401\n"
     ]
    },
    {
     "name": "stderr",
     "output_type": "stream",
     "text": [
      "Seed set to 81\n",
      "Seed set to 81\n"
     ]
    },
    {
     "name": "stdout",
     "output_type": "stream",
     "text": [
      "Nome 'establishedAffluence_block_10_MAC004178.csv' escrito com sucesso em 'csv_.txt'\n",
      "establishedAffluence_block_10_MAC004178.csv adicionado a lista de pdv's problematicos \n",
      "Training model for # using establishedAffluence_block_12_MAC002752.csv\n",
      "9985\n",
      "Nome 'establishedAffluence_block_12_MAC002752.csv' escrito com sucesso em 'csv_.txt'\n",
      "establishedAffluence_block_12_MAC002752.csv adicionado a lista de pdv's problematicos \n",
      "Training model for dayofweek_num using establishedAffluence_block_12_MAC002752.csv\n",
      "9985\n"
     ]
    },
    {
     "name": "stderr",
     "output_type": "stream",
     "text": [
      "Seed set to 81\n",
      "Seed set to 81\n"
     ]
    },
    {
     "name": "stdout",
     "output_type": "stream",
     "text": [
      "Nome 'establishedAffluence_block_12_MAC002752.csv' escrito com sucesso em 'csv_.txt'\n",
      "establishedAffluence_block_12_MAC002752.csv adicionado a lista de pdv's problematicos \n",
      "Training model for hour using establishedAffluence_block_12_MAC002752.csv\n",
      "9985\n",
      "Nome 'establishedAffluence_block_12_MAC002752.csv' escrito com sucesso em 'csv_.txt'\n",
      "establishedAffluence_block_12_MAC002752.csv adicionado a lista de pdv's problematicos \n",
      "Training model for holiday using establishedAffluence_block_12_MAC002752.csv\n",
      "9985\n"
     ]
    },
    {
     "name": "stderr",
     "output_type": "stream",
     "text": [
      "Seed set to 81\n",
      "Seed set to 81\n"
     ]
    },
    {
     "name": "stdout",
     "output_type": "stream",
     "text": [
      "Nome 'establishedAffluence_block_12_MAC002752.csv' escrito com sucesso em 'csv_.txt'\n",
      "establishedAffluence_block_12_MAC002752.csv adicionado a lista de pdv's problematicos \n",
      "Training model for precipType using establishedAffluence_block_12_MAC002752.csv\n",
      "9985\n",
      "Nome 'establishedAffluence_block_12_MAC002752.csv' escrito com sucesso em 'csv_.txt'\n",
      "establishedAffluence_block_12_MAC002752.csv adicionado a lista de pdv's problematicos \n",
      "Training model for month using establishedAffluence_block_12_MAC002752.csv\n",
      "9985\n",
      "Nome 'establishedAffluence_block_12_MAC002752.csv' escrito com sucesso em 'csv_.txt'\n",
      "establishedAffluence_block_12_MAC002752.csv adicionado a lista de pdv's problematicos \n"
     ]
    },
    {
     "name": "stderr",
     "output_type": "stream",
     "text": [
      "Seed set to 81\n",
      "Seed set to 81\n"
     ]
    },
    {
     "name": "stdout",
     "output_type": "stream",
     "text": [
      "Training model for bool_weather_missing_values using establishedAffluence_block_12_MAC002752.csv\n",
      "9985\n",
      "Nome 'establishedAffluence_block_12_MAC002752.csv' escrito com sucesso em 'csv_.txt'\n",
      "establishedAffluence_block_12_MAC002752.csv adicionado a lista de pdv's problematicos \n",
      "Training model for # using stretchedSociety_block_99_MAC004745.csv\n",
      "9985\n"
     ]
    },
    {
     "name": "stderr",
     "output_type": "stream",
     "text": [
      "Seed set to 81\n",
      "Seed set to 81\n"
     ]
    },
    {
     "name": "stdout",
     "output_type": "stream",
     "text": [
      "Nome 'stretchedSociety_block_99_MAC004745.csv' escrito com sucesso em 'csv_.txt'\n",
      "stretchedSociety_block_99_MAC004745.csv adicionado a lista de pdv's problematicos \n",
      "Training model for dayofweek_num using stretchedSociety_block_99_MAC004745.csv\n",
      "9985\n",
      "Nome 'stretchedSociety_block_99_MAC004745.csv' escrito com sucesso em 'csv_.txt'\n",
      "stretchedSociety_block_99_MAC004745.csv adicionado a lista de pdv's problematicos \n",
      "Training model for hour using stretchedSociety_block_99_MAC004745.csv\n",
      "9985\n",
      "Nome 'stretchedSociety_block_99_MAC004745.csv' escrito com sucesso em 'csv_.txt'\n",
      "stretchedSociety_block_99_MAC004745.csv adicionado a lista de pdv's problematicos \n"
     ]
    },
    {
     "name": "stderr",
     "output_type": "stream",
     "text": [
      "Seed set to 81\n",
      "Seed set to 81\n",
      "Seed set to 81\n"
     ]
    },
    {
     "name": "stdout",
     "output_type": "stream",
     "text": [
      "Training model for holiday using stretchedSociety_block_99_MAC004745.csv\n",
      "9985\n",
      "Nome 'stretchedSociety_block_99_MAC004745.csv' escrito com sucesso em 'csv_.txt'\n",
      "stretchedSociety_block_99_MAC004745.csv adicionado a lista de pdv's problematicos \n",
      "Training model for precipType using stretchedSociety_block_99_MAC004745.csv\n",
      "9985\n",
      "Nome 'stretchedSociety_block_99_MAC004745.csv' escrito com sucesso em 'csv_.txt'\n",
      "stretchedSociety_block_99_MAC004745.csv adicionado a lista de pdv's problematicos \n",
      "Training model for month using stretchedSociety_block_99_MAC004745.csv\n",
      "9985\n"
     ]
    },
    {
     "name": "stderr",
     "output_type": "stream",
     "text": [
      "Seed set to 81\n",
      "Seed set to 81\n"
     ]
    },
    {
     "name": "stdout",
     "output_type": "stream",
     "text": [
      "Nome 'stretchedSociety_block_99_MAC004745.csv' escrito com sucesso em 'csv_.txt'\n",
      "stretchedSociety_block_99_MAC004745.csv adicionado a lista de pdv's problematicos \n",
      "Training model for bool_weather_missing_values using stretchedSociety_block_99_MAC004745.csv\n",
      "9985\n",
      "Nome 'stretchedSociety_block_99_MAC004745.csv' escrito com sucesso em 'csv_.txt'\n",
      "stretchedSociety_block_99_MAC004745.csv adicionado a lista de pdv's problematicos \n",
      "Training model for # using stretchedSociety_block_98_MAC004064.csv\n",
      "9985\n"
     ]
    },
    {
     "name": "stderr",
     "output_type": "stream",
     "text": [
      "Seed set to 81\n",
      "Seed set to 81\n"
     ]
    },
    {
     "name": "stdout",
     "output_type": "stream",
     "text": [
      "Nome 'stretchedSociety_block_98_MAC004064.csv' escrito com sucesso em 'csv_.txt'\n",
      "stretchedSociety_block_98_MAC004064.csv adicionado a lista de pdv's problematicos \n",
      "Training model for dayofweek_num using stretchedSociety_block_98_MAC004064.csv\n",
      "9985\n",
      "Nome 'stretchedSociety_block_98_MAC004064.csv' escrito com sucesso em 'csv_.txt'\n",
      "stretchedSociety_block_98_MAC004064.csv adicionado a lista de pdv's problematicos \n",
      "Training model for hour using stretchedSociety_block_98_MAC004064.csv\n",
      "9985\n"
     ]
    },
    {
     "name": "stderr",
     "output_type": "stream",
     "text": [
      "Seed set to 81\n",
      "Seed set to 81\n"
     ]
    },
    {
     "name": "stdout",
     "output_type": "stream",
     "text": [
      "Nome 'stretchedSociety_block_98_MAC004064.csv' escrito com sucesso em 'csv_.txt'\n",
      "stretchedSociety_block_98_MAC004064.csv adicionado a lista de pdv's problematicos \n",
      "Training model for holiday using stretchedSociety_block_98_MAC004064.csv\n",
      "9985\n",
      "Nome 'stretchedSociety_block_98_MAC004064.csv' escrito com sucesso em 'csv_.txt'\n",
      "stretchedSociety_block_98_MAC004064.csv adicionado a lista de pdv's problematicos \n",
      "Training model for precipType using stretchedSociety_block_98_MAC004064.csv\n",
      "9985\n"
     ]
    },
    {
     "name": "stderr",
     "output_type": "stream",
     "text": [
      "Seed set to 81\n",
      "Seed set to 81\n"
     ]
    },
    {
     "name": "stdout",
     "output_type": "stream",
     "text": [
      "Nome 'stretchedSociety_block_98_MAC004064.csv' escrito com sucesso em 'csv_.txt'\n",
      "stretchedSociety_block_98_MAC004064.csv adicionado a lista de pdv's problematicos \n",
      "Training model for month using stretchedSociety_block_98_MAC004064.csv\n",
      "9985\n",
      "Nome 'stretchedSociety_block_98_MAC004064.csv' escrito com sucesso em 'csv_.txt'\n",
      "stretchedSociety_block_98_MAC004064.csv adicionado a lista de pdv's problematicos \n",
      "Training model for bool_weather_missing_values using stretchedSociety_block_98_MAC004064.csv\n",
      "9985\n"
     ]
    },
    {
     "name": "stderr",
     "output_type": "stream",
     "text": [
      "Seed set to 81\n",
      "Seed set to 81\n"
     ]
    },
    {
     "name": "stdout",
     "output_type": "stream",
     "text": [
      "Nome 'stretchedSociety_block_98_MAC004064.csv' escrito com sucesso em 'csv_.txt'\n",
      "stretchedSociety_block_98_MAC004064.csv adicionado a lista de pdv's problematicos \n",
      "Training model for # using establishedAffluence_block_32_MAC001433.csv\n",
      "9985\n",
      "Nome 'establishedAffluence_block_32_MAC001433.csv' escrito com sucesso em 'csv_.txt'\n",
      "establishedAffluence_block_32_MAC001433.csv adicionado a lista de pdv's problematicos \n",
      "Training model for dayofweek_num using establishedAffluence_block_32_MAC001433.csv\n",
      "9985\n"
     ]
    },
    {
     "name": "stderr",
     "output_type": "stream",
     "text": [
      "Seed set to 81\n",
      "Seed set to 81\n"
     ]
    },
    {
     "name": "stdout",
     "output_type": "stream",
     "text": [
      "Nome 'establishedAffluence_block_32_MAC001433.csv' escrito com sucesso em 'csv_.txt'\n",
      "establishedAffluence_block_32_MAC001433.csv adicionado a lista de pdv's problematicos \n",
      "Training model for hour using establishedAffluence_block_32_MAC001433.csv\n",
      "9985\n",
      "Nome 'establishedAffluence_block_32_MAC001433.csv' escrito com sucesso em 'csv_.txt'\n",
      "establishedAffluence_block_32_MAC001433.csv adicionado a lista de pdv's problematicos \n",
      "Training model for holiday using establishedAffluence_block_32_MAC001433.csv\n",
      "9985\n"
     ]
    },
    {
     "name": "stderr",
     "output_type": "stream",
     "text": [
      "Seed set to 81\n",
      "Seed set to 81\n"
     ]
    },
    {
     "name": "stdout",
     "output_type": "stream",
     "text": [
      "Nome 'establishedAffluence_block_32_MAC001433.csv' escrito com sucesso em 'csv_.txt'\n",
      "establishedAffluence_block_32_MAC001433.csv adicionado a lista de pdv's problematicos \n",
      "Training model for precipType using establishedAffluence_block_32_MAC001433.csv\n",
      "9985\n",
      "Nome 'establishedAffluence_block_32_MAC001433.csv' escrito com sucesso em 'csv_.txt'\n",
      "establishedAffluence_block_32_MAC001433.csv adicionado a lista de pdv's problematicos \n",
      "Training model for month using establishedAffluence_block_32_MAC001433.csv\n",
      "9985\n"
     ]
    },
    {
     "name": "stderr",
     "output_type": "stream",
     "text": [
      "Seed set to 81\n",
      "Seed set to 81\n"
     ]
    },
    {
     "name": "stdout",
     "output_type": "stream",
     "text": [
      "Nome 'establishedAffluence_block_32_MAC001433.csv' escrito com sucesso em 'csv_.txt'\n",
      "establishedAffluence_block_32_MAC001433.csv adicionado a lista de pdv's problematicos \n",
      "Training model for bool_weather_missing_values using establishedAffluence_block_32_MAC001433.csv\n",
      "9985\n",
      "Nome 'establishedAffluence_block_32_MAC001433.csv' escrito com sucesso em 'csv_.txt'\n",
      "establishedAffluence_block_32_MAC001433.csv adicionado a lista de pdv's problematicos \n",
      "Training model for # using stretchedSociety_block_100_MAC002898.csv\n",
      "9985\n"
     ]
    },
    {
     "name": "stderr",
     "output_type": "stream",
     "text": [
      "Seed set to 81\n"
     ]
    },
    {
     "name": "stdout",
     "output_type": "stream",
     "text": [
      "Nome 'stretchedSociety_block_100_MAC002898.csv' escrito com sucesso em 'csv_.txt'\n",
      "stretchedSociety_block_100_MAC002898.csv adicionado a lista de pdv's problematicos \n",
      "Training model for dayofweek_num using stretchedSociety_block_100_MAC002898.csv\n",
      "9985\n",
      "Nome 'stretchedSociety_block_100_MAC002898.csv' escrito com sucesso em 'csv_.txt'\n",
      "stretchedSociety_block_100_MAC002898.csv adicionado a lista de pdv's problematicos \n"
     ]
    },
    {
     "name": "stderr",
     "output_type": "stream",
     "text": [
      "Seed set to 81\n",
      "Seed set to 81\n"
     ]
    },
    {
     "name": "stdout",
     "output_type": "stream",
     "text": [
      "Training model for hour using stretchedSociety_block_100_MAC002898.csv\n",
      "9985\n",
      "Nome 'stretchedSociety_block_100_MAC002898.csv' escrito com sucesso em 'csv_.txt'\n",
      "stretchedSociety_block_100_MAC002898.csv adicionado a lista de pdv's problematicos \n",
      "Training model for holiday using stretchedSociety_block_100_MAC002898.csv\n",
      "9985\n",
      "Nome 'stretchedSociety_block_100_MAC002898.csv' escrito com sucesso em 'csv_.txt'\n",
      "stretchedSociety_block_100_MAC002898.csv adicionado a lista de pdv's problematicos \n"
     ]
    },
    {
     "name": "stderr",
     "output_type": "stream",
     "text": [
      "Seed set to 81\n",
      "Seed set to 81\n"
     ]
    },
    {
     "name": "stdout",
     "output_type": "stream",
     "text": [
      "Training model for precipType using stretchedSociety_block_100_MAC002898.csv\n",
      "9985\n",
      "Nome 'stretchedSociety_block_100_MAC002898.csv' escrito com sucesso em 'csv_.txt'\n",
      "stretchedSociety_block_100_MAC002898.csv adicionado a lista de pdv's problematicos \n",
      "Training model for month using stretchedSociety_block_100_MAC002898.csv\n",
      "9985\n"
     ]
    },
    {
     "name": "stderr",
     "output_type": "stream",
     "text": [
      "Seed set to 81\n",
      "Seed set to 81\n"
     ]
    },
    {
     "name": "stdout",
     "output_type": "stream",
     "text": [
      "Nome 'stretchedSociety_block_100_MAC002898.csv' escrito com sucesso em 'csv_.txt'\n",
      "stretchedSociety_block_100_MAC002898.csv adicionado a lista de pdv's problematicos \n",
      "Training model for bool_weather_missing_values using stretchedSociety_block_100_MAC002898.csv\n",
      "9985\n",
      "Nome 'stretchedSociety_block_100_MAC002898.csv' escrito com sucesso em 'csv_.txt'\n",
      "stretchedSociety_block_100_MAC002898.csv adicionado a lista de pdv's problematicos \n",
      "Training model for # using stretchedSociety_block_97_MAC001314.csv\n",
      "9985\n"
     ]
    },
    {
     "name": "stderr",
     "output_type": "stream",
     "text": [
      "Seed set to 81\n",
      "Seed set to 81\n"
     ]
    },
    {
     "name": "stdout",
     "output_type": "stream",
     "text": [
      "Nome 'stretchedSociety_block_97_MAC001314.csv' escrito com sucesso em 'csv_.txt'\n",
      "stretchedSociety_block_97_MAC001314.csv adicionado a lista de pdv's problematicos \n",
      "Training model for dayofweek_num using stretchedSociety_block_97_MAC001314.csv\n",
      "9985\n",
      "Nome 'stretchedSociety_block_97_MAC001314.csv' escrito com sucesso em 'csv_.txt'\n",
      "stretchedSociety_block_97_MAC001314.csv adicionado a lista de pdv's problematicos \n",
      "Training model for hour using stretchedSociety_block_97_MAC001314.csv\n",
      "9985\n"
     ]
    },
    {
     "name": "stderr",
     "output_type": "stream",
     "text": [
      "Seed set to 81\n",
      "Seed set to 81\n"
     ]
    },
    {
     "name": "stdout",
     "output_type": "stream",
     "text": [
      "Nome 'stretchedSociety_block_97_MAC001314.csv' escrito com sucesso em 'csv_.txt'\n",
      "stretchedSociety_block_97_MAC001314.csv adicionado a lista de pdv's problematicos \n",
      "Training model for holiday using stretchedSociety_block_97_MAC001314.csv\n",
      "9985\n",
      "Nome 'stretchedSociety_block_97_MAC001314.csv' escrito com sucesso em 'csv_.txt'\n",
      "stretchedSociety_block_97_MAC001314.csv adicionado a lista de pdv's problematicos \n",
      "Training model for precipType using stretchedSociety_block_97_MAC001314.csv\n",
      "9985\n"
     ]
    },
    {
     "name": "stderr",
     "output_type": "stream",
     "text": [
      "Seed set to 81\n",
      "Seed set to 81\n"
     ]
    },
    {
     "name": "stdout",
     "output_type": "stream",
     "text": [
      "Nome 'stretchedSociety_block_97_MAC001314.csv' escrito com sucesso em 'csv_.txt'\n",
      "stretchedSociety_block_97_MAC001314.csv adicionado a lista de pdv's problematicos \n",
      "Training model for month using stretchedSociety_block_97_MAC001314.csv\n",
      "9985\n",
      "Nome 'stretchedSociety_block_97_MAC001314.csv' escrito com sucesso em 'csv_.txt'\n",
      "stretchedSociety_block_97_MAC001314.csv adicionado a lista de pdv's problematicos \n",
      "Training model for bool_weather_missing_values using stretchedSociety_block_97_MAC001314.csv\n",
      "9985\n"
     ]
    },
    {
     "name": "stderr",
     "output_type": "stream",
     "text": [
      "Seed set to 81\n",
      "Seed set to 81\n"
     ]
    },
    {
     "name": "stdout",
     "output_type": "stream",
     "text": [
      "Nome 'stretchedSociety_block_97_MAC001314.csv' escrito com sucesso em 'csv_.txt'\n",
      "stretchedSociety_block_97_MAC001314.csv adicionado a lista de pdv's problematicos \n",
      "Training model for # using stretchedSociety_block_100_MAC003020.csv\n",
      "9985\n",
      "Nome 'stretchedSociety_block_100_MAC003020.csv' escrito com sucesso em 'csv_.txt'\n",
      "stretchedSociety_block_100_MAC003020.csv adicionado a lista de pdv's problematicos \n",
      "Training model for dayofweek_num using stretchedSociety_block_100_MAC003020.csv\n",
      "9985\n"
     ]
    },
    {
     "name": "stderr",
     "output_type": "stream",
     "text": [
      "Seed set to 81\n",
      "Seed set to 81\n"
     ]
    },
    {
     "name": "stdout",
     "output_type": "stream",
     "text": [
      "Nome 'stretchedSociety_block_100_MAC003020.csv' escrito com sucesso em 'csv_.txt'\n",
      "stretchedSociety_block_100_MAC003020.csv adicionado a lista de pdv's problematicos \n",
      "Training model for hour using stretchedSociety_block_100_MAC003020.csv\n",
      "9985\n",
      "Nome 'stretchedSociety_block_100_MAC003020.csv' escrito com sucesso em 'csv_.txt'\n",
      "stretchedSociety_block_100_MAC003020.csv adicionado a lista de pdv's problematicos \n",
      "Training model for holiday using stretchedSociety_block_100_MAC003020.csv\n",
      "9985\n"
     ]
    },
    {
     "name": "stderr",
     "output_type": "stream",
     "text": [
      "Seed set to 81\n",
      "Seed set to 81\n"
     ]
    },
    {
     "name": "stdout",
     "output_type": "stream",
     "text": [
      "Nome 'stretchedSociety_block_100_MAC003020.csv' escrito com sucesso em 'csv_.txt'\n",
      "stretchedSociety_block_100_MAC003020.csv adicionado a lista de pdv's problematicos \n",
      "Training model for precipType using stretchedSociety_block_100_MAC003020.csv\n",
      "9985\n",
      "Nome 'stretchedSociety_block_100_MAC003020.csv' escrito com sucesso em 'csv_.txt'\n",
      "stretchedSociety_block_100_MAC003020.csv adicionado a lista de pdv's problematicos \n",
      "Training model for month using stretchedSociety_block_100_MAC003020.csv\n",
      "9985\n"
     ]
    },
    {
     "name": "stderr",
     "output_type": "stream",
     "text": [
      "Seed set to 81\n",
      "Seed set to 81\n"
     ]
    },
    {
     "name": "stdout",
     "output_type": "stream",
     "text": [
      "Nome 'stretchedSociety_block_100_MAC003020.csv' escrito com sucesso em 'csv_.txt'\n",
      "stretchedSociety_block_100_MAC003020.csv adicionado a lista de pdv's problematicos \n",
      "Training model for bool_weather_missing_values using stretchedSociety_block_100_MAC003020.csv\n",
      "9985\n",
      "Nome 'stretchedSociety_block_100_MAC003020.csv' escrito com sucesso em 'csv_.txt'\n",
      "stretchedSociety_block_100_MAC003020.csv adicionado a lista de pdv's problematicos \n",
      "Training model for # using establishedAffluence_block_19_MAC005426.csv\n",
      "9985\n"
     ]
    },
    {
     "name": "stderr",
     "output_type": "stream",
     "text": [
      "Seed set to 81\n",
      "Seed set to 81\n"
     ]
    },
    {
     "name": "stdout",
     "output_type": "stream",
     "text": [
      "Nome 'establishedAffluence_block_19_MAC005426.csv' escrito com sucesso em 'csv_.txt'\n",
      "establishedAffluence_block_19_MAC005426.csv adicionado a lista de pdv's problematicos \n",
      "Training model for dayofweek_num using establishedAffluence_block_19_MAC005426.csv\n",
      "9985\n",
      "Nome 'establishedAffluence_block_19_MAC005426.csv' escrito com sucesso em 'csv_.txt'\n",
      "establishedAffluence_block_19_MAC005426.csv adicionado a lista de pdv's problematicos \n",
      "Training model for hour using establishedAffluence_block_19_MAC005426.csv\n",
      "9985\n"
     ]
    },
    {
     "name": "stderr",
     "output_type": "stream",
     "text": [
      "Seed set to 81\n",
      "Seed set to 81\n"
     ]
    },
    {
     "name": "stdout",
     "output_type": "stream",
     "text": [
      "Nome 'establishedAffluence_block_19_MAC005426.csv' escrito com sucesso em 'csv_.txt'\n",
      "establishedAffluence_block_19_MAC005426.csv adicionado a lista de pdv's problematicos \n",
      "Training model for holiday using establishedAffluence_block_19_MAC005426.csv\n",
      "9985\n",
      "Nome 'establishedAffluence_block_19_MAC005426.csv' escrito com sucesso em 'csv_.txt'\n",
      "establishedAffluence_block_19_MAC005426.csv adicionado a lista de pdv's problematicos \n",
      "Training model for precipType using establishedAffluence_block_19_MAC005426.csv\n",
      "9985\n"
     ]
    },
    {
     "name": "stderr",
     "output_type": "stream",
     "text": [
      "Seed set to 81\n"
     ]
    },
    {
     "name": "stdout",
     "output_type": "stream",
     "text": [
      "Nome 'establishedAffluence_block_19_MAC005426.csv' escrito com sucesso em 'csv_.txt'\n",
      "establishedAffluence_block_19_MAC005426.csv adicionado a lista de pdv's problematicos \n",
      "Training model for month using establishedAffluence_block_19_MAC005426.csv\n",
      "9985\n",
      "Nome 'establishedAffluence_block_19_MAC005426.csv' escrito com sucesso em 'csv_.txt'\n",
      "establishedAffluence_block_19_MAC005426.csv adicionado a lista de pdv's problematicos \n"
     ]
    },
    {
     "name": "stderr",
     "output_type": "stream",
     "text": [
      "Seed set to 81\n",
      "Seed set to 81\n"
     ]
    },
    {
     "name": "stdout",
     "output_type": "stream",
     "text": [
      "Training model for bool_weather_missing_values using establishedAffluence_block_19_MAC005426.csv\n",
      "9985\n",
      "Nome 'establishedAffluence_block_19_MAC005426.csv' escrito com sucesso em 'csv_.txt'\n",
      "establishedAffluence_block_19_MAC005426.csv adicionado a lista de pdv's problematicos \n",
      "Training model for # using stretchedSociety_block_97_MAC000696.csv\n",
      "9985\n"
     ]
    },
    {
     "name": "stderr",
     "output_type": "stream",
     "text": [
      "Seed set to 81\n",
      "Seed set to 81\n"
     ]
    },
    {
     "name": "stdout",
     "output_type": "stream",
     "text": [
      "Nome 'stretchedSociety_block_97_MAC000696.csv' escrito com sucesso em 'csv_.txt'\n",
      "stretchedSociety_block_97_MAC000696.csv adicionado a lista de pdv's problematicos \n",
      "Training model for dayofweek_num using stretchedSociety_block_97_MAC000696.csv\n",
      "9985\n",
      "Nome 'stretchedSociety_block_97_MAC000696.csv' escrito com sucesso em 'csv_.txt'\n",
      "stretchedSociety_block_97_MAC000696.csv adicionado a lista de pdv's problematicos \n",
      "Training model for hour using stretchedSociety_block_97_MAC000696.csv\n",
      "9985\n"
     ]
    },
    {
     "name": "stderr",
     "output_type": "stream",
     "text": [
      "Seed set to 81\n",
      "Seed set to 81\n"
     ]
    },
    {
     "name": "stdout",
     "output_type": "stream",
     "text": [
      "Nome 'stretchedSociety_block_97_MAC000696.csv' escrito com sucesso em 'csv_.txt'\n",
      "stretchedSociety_block_97_MAC000696.csv adicionado a lista de pdv's problematicos \n",
      "Training model for holiday using stretchedSociety_block_97_MAC000696.csv\n",
      "9985\n",
      "Nome 'stretchedSociety_block_97_MAC000696.csv' escrito com sucesso em 'csv_.txt'\n",
      "stretchedSociety_block_97_MAC000696.csv adicionado a lista de pdv's problematicos \n",
      "Training model for precipType using stretchedSociety_block_97_MAC000696.csv\n",
      "9985\n"
     ]
    },
    {
     "name": "stderr",
     "output_type": "stream",
     "text": [
      "Seed set to 81\n",
      "Seed set to 81\n"
     ]
    },
    {
     "name": "stdout",
     "output_type": "stream",
     "text": [
      "Nome 'stretchedSociety_block_97_MAC000696.csv' escrito com sucesso em 'csv_.txt'\n",
      "stretchedSociety_block_97_MAC000696.csv adicionado a lista de pdv's problematicos \n",
      "Training model for month using stretchedSociety_block_97_MAC000696.csv\n",
      "9985\n",
      "Nome 'stretchedSociety_block_97_MAC000696.csv' escrito com sucesso em 'csv_.txt'\n",
      "stretchedSociety_block_97_MAC000696.csv adicionado a lista de pdv's problematicos \n",
      "Training model for bool_weather_missing_values using stretchedSociety_block_97_MAC000696.csv\n",
      "9985\n"
     ]
    },
    {
     "name": "stderr",
     "output_type": "stream",
     "text": [
      "Seed set to 81\n",
      "Seed set to 81\n"
     ]
    },
    {
     "name": "stdout",
     "output_type": "stream",
     "text": [
      "Nome 'stretchedSociety_block_97_MAC000696.csv' escrito com sucesso em 'csv_.txt'\n",
      "stretchedSociety_block_97_MAC000696.csv adicionado a lista de pdv's problematicos \n",
      "Training model for # using establishedAffluence_block_10_MAC001869.csv\n",
      "9985\n",
      "Nome 'establishedAffluence_block_10_MAC001869.csv' escrito com sucesso em 'csv_.txt'\n",
      "establishedAffluence_block_10_MAC001869.csv adicionado a lista de pdv's problematicos \n",
      "Training model for dayofweek_num using establishedAffluence_block_10_MAC001869.csv\n",
      "9985\n"
     ]
    },
    {
     "name": "stderr",
     "output_type": "stream",
     "text": [
      "Seed set to 81\n",
      "Seed set to 81\n"
     ]
    },
    {
     "name": "stdout",
     "output_type": "stream",
     "text": [
      "Nome 'establishedAffluence_block_10_MAC001869.csv' escrito com sucesso em 'csv_.txt'\n",
      "establishedAffluence_block_10_MAC001869.csv adicionado a lista de pdv's problematicos \n",
      "Training model for hour using establishedAffluence_block_10_MAC001869.csv\n",
      "9985\n",
      "Nome 'establishedAffluence_block_10_MAC001869.csv' escrito com sucesso em 'csv_.txt'\n",
      "establishedAffluence_block_10_MAC001869.csv adicionado a lista de pdv's problematicos \n",
      "Training model for holiday using establishedAffluence_block_10_MAC001869.csv\n",
      "9985\n"
     ]
    },
    {
     "name": "stderr",
     "output_type": "stream",
     "text": [
      "Seed set to 81\n",
      "Seed set to 81\n"
     ]
    },
    {
     "name": "stdout",
     "output_type": "stream",
     "text": [
      "Nome 'establishedAffluence_block_10_MAC001869.csv' escrito com sucesso em 'csv_.txt'\n",
      "establishedAffluence_block_10_MAC001869.csv adicionado a lista de pdv's problematicos \n",
      "Training model for precipType using establishedAffluence_block_10_MAC001869.csv\n",
      "9985\n",
      "Nome 'establishedAffluence_block_10_MAC001869.csv' escrito com sucesso em 'csv_.txt'\n",
      "establishedAffluence_block_10_MAC001869.csv adicionado a lista de pdv's problematicos \n",
      "Training model for month using establishedAffluence_block_10_MAC001869.csv\n",
      "9985\n"
     ]
    },
    {
     "name": "stderr",
     "output_type": "stream",
     "text": [
      "Seed set to 81\n",
      "Seed set to 81\n"
     ]
    },
    {
     "name": "stdout",
     "output_type": "stream",
     "text": [
      "Nome 'establishedAffluence_block_10_MAC001869.csv' escrito com sucesso em 'csv_.txt'\n",
      "establishedAffluence_block_10_MAC001869.csv adicionado a lista de pdv's problematicos \n",
      "Training model for bool_weather_missing_values using establishedAffluence_block_10_MAC001869.csv\n",
      "9985\n",
      "Nome 'establishedAffluence_block_10_MAC001869.csv' escrito com sucesso em 'csv_.txt'\n",
      "establishedAffluence_block_10_MAC001869.csv adicionado a lista de pdv's problematicos \n",
      "Training model for # using stretchedSociety_block_104_MAC000090.csv\n",
      "9985\n"
     ]
    },
    {
     "name": "stderr",
     "output_type": "stream",
     "text": [
      "Seed set to 81\n",
      "Seed set to 81\n"
     ]
    },
    {
     "name": "stdout",
     "output_type": "stream",
     "text": [
      "Nome 'stretchedSociety_block_104_MAC000090.csv' escrito com sucesso em 'csv_.txt'\n",
      "stretchedSociety_block_104_MAC000090.csv adicionado a lista de pdv's problematicos \n",
      "Training model for dayofweek_num using stretchedSociety_block_104_MAC000090.csv\n",
      "9985\n",
      "Nome 'stretchedSociety_block_104_MAC000090.csv' escrito com sucesso em 'csv_.txt'\n",
      "stretchedSociety_block_104_MAC000090.csv adicionado a lista de pdv's problematicos \n",
      "Training model for hour using stretchedSociety_block_104_MAC000090.csv\n",
      "9985\n"
     ]
    },
    {
     "name": "stderr",
     "output_type": "stream",
     "text": [
      "Seed set to 81\n"
     ]
    },
    {
     "name": "stdout",
     "output_type": "stream",
     "text": [
      "Nome 'stretchedSociety_block_104_MAC000090.csv' escrito com sucesso em 'csv_.txt'\n",
      "stretchedSociety_block_104_MAC000090.csv adicionado a lista de pdv's problematicos \n",
      "Training model for holiday using stretchedSociety_block_104_MAC000090.csv\n",
      "9985\n"
     ]
    },
    {
     "name": "stderr",
     "output_type": "stream",
     "text": [
      "Seed set to 81\n"
     ]
    },
    {
     "name": "stdout",
     "output_type": "stream",
     "text": [
      "Nome 'stretchedSociety_block_104_MAC000090.csv' escrito com sucesso em 'csv_.txt'\n",
      "stretchedSociety_block_104_MAC000090.csv adicionado a lista de pdv's problematicos \n",
      "Training model for precipType using stretchedSociety_block_104_MAC000090.csv\n",
      "9985\n",
      "Nome 'stretchedSociety_block_104_MAC000090.csv' escrito com sucesso em 'csv_.txt'\n",
      "stretchedSociety_block_104_MAC000090.csv adicionado a lista de pdv's problematicos \n"
     ]
    },
    {
     "name": "stderr",
     "output_type": "stream",
     "text": [
      "Seed set to 81\n",
      "Seed set to 81\n"
     ]
    },
    {
     "name": "stdout",
     "output_type": "stream",
     "text": [
      "Training model for month using stretchedSociety_block_104_MAC000090.csv\n",
      "9985\n",
      "Nome 'stretchedSociety_block_104_MAC000090.csv' escrito com sucesso em 'csv_.txt'\n",
      "stretchedSociety_block_104_MAC000090.csv adicionado a lista de pdv's problematicos \n",
      "Training model for bool_weather_missing_values using stretchedSociety_block_104_MAC000090.csv\n",
      "9985\n"
     ]
    },
    {
     "name": "stderr",
     "output_type": "stream",
     "text": [
      "Seed set to 81\n"
     ]
    }
   ],
   "source": [
    "\n",
    "for csv in os.listdir(config.paths.data_dir)[64:]:\n",
    "    csv_treinados = verificar_csvs_em_subpastas(\"eval_metrics\",os.listdir(\"../EDA/dataframe_model/\"))\n",
    "    csv_problematicos = ler_nomes_csv()\n",
    "    if csv in csv_problematicos:\n",
    "        continue\n",
    "    elif csv in csv_treinados:\n",
    "        continue\n",
    "    for folder_name,comb_features in feature_combination.items():\n",
    "        if comb_features[0] == \"#\":\n",
    "            comb_features = ['time_idx']\n",
    "        if csv in csv_problematicos:\n",
    "            continue\n",
    "        elif csv in csv_treinados:\n",
    "            continue\n",
    "        try:\n",
    "            df = get_csv(config.paths.data_dir + csv)\n",
    "            print(f\"Training model for {folder_name} using {csv}\")\n",
    "            print(len(df)-168)\n",
    "            run_RNN_model(df,\n",
    "                            max_prediction_length = 168,\n",
    "                            max_encoder_length = len(df)-168,\n",
    "                            covariates = comb_features,\n",
    "                            csv_file_name = csv,\n",
    "                            cell_type = \"LSTM\",\n",
    "                            path_pred = config.paths.pred_folder + folder_name+'/',\n",
    "                            path_metrics_val=config.paths.eval_folder + folder_name+'/')\n",
    "        except:\n",
    "            escrever_nome_csv(csv)\n",
    "            print(f\"{csv} adicionado a lista de pdv's problematicos \")"
   ]
  },
  {
   "cell_type": "code",
   "execution_count": null,
   "metadata": {},
   "outputs": [],
   "source": []
  }
 ],
 "metadata": {
  "kernelspec": {
   "display_name": "tensorflow-park",
   "language": "python",
   "name": "python3"
  },
  "language_info": {
   "codemirror_mode": {
    "name": "ipython",
    "version": 3
   },
   "file_extension": ".py",
   "mimetype": "text/x-python",
   "name": "python",
   "nbconvert_exporter": "python",
   "pygments_lexer": "ipython3",
   "version": "3.10.14"
  }
 },
 "nbformat": 4,
 "nbformat_minor": 2
}
